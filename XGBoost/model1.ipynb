{
 "cells": [
  {
   "cell_type": "markdown",
   "id": "3230fc08",
   "metadata": {},
   "source": [
    "# LSTM+XGBoost Model "
   ]
  },
  {
   "cell_type": "code",
   "execution_count": 1,
   "id": "2853ec86",
   "metadata": {},
   "outputs": [
    {
     "name": "stderr",
     "output_type": "stream",
     "text": [
      "/home/Shamith/anaconda3/envs/DWG-Crypto/lib/python3.11/site-packages/xgboost/core.py:377: FutureWarning: Your system has an old version of glibc (< 2.28). We will stop supporting Linux distros with glibc older than 2.28 after **May 31, 2025**. Please upgrade to a recent Linux distro (with glibc >= 2.28) to use future versions of XGBoost.\n",
      "Note: You have installed the 'manylinux2014' variant of XGBoost. Certain features such as GPU algorithms or federated learning are not available. To use these features, please upgrade to a recent Linux distro with glibc 2.28+, and install the 'manylinux_2_28' variant.\n",
      "  warnings.warn(\n"
     ]
    }
   ],
   "source": [
    "import pandas as pd\n",
    "import numpy as np\n",
    "import matplotlib.pyplot as plt\n",
    "\n",
    "import xgboost as xgb\n",
    "from sklearn.model_selection import train_test_split\n",
    "from sklearn.metrics import mean_squared_error\n",
    "\n",
    "from pathlib import Path"
   ]
  },
  {
   "cell_type": "markdown",
   "id": "2277d283",
   "metadata": {},
   "source": [
    "Find and import parquet files"
   ]
  },
  {
   "cell_type": "code",
   "execution_count": 2,
   "id": "26823969",
   "metadata": {},
   "outputs": [
    {
     "name": "stdout",
     "output_type": "stream",
     "text": [
      "/mnt/windows/ProgrammingStuff/Projects/DRW-Crypto-Kaggle/train.parquet\n"
     ]
    },
    {
     "data": {
      "application/vnd.microsoft.datawrangler.viewer.v0+json": {
       "columns": [
        {
         "name": "timestamp",
         "rawType": "datetime64[ns]",
         "type": "datetime"
        },
        {
         "name": "bid_qty",
         "rawType": "float64",
         "type": "float"
        },
        {
         "name": "ask_qty",
         "rawType": "float64",
         "type": "float"
        },
        {
         "name": "buy_qty",
         "rawType": "float64",
         "type": "float"
        },
        {
         "name": "sell_qty",
         "rawType": "float64",
         "type": "float"
        },
        {
         "name": "volume",
         "rawType": "float64",
         "type": "float"
        },
        {
         "name": "X1",
         "rawType": "float64",
         "type": "float"
        },
        {
         "name": "X2",
         "rawType": "float64",
         "type": "float"
        },
        {
         "name": "X3",
         "rawType": "float64",
         "type": "float"
        },
        {
         "name": "X4",
         "rawType": "float64",
         "type": "float"
        },
        {
         "name": "X5",
         "rawType": "float64",
         "type": "float"
        },
        {
         "name": "X6",
         "rawType": "float64",
         "type": "float"
        },
        {
         "name": "X7",
         "rawType": "float64",
         "type": "float"
        },
        {
         "name": "X8",
         "rawType": "float64",
         "type": "float"
        },
        {
         "name": "X9",
         "rawType": "float64",
         "type": "float"
        },
        {
         "name": "X10",
         "rawType": "float64",
         "type": "float"
        },
        {
         "name": "X11",
         "rawType": "float64",
         "type": "float"
        },
        {
         "name": "X12",
         "rawType": "float64",
         "type": "float"
        },
        {
         "name": "X13",
         "rawType": "float64",
         "type": "float"
        },
        {
         "name": "X14",
         "rawType": "float64",
         "type": "float"
        },
        {
         "name": "X15",
         "rawType": "float64",
         "type": "float"
        },
        {
         "name": "X16",
         "rawType": "float64",
         "type": "float"
        },
        {
         "name": "X17",
         "rawType": "float64",
         "type": "float"
        },
        {
         "name": "X18",
         "rawType": "float64",
         "type": "float"
        },
        {
         "name": "X19",
         "rawType": "float64",
         "type": "float"
        },
        {
         "name": "X20",
         "rawType": "float64",
         "type": "float"
        },
        {
         "name": "X21",
         "rawType": "float64",
         "type": "float"
        },
        {
         "name": "X22",
         "rawType": "float64",
         "type": "float"
        },
        {
         "name": "X23",
         "rawType": "float64",
         "type": "float"
        },
        {
         "name": "X24",
         "rawType": "float64",
         "type": "float"
        },
        {
         "name": "X25",
         "rawType": "float64",
         "type": "float"
        },
        {
         "name": "X26",
         "rawType": "float64",
         "type": "float"
        },
        {
         "name": "X27",
         "rawType": "float64",
         "type": "float"
        },
        {
         "name": "X28",
         "rawType": "float64",
         "type": "float"
        },
        {
         "name": "X29",
         "rawType": "float64",
         "type": "float"
        },
        {
         "name": "X30",
         "rawType": "float64",
         "type": "float"
        },
        {
         "name": "X31",
         "rawType": "float64",
         "type": "float"
        },
        {
         "name": "X32",
         "rawType": "float64",
         "type": "float"
        },
        {
         "name": "X33",
         "rawType": "float64",
         "type": "float"
        },
        {
         "name": "X34",
         "rawType": "float64",
         "type": "float"
        },
        {
         "name": "X35",
         "rawType": "float64",
         "type": "float"
        },
        {
         "name": "X36",
         "rawType": "float64",
         "type": "float"
        },
        {
         "name": "X37",
         "rawType": "float64",
         "type": "float"
        },
        {
         "name": "X38",
         "rawType": "float64",
         "type": "float"
        },
        {
         "name": "X39",
         "rawType": "float64",
         "type": "float"
        },
        {
         "name": "X40",
         "rawType": "float64",
         "type": "float"
        },
        {
         "name": "X41",
         "rawType": "float64",
         "type": "float"
        },
        {
         "name": "X42",
         "rawType": "float64",
         "type": "float"
        },
        {
         "name": "X43",
         "rawType": "float64",
         "type": "float"
        },
        {
         "name": "X44",
         "rawType": "float64",
         "type": "float"
        },
        {
         "name": "X45",
         "rawType": "float64",
         "type": "float"
        },
        {
         "name": "X46",
         "rawType": "float64",
         "type": "float"
        },
        {
         "name": "X47",
         "rawType": "float64",
         "type": "float"
        },
        {
         "name": "X48",
         "rawType": "float64",
         "type": "float"
        },
        {
         "name": "X49",
         "rawType": "float64",
         "type": "float"
        },
        {
         "name": "X50",
         "rawType": "float64",
         "type": "float"
        },
        {
         "name": "X51",
         "rawType": "float64",
         "type": "float"
        },
        {
         "name": "X52",
         "rawType": "float64",
         "type": "float"
        },
        {
         "name": "X53",
         "rawType": "float64",
         "type": "float"
        },
        {
         "name": "X54",
         "rawType": "float64",
         "type": "float"
        },
        {
         "name": "X55",
         "rawType": "float64",
         "type": "float"
        },
        {
         "name": "X56",
         "rawType": "float64",
         "type": "float"
        },
        {
         "name": "X57",
         "rawType": "float64",
         "type": "float"
        },
        {
         "name": "X58",
         "rawType": "float64",
         "type": "float"
        },
        {
         "name": "X59",
         "rawType": "float64",
         "type": "float"
        },
        {
         "name": "X60",
         "rawType": "float64",
         "type": "float"
        },
        {
         "name": "X61",
         "rawType": "float64",
         "type": "float"
        },
        {
         "name": "X62",
         "rawType": "float64",
         "type": "float"
        },
        {
         "name": "X63",
         "rawType": "float64",
         "type": "float"
        },
        {
         "name": "X64",
         "rawType": "float64",
         "type": "float"
        },
        {
         "name": "X65",
         "rawType": "float64",
         "type": "float"
        },
        {
         "name": "X66",
         "rawType": "float64",
         "type": "float"
        },
        {
         "name": "X67",
         "rawType": "float64",
         "type": "float"
        },
        {
         "name": "X68",
         "rawType": "float64",
         "type": "float"
        },
        {
         "name": "X69",
         "rawType": "float64",
         "type": "float"
        },
        {
         "name": "X70",
         "rawType": "float64",
         "type": "float"
        },
        {
         "name": "X71",
         "rawType": "float64",
         "type": "float"
        },
        {
         "name": "X72",
         "rawType": "float64",
         "type": "float"
        },
        {
         "name": "X73",
         "rawType": "float64",
         "type": "float"
        },
        {
         "name": "X74",
         "rawType": "float64",
         "type": "float"
        },
        {
         "name": "X75",
         "rawType": "float64",
         "type": "float"
        },
        {
         "name": "X76",
         "rawType": "float64",
         "type": "float"
        },
        {
         "name": "X77",
         "rawType": "float64",
         "type": "float"
        },
        {
         "name": "X78",
         "rawType": "float64",
         "type": "float"
        },
        {
         "name": "X79",
         "rawType": "float64",
         "type": "float"
        },
        {
         "name": "X80",
         "rawType": "float64",
         "type": "float"
        },
        {
         "name": "X81",
         "rawType": "float64",
         "type": "float"
        },
        {
         "name": "X82",
         "rawType": "float64",
         "type": "float"
        },
        {
         "name": "X83",
         "rawType": "float64",
         "type": "float"
        },
        {
         "name": "X84",
         "rawType": "float64",
         "type": "float"
        },
        {
         "name": "X85",
         "rawType": "float64",
         "type": "float"
        },
        {
         "name": "X86",
         "rawType": "float64",
         "type": "float"
        },
        {
         "name": "X87",
         "rawType": "float64",
         "type": "float"
        },
        {
         "name": "X88",
         "rawType": "float64",
         "type": "float"
        },
        {
         "name": "X89",
         "rawType": "float64",
         "type": "float"
        },
        {
         "name": "X90",
         "rawType": "float64",
         "type": "float"
        },
        {
         "name": "X91",
         "rawType": "float64",
         "type": "float"
        },
        {
         "name": "X92",
         "rawType": "float64",
         "type": "float"
        },
        {
         "name": "X93",
         "rawType": "float64",
         "type": "float"
        },
        {
         "name": "X94",
         "rawType": "float64",
         "type": "float"
        },
        {
         "name": "X95",
         "rawType": "float64",
         "type": "float"
        },
        {
         "name": "X96",
         "rawType": "float64",
         "type": "float"
        },
        {
         "name": "X97",
         "rawType": "float64",
         "type": "float"
        },
        {
         "name": "X98",
         "rawType": "float64",
         "type": "float"
        },
        {
         "name": "X99",
         "rawType": "float64",
         "type": "float"
        },
        {
         "name": "X100",
         "rawType": "float64",
         "type": "float"
        },
        {
         "name": "X101",
         "rawType": "float64",
         "type": "float"
        },
        {
         "name": "X102",
         "rawType": "float64",
         "type": "float"
        },
        {
         "name": "X103",
         "rawType": "float64",
         "type": "float"
        },
        {
         "name": "X104",
         "rawType": "float64",
         "type": "float"
        },
        {
         "name": "X105",
         "rawType": "float64",
         "type": "float"
        },
        {
         "name": "X106",
         "rawType": "float64",
         "type": "float"
        },
        {
         "name": "X107",
         "rawType": "float64",
         "type": "float"
        },
        {
         "name": "X108",
         "rawType": "float64",
         "type": "float"
        },
        {
         "name": "X109",
         "rawType": "float64",
         "type": "float"
        },
        {
         "name": "X110",
         "rawType": "float64",
         "type": "float"
        },
        {
         "name": "X111",
         "rawType": "float64",
         "type": "float"
        },
        {
         "name": "X112",
         "rawType": "float64",
         "type": "float"
        },
        {
         "name": "X113",
         "rawType": "float64",
         "type": "float"
        },
        {
         "name": "X114",
         "rawType": "float64",
         "type": "float"
        },
        {
         "name": "X115",
         "rawType": "float64",
         "type": "float"
        },
        {
         "name": "X116",
         "rawType": "float64",
         "type": "float"
        },
        {
         "name": "X117",
         "rawType": "float64",
         "type": "float"
        },
        {
         "name": "X118",
         "rawType": "float64",
         "type": "float"
        },
        {
         "name": "X119",
         "rawType": "float64",
         "type": "float"
        },
        {
         "name": "X120",
         "rawType": "float64",
         "type": "float"
        },
        {
         "name": "X121",
         "rawType": "float64",
         "type": "float"
        },
        {
         "name": "X122",
         "rawType": "float64",
         "type": "float"
        },
        {
         "name": "X123",
         "rawType": "float64",
         "type": "float"
        },
        {
         "name": "X124",
         "rawType": "float64",
         "type": "float"
        },
        {
         "name": "X125",
         "rawType": "float64",
         "type": "float"
        },
        {
         "name": "X126",
         "rawType": "float64",
         "type": "float"
        },
        {
         "name": "X127",
         "rawType": "float64",
         "type": "float"
        },
        {
         "name": "X128",
         "rawType": "float64",
         "type": "float"
        },
        {
         "name": "X129",
         "rawType": "float64",
         "type": "float"
        },
        {
         "name": "X130",
         "rawType": "float64",
         "type": "float"
        },
        {
         "name": "X131",
         "rawType": "float64",
         "type": "float"
        },
        {
         "name": "X132",
         "rawType": "float64",
         "type": "float"
        },
        {
         "name": "X133",
         "rawType": "float64",
         "type": "float"
        },
        {
         "name": "X134",
         "rawType": "float64",
         "type": "float"
        },
        {
         "name": "X135",
         "rawType": "float64",
         "type": "float"
        },
        {
         "name": "X136",
         "rawType": "float64",
         "type": "float"
        },
        {
         "name": "X137",
         "rawType": "float64",
         "type": "float"
        },
        {
         "name": "X138",
         "rawType": "float64",
         "type": "float"
        },
        {
         "name": "X139",
         "rawType": "float64",
         "type": "float"
        },
        {
         "name": "X140",
         "rawType": "float64",
         "type": "float"
        },
        {
         "name": "X141",
         "rawType": "float64",
         "type": "float"
        },
        {
         "name": "X142",
         "rawType": "float64",
         "type": "float"
        },
        {
         "name": "X143",
         "rawType": "float64",
         "type": "float"
        },
        {
         "name": "X144",
         "rawType": "float64",
         "type": "float"
        },
        {
         "name": "X145",
         "rawType": "float64",
         "type": "float"
        },
        {
         "name": "X146",
         "rawType": "float64",
         "type": "float"
        },
        {
         "name": "X147",
         "rawType": "float64",
         "type": "float"
        },
        {
         "name": "X148",
         "rawType": "float64",
         "type": "float"
        },
        {
         "name": "X149",
         "rawType": "float64",
         "type": "float"
        },
        {
         "name": "X150",
         "rawType": "float64",
         "type": "float"
        },
        {
         "name": "X151",
         "rawType": "float64",
         "type": "float"
        },
        {
         "name": "X152",
         "rawType": "float64",
         "type": "float"
        },
        {
         "name": "X153",
         "rawType": "float64",
         "type": "float"
        },
        {
         "name": "X154",
         "rawType": "float64",
         "type": "float"
        },
        {
         "name": "X155",
         "rawType": "float64",
         "type": "float"
        },
        {
         "name": "X156",
         "rawType": "float64",
         "type": "float"
        },
        {
         "name": "X157",
         "rawType": "float64",
         "type": "float"
        },
        {
         "name": "X158",
         "rawType": "float64",
         "type": "float"
        },
        {
         "name": "X159",
         "rawType": "float64",
         "type": "float"
        },
        {
         "name": "X160",
         "rawType": "float64",
         "type": "float"
        },
        {
         "name": "X161",
         "rawType": "float64",
         "type": "float"
        },
        {
         "name": "X162",
         "rawType": "float64",
         "type": "float"
        },
        {
         "name": "X163",
         "rawType": "float64",
         "type": "float"
        },
        {
         "name": "X164",
         "rawType": "float64",
         "type": "float"
        },
        {
         "name": "X165",
         "rawType": "float64",
         "type": "float"
        },
        {
         "name": "X166",
         "rawType": "float64",
         "type": "float"
        },
        {
         "name": "X167",
         "rawType": "float64",
         "type": "float"
        },
        {
         "name": "X168",
         "rawType": "float64",
         "type": "float"
        },
        {
         "name": "X169",
         "rawType": "float64",
         "type": "float"
        },
        {
         "name": "X170",
         "rawType": "float64",
         "type": "float"
        },
        {
         "name": "X171",
         "rawType": "float64",
         "type": "float"
        },
        {
         "name": "X172",
         "rawType": "float64",
         "type": "float"
        },
        {
         "name": "X173",
         "rawType": "float64",
         "type": "float"
        },
        {
         "name": "X174",
         "rawType": "float64",
         "type": "float"
        },
        {
         "name": "X175",
         "rawType": "float64",
         "type": "float"
        },
        {
         "name": "X176",
         "rawType": "float64",
         "type": "float"
        },
        {
         "name": "X177",
         "rawType": "float64",
         "type": "float"
        },
        {
         "name": "X178",
         "rawType": "float64",
         "type": "float"
        },
        {
         "name": "X179",
         "rawType": "float64",
         "type": "float"
        },
        {
         "name": "X180",
         "rawType": "float64",
         "type": "float"
        },
        {
         "name": "X181",
         "rawType": "float64",
         "type": "float"
        },
        {
         "name": "X182",
         "rawType": "float64",
         "type": "float"
        },
        {
         "name": "X183",
         "rawType": "float64",
         "type": "float"
        },
        {
         "name": "X184",
         "rawType": "float64",
         "type": "float"
        },
        {
         "name": "X185",
         "rawType": "float64",
         "type": "float"
        },
        {
         "name": "X186",
         "rawType": "float64",
         "type": "float"
        },
        {
         "name": "X187",
         "rawType": "float64",
         "type": "float"
        },
        {
         "name": "X188",
         "rawType": "float64",
         "type": "float"
        },
        {
         "name": "X189",
         "rawType": "float64",
         "type": "float"
        },
        {
         "name": "X190",
         "rawType": "float64",
         "type": "float"
        },
        {
         "name": "X191",
         "rawType": "float64",
         "type": "float"
        },
        {
         "name": "X192",
         "rawType": "float64",
         "type": "float"
        },
        {
         "name": "X193",
         "rawType": "float64",
         "type": "float"
        },
        {
         "name": "X194",
         "rawType": "float64",
         "type": "float"
        },
        {
         "name": "X195",
         "rawType": "float64",
         "type": "float"
        },
        {
         "name": "X196",
         "rawType": "float64",
         "type": "float"
        },
        {
         "name": "X197",
         "rawType": "float64",
         "type": "float"
        },
        {
         "name": "X198",
         "rawType": "float64",
         "type": "float"
        },
        {
         "name": "X199",
         "rawType": "float64",
         "type": "float"
        },
        {
         "name": "X200",
         "rawType": "float64",
         "type": "float"
        },
        {
         "name": "X201",
         "rawType": "float64",
         "type": "float"
        },
        {
         "name": "X202",
         "rawType": "float64",
         "type": "float"
        },
        {
         "name": "X203",
         "rawType": "float64",
         "type": "float"
        },
        {
         "name": "X204",
         "rawType": "float64",
         "type": "float"
        },
        {
         "name": "X205",
         "rawType": "float64",
         "type": "float"
        },
        {
         "name": "X206",
         "rawType": "float64",
         "type": "float"
        },
        {
         "name": "X207",
         "rawType": "float64",
         "type": "float"
        },
        {
         "name": "X208",
         "rawType": "float64",
         "type": "float"
        },
        {
         "name": "X209",
         "rawType": "float64",
         "type": "float"
        },
        {
         "name": "X210",
         "rawType": "float64",
         "type": "float"
        },
        {
         "name": "X211",
         "rawType": "float64",
         "type": "float"
        },
        {
         "name": "X212",
         "rawType": "float64",
         "type": "float"
        },
        {
         "name": "X213",
         "rawType": "float64",
         "type": "float"
        },
        {
         "name": "X214",
         "rawType": "float64",
         "type": "float"
        },
        {
         "name": "X215",
         "rawType": "float64",
         "type": "float"
        },
        {
         "name": "X216",
         "rawType": "float64",
         "type": "float"
        },
        {
         "name": "X217",
         "rawType": "float64",
         "type": "float"
        },
        {
         "name": "X218",
         "rawType": "float64",
         "type": "float"
        },
        {
         "name": "X219",
         "rawType": "float64",
         "type": "float"
        },
        {
         "name": "X220",
         "rawType": "float64",
         "type": "float"
        },
        {
         "name": "X221",
         "rawType": "float64",
         "type": "float"
        },
        {
         "name": "X222",
         "rawType": "float64",
         "type": "float"
        },
        {
         "name": "X223",
         "rawType": "float64",
         "type": "float"
        },
        {
         "name": "X224",
         "rawType": "float64",
         "type": "float"
        },
        {
         "name": "X225",
         "rawType": "float64",
         "type": "float"
        },
        {
         "name": "X226",
         "rawType": "float64",
         "type": "float"
        },
        {
         "name": "X227",
         "rawType": "float64",
         "type": "float"
        },
        {
         "name": "X228",
         "rawType": "float64",
         "type": "float"
        },
        {
         "name": "X229",
         "rawType": "float64",
         "type": "float"
        },
        {
         "name": "X230",
         "rawType": "float64",
         "type": "float"
        },
        {
         "name": "X231",
         "rawType": "float64",
         "type": "float"
        },
        {
         "name": "X232",
         "rawType": "float64",
         "type": "float"
        },
        {
         "name": "X233",
         "rawType": "float64",
         "type": "float"
        },
        {
         "name": "X234",
         "rawType": "float64",
         "type": "float"
        },
        {
         "name": "X235",
         "rawType": "float64",
         "type": "float"
        },
        {
         "name": "X236",
         "rawType": "float64",
         "type": "float"
        },
        {
         "name": "X237",
         "rawType": "float64",
         "type": "float"
        },
        {
         "name": "X238",
         "rawType": "float64",
         "type": "float"
        },
        {
         "name": "X239",
         "rawType": "float64",
         "type": "float"
        },
        {
         "name": "X240",
         "rawType": "float64",
         "type": "float"
        },
        {
         "name": "X241",
         "rawType": "float64",
         "type": "float"
        },
        {
         "name": "X242",
         "rawType": "float64",
         "type": "float"
        },
        {
         "name": "X243",
         "rawType": "float64",
         "type": "float"
        },
        {
         "name": "X244",
         "rawType": "float64",
         "type": "float"
        },
        {
         "name": "X245",
         "rawType": "float64",
         "type": "float"
        },
        {
         "name": "X246",
         "rawType": "float64",
         "type": "float"
        },
        {
         "name": "X247",
         "rawType": "float64",
         "type": "float"
        },
        {
         "name": "X248",
         "rawType": "float64",
         "type": "float"
        },
        {
         "name": "X249",
         "rawType": "float64",
         "type": "float"
        },
        {
         "name": "X250",
         "rawType": "float64",
         "type": "float"
        },
        {
         "name": "X251",
         "rawType": "float64",
         "type": "float"
        },
        {
         "name": "X252",
         "rawType": "float64",
         "type": "float"
        },
        {
         "name": "X253",
         "rawType": "float64",
         "type": "float"
        },
        {
         "name": "X254",
         "rawType": "float64",
         "type": "float"
        },
        {
         "name": "X255",
         "rawType": "float64",
         "type": "float"
        },
        {
         "name": "X256",
         "rawType": "float64",
         "type": "float"
        },
        {
         "name": "X257",
         "rawType": "float64",
         "type": "float"
        },
        {
         "name": "X258",
         "rawType": "float64",
         "type": "float"
        },
        {
         "name": "X259",
         "rawType": "float64",
         "type": "float"
        },
        {
         "name": "X260",
         "rawType": "float64",
         "type": "float"
        },
        {
         "name": "X261",
         "rawType": "float64",
         "type": "float"
        },
        {
         "name": "X262",
         "rawType": "float64",
         "type": "float"
        },
        {
         "name": "X263",
         "rawType": "float64",
         "type": "float"
        },
        {
         "name": "X264",
         "rawType": "float64",
         "type": "float"
        },
        {
         "name": "X265",
         "rawType": "float64",
         "type": "float"
        },
        {
         "name": "X266",
         "rawType": "float64",
         "type": "float"
        },
        {
         "name": "X267",
         "rawType": "float64",
         "type": "float"
        },
        {
         "name": "X268",
         "rawType": "float64",
         "type": "float"
        },
        {
         "name": "X269",
         "rawType": "float64",
         "type": "float"
        },
        {
         "name": "X270",
         "rawType": "float64",
         "type": "float"
        },
        {
         "name": "X271",
         "rawType": "float64",
         "type": "float"
        },
        {
         "name": "X272",
         "rawType": "float64",
         "type": "float"
        },
        {
         "name": "X273",
         "rawType": "float64",
         "type": "float"
        },
        {
         "name": "X274",
         "rawType": "float64",
         "type": "float"
        },
        {
         "name": "X275",
         "rawType": "float64",
         "type": "float"
        },
        {
         "name": "X276",
         "rawType": "float64",
         "type": "float"
        },
        {
         "name": "X277",
         "rawType": "float64",
         "type": "float"
        },
        {
         "name": "X278",
         "rawType": "float64",
         "type": "float"
        },
        {
         "name": "X279",
         "rawType": "float64",
         "type": "float"
        },
        {
         "name": "X280",
         "rawType": "float64",
         "type": "float"
        },
        {
         "name": "X281",
         "rawType": "float64",
         "type": "float"
        },
        {
         "name": "X282",
         "rawType": "float64",
         "type": "float"
        },
        {
         "name": "X283",
         "rawType": "float64",
         "type": "float"
        },
        {
         "name": "X284",
         "rawType": "float64",
         "type": "float"
        },
        {
         "name": "X285",
         "rawType": "float64",
         "type": "float"
        },
        {
         "name": "X286",
         "rawType": "float64",
         "type": "float"
        },
        {
         "name": "X287",
         "rawType": "float64",
         "type": "float"
        },
        {
         "name": "X288",
         "rawType": "float64",
         "type": "float"
        },
        {
         "name": "X289",
         "rawType": "float64",
         "type": "float"
        },
        {
         "name": "X290",
         "rawType": "float64",
         "type": "float"
        },
        {
         "name": "X291",
         "rawType": "float64",
         "type": "float"
        },
        {
         "name": "X292",
         "rawType": "float64",
         "type": "float"
        },
        {
         "name": "X293",
         "rawType": "float64",
         "type": "float"
        },
        {
         "name": "X294",
         "rawType": "float64",
         "type": "float"
        },
        {
         "name": "X295",
         "rawType": "float64",
         "type": "float"
        },
        {
         "name": "X296",
         "rawType": "float64",
         "type": "float"
        },
        {
         "name": "X297",
         "rawType": "float64",
         "type": "float"
        },
        {
         "name": "X298",
         "rawType": "float64",
         "type": "float"
        },
        {
         "name": "X299",
         "rawType": "float64",
         "type": "float"
        },
        {
         "name": "X300",
         "rawType": "float64",
         "type": "float"
        },
        {
         "name": "X301",
         "rawType": "float64",
         "type": "float"
        },
        {
         "name": "X302",
         "rawType": "float64",
         "type": "float"
        },
        {
         "name": "X303",
         "rawType": "float64",
         "type": "float"
        },
        {
         "name": "X304",
         "rawType": "float64",
         "type": "float"
        },
        {
         "name": "X305",
         "rawType": "float64",
         "type": "float"
        },
        {
         "name": "X306",
         "rawType": "float64",
         "type": "float"
        },
        {
         "name": "X307",
         "rawType": "float64",
         "type": "float"
        },
        {
         "name": "X308",
         "rawType": "float64",
         "type": "float"
        },
        {
         "name": "X309",
         "rawType": "float64",
         "type": "float"
        },
        {
         "name": "X310",
         "rawType": "float64",
         "type": "float"
        },
        {
         "name": "X311",
         "rawType": "float64",
         "type": "float"
        },
        {
         "name": "X312",
         "rawType": "float64",
         "type": "float"
        },
        {
         "name": "X313",
         "rawType": "float64",
         "type": "float"
        },
        {
         "name": "X314",
         "rawType": "float64",
         "type": "float"
        },
        {
         "name": "X315",
         "rawType": "float64",
         "type": "float"
        },
        {
         "name": "X316",
         "rawType": "float64",
         "type": "float"
        },
        {
         "name": "X317",
         "rawType": "float64",
         "type": "float"
        },
        {
         "name": "X318",
         "rawType": "float64",
         "type": "float"
        },
        {
         "name": "X319",
         "rawType": "float64",
         "type": "float"
        },
        {
         "name": "X320",
         "rawType": "float64",
         "type": "float"
        },
        {
         "name": "X321",
         "rawType": "float64",
         "type": "float"
        },
        {
         "name": "X322",
         "rawType": "float64",
         "type": "float"
        },
        {
         "name": "X323",
         "rawType": "float64",
         "type": "float"
        },
        {
         "name": "X324",
         "rawType": "float64",
         "type": "float"
        },
        {
         "name": "X325",
         "rawType": "float64",
         "type": "float"
        },
        {
         "name": "X326",
         "rawType": "float64",
         "type": "float"
        },
        {
         "name": "X327",
         "rawType": "float64",
         "type": "float"
        },
        {
         "name": "X328",
         "rawType": "float64",
         "type": "float"
        },
        {
         "name": "X329",
         "rawType": "float64",
         "type": "float"
        },
        {
         "name": "X330",
         "rawType": "float64",
         "type": "float"
        },
        {
         "name": "X331",
         "rawType": "float64",
         "type": "float"
        },
        {
         "name": "X332",
         "rawType": "float64",
         "type": "float"
        },
        {
         "name": "X333",
         "rawType": "float64",
         "type": "float"
        },
        {
         "name": "X334",
         "rawType": "float64",
         "type": "float"
        },
        {
         "name": "X335",
         "rawType": "float64",
         "type": "float"
        },
        {
         "name": "X336",
         "rawType": "float64",
         "type": "float"
        },
        {
         "name": "X337",
         "rawType": "float64",
         "type": "float"
        },
        {
         "name": "X338",
         "rawType": "float64",
         "type": "float"
        },
        {
         "name": "X339",
         "rawType": "float64",
         "type": "float"
        },
        {
         "name": "X340",
         "rawType": "float64",
         "type": "float"
        },
        {
         "name": "X341",
         "rawType": "float64",
         "type": "float"
        },
        {
         "name": "X342",
         "rawType": "float64",
         "type": "float"
        },
        {
         "name": "X343",
         "rawType": "float64",
         "type": "float"
        },
        {
         "name": "X344",
         "rawType": "float64",
         "type": "float"
        },
        {
         "name": "X345",
         "rawType": "float64",
         "type": "float"
        },
        {
         "name": "X346",
         "rawType": "float64",
         "type": "float"
        },
        {
         "name": "X347",
         "rawType": "float64",
         "type": "float"
        },
        {
         "name": "X348",
         "rawType": "float64",
         "type": "float"
        },
        {
         "name": "X349",
         "rawType": "float64",
         "type": "float"
        },
        {
         "name": "X350",
         "rawType": "float64",
         "type": "float"
        },
        {
         "name": "X351",
         "rawType": "float64",
         "type": "float"
        },
        {
         "name": "X352",
         "rawType": "float64",
         "type": "float"
        },
        {
         "name": "X353",
         "rawType": "float64",
         "type": "float"
        },
        {
         "name": "X354",
         "rawType": "float64",
         "type": "float"
        },
        {
         "name": "X355",
         "rawType": "float64",
         "type": "float"
        },
        {
         "name": "X356",
         "rawType": "float64",
         "type": "float"
        },
        {
         "name": "X357",
         "rawType": "float64",
         "type": "float"
        },
        {
         "name": "X358",
         "rawType": "float64",
         "type": "float"
        },
        {
         "name": "X359",
         "rawType": "float64",
         "type": "float"
        },
        {
         "name": "X360",
         "rawType": "float64",
         "type": "float"
        },
        {
         "name": "X361",
         "rawType": "float64",
         "type": "float"
        },
        {
         "name": "X362",
         "rawType": "float64",
         "type": "float"
        },
        {
         "name": "X363",
         "rawType": "float64",
         "type": "float"
        },
        {
         "name": "X364",
         "rawType": "float64",
         "type": "float"
        },
        {
         "name": "X365",
         "rawType": "float64",
         "type": "float"
        },
        {
         "name": "X366",
         "rawType": "float64",
         "type": "float"
        },
        {
         "name": "X367",
         "rawType": "float64",
         "type": "float"
        },
        {
         "name": "X368",
         "rawType": "float64",
         "type": "float"
        },
        {
         "name": "X369",
         "rawType": "float64",
         "type": "float"
        },
        {
         "name": "X370",
         "rawType": "float64",
         "type": "float"
        },
        {
         "name": "X371",
         "rawType": "float64",
         "type": "float"
        },
        {
         "name": "X372",
         "rawType": "float64",
         "type": "float"
        },
        {
         "name": "X373",
         "rawType": "float64",
         "type": "float"
        },
        {
         "name": "X374",
         "rawType": "float64",
         "type": "float"
        },
        {
         "name": "X375",
         "rawType": "float64",
         "type": "float"
        },
        {
         "name": "X376",
         "rawType": "float64",
         "type": "float"
        },
        {
         "name": "X377",
         "rawType": "float64",
         "type": "float"
        },
        {
         "name": "X378",
         "rawType": "float64",
         "type": "float"
        },
        {
         "name": "X379",
         "rawType": "float64",
         "type": "float"
        },
        {
         "name": "X380",
         "rawType": "float64",
         "type": "float"
        },
        {
         "name": "X381",
         "rawType": "float64",
         "type": "float"
        },
        {
         "name": "X382",
         "rawType": "float64",
         "type": "float"
        },
        {
         "name": "X383",
         "rawType": "float64",
         "type": "float"
        },
        {
         "name": "X384",
         "rawType": "float64",
         "type": "float"
        },
        {
         "name": "X385",
         "rawType": "float64",
         "type": "float"
        },
        {
         "name": "X386",
         "rawType": "float64",
         "type": "float"
        },
        {
         "name": "X387",
         "rawType": "float64",
         "type": "float"
        },
        {
         "name": "X388",
         "rawType": "float64",
         "type": "float"
        },
        {
         "name": "X389",
         "rawType": "float64",
         "type": "float"
        },
        {
         "name": "X390",
         "rawType": "float64",
         "type": "float"
        },
        {
         "name": "X391",
         "rawType": "float64",
         "type": "float"
        },
        {
         "name": "X392",
         "rawType": "float64",
         "type": "float"
        },
        {
         "name": "X393",
         "rawType": "float64",
         "type": "float"
        },
        {
         "name": "X394",
         "rawType": "float64",
         "type": "float"
        },
        {
         "name": "X395",
         "rawType": "float64",
         "type": "float"
        },
        {
         "name": "X396",
         "rawType": "float64",
         "type": "float"
        },
        {
         "name": "X397",
         "rawType": "float64",
         "type": "float"
        },
        {
         "name": "X398",
         "rawType": "float64",
         "type": "float"
        },
        {
         "name": "X399",
         "rawType": "float64",
         "type": "float"
        },
        {
         "name": "X400",
         "rawType": "float64",
         "type": "float"
        },
        {
         "name": "X401",
         "rawType": "float64",
         "type": "float"
        },
        {
         "name": "X402",
         "rawType": "float64",
         "type": "float"
        },
        {
         "name": "X403",
         "rawType": "float64",
         "type": "float"
        },
        {
         "name": "X404",
         "rawType": "float64",
         "type": "float"
        },
        {
         "name": "X405",
         "rawType": "float64",
         "type": "float"
        },
        {
         "name": "X406",
         "rawType": "float64",
         "type": "float"
        },
        {
         "name": "X407",
         "rawType": "float64",
         "type": "float"
        },
        {
         "name": "X408",
         "rawType": "float64",
         "type": "float"
        },
        {
         "name": "X409",
         "rawType": "float64",
         "type": "float"
        },
        {
         "name": "X410",
         "rawType": "float64",
         "type": "float"
        },
        {
         "name": "X411",
         "rawType": "float64",
         "type": "float"
        },
        {
         "name": "X412",
         "rawType": "float64",
         "type": "float"
        },
        {
         "name": "X413",
         "rawType": "float64",
         "type": "float"
        },
        {
         "name": "X414",
         "rawType": "float64",
         "type": "float"
        },
        {
         "name": "X415",
         "rawType": "float64",
         "type": "float"
        },
        {
         "name": "X416",
         "rawType": "float64",
         "type": "float"
        },
        {
         "name": "X417",
         "rawType": "float64",
         "type": "float"
        },
        {
         "name": "X418",
         "rawType": "float64",
         "type": "float"
        },
        {
         "name": "X419",
         "rawType": "float64",
         "type": "float"
        },
        {
         "name": "X420",
         "rawType": "float64",
         "type": "float"
        },
        {
         "name": "X421",
         "rawType": "float64",
         "type": "float"
        },
        {
         "name": "X422",
         "rawType": "float64",
         "type": "float"
        },
        {
         "name": "X423",
         "rawType": "float64",
         "type": "float"
        },
        {
         "name": "X424",
         "rawType": "float64",
         "type": "float"
        },
        {
         "name": "X425",
         "rawType": "float64",
         "type": "float"
        },
        {
         "name": "X426",
         "rawType": "float64",
         "type": "float"
        },
        {
         "name": "X427",
         "rawType": "float64",
         "type": "float"
        },
        {
         "name": "X428",
         "rawType": "float64",
         "type": "float"
        },
        {
         "name": "X429",
         "rawType": "float64",
         "type": "float"
        },
        {
         "name": "X430",
         "rawType": "float64",
         "type": "float"
        },
        {
         "name": "X431",
         "rawType": "float64",
         "type": "float"
        },
        {
         "name": "X432",
         "rawType": "float64",
         "type": "float"
        },
        {
         "name": "X433",
         "rawType": "float64",
         "type": "float"
        },
        {
         "name": "X434",
         "rawType": "float64",
         "type": "float"
        },
        {
         "name": "X435",
         "rawType": "float64",
         "type": "float"
        },
        {
         "name": "X436",
         "rawType": "float64",
         "type": "float"
        },
        {
         "name": "X437",
         "rawType": "float64",
         "type": "float"
        },
        {
         "name": "X438",
         "rawType": "float64",
         "type": "float"
        },
        {
         "name": "X439",
         "rawType": "float64",
         "type": "float"
        },
        {
         "name": "X440",
         "rawType": "float64",
         "type": "float"
        },
        {
         "name": "X441",
         "rawType": "float64",
         "type": "float"
        },
        {
         "name": "X442",
         "rawType": "float64",
         "type": "float"
        },
        {
         "name": "X443",
         "rawType": "float64",
         "type": "float"
        },
        {
         "name": "X444",
         "rawType": "float64",
         "type": "float"
        },
        {
         "name": "X445",
         "rawType": "float64",
         "type": "float"
        },
        {
         "name": "X446",
         "rawType": "float64",
         "type": "float"
        },
        {
         "name": "X447",
         "rawType": "float64",
         "type": "float"
        },
        {
         "name": "X448",
         "rawType": "float64",
         "type": "float"
        },
        {
         "name": "X449",
         "rawType": "float64",
         "type": "float"
        },
        {
         "name": "X450",
         "rawType": "float64",
         "type": "float"
        },
        {
         "name": "X451",
         "rawType": "float64",
         "type": "float"
        },
        {
         "name": "X452",
         "rawType": "float64",
         "type": "float"
        },
        {
         "name": "X453",
         "rawType": "float64",
         "type": "float"
        },
        {
         "name": "X454",
         "rawType": "float64",
         "type": "float"
        },
        {
         "name": "X455",
         "rawType": "float64",
         "type": "float"
        },
        {
         "name": "X456",
         "rawType": "float64",
         "type": "float"
        },
        {
         "name": "X457",
         "rawType": "float64",
         "type": "float"
        },
        {
         "name": "X458",
         "rawType": "float64",
         "type": "float"
        },
        {
         "name": "X459",
         "rawType": "float64",
         "type": "float"
        },
        {
         "name": "X460",
         "rawType": "float64",
         "type": "float"
        },
        {
         "name": "X461",
         "rawType": "float64",
         "type": "float"
        },
        {
         "name": "X462",
         "rawType": "float64",
         "type": "float"
        },
        {
         "name": "X463",
         "rawType": "float64",
         "type": "float"
        },
        {
         "name": "X464",
         "rawType": "float64",
         "type": "float"
        },
        {
         "name": "X465",
         "rawType": "float64",
         "type": "float"
        },
        {
         "name": "X466",
         "rawType": "float64",
         "type": "float"
        },
        {
         "name": "X467",
         "rawType": "float64",
         "type": "float"
        },
        {
         "name": "X468",
         "rawType": "float64",
         "type": "float"
        },
        {
         "name": "X469",
         "rawType": "float64",
         "type": "float"
        },
        {
         "name": "X470",
         "rawType": "float64",
         "type": "float"
        },
        {
         "name": "X471",
         "rawType": "float64",
         "type": "float"
        },
        {
         "name": "X472",
         "rawType": "float64",
         "type": "float"
        },
        {
         "name": "X473",
         "rawType": "float64",
         "type": "float"
        },
        {
         "name": "X474",
         "rawType": "float64",
         "type": "float"
        },
        {
         "name": "X475",
         "rawType": "float64",
         "type": "float"
        },
        {
         "name": "X476",
         "rawType": "float64",
         "type": "float"
        },
        {
         "name": "X477",
         "rawType": "float64",
         "type": "float"
        },
        {
         "name": "X478",
         "rawType": "float64",
         "type": "float"
        },
        {
         "name": "X479",
         "rawType": "float64",
         "type": "float"
        },
        {
         "name": "X480",
         "rawType": "float64",
         "type": "float"
        },
        {
         "name": "X481",
         "rawType": "float64",
         "type": "float"
        },
        {
         "name": "X482",
         "rawType": "float64",
         "type": "float"
        },
        {
         "name": "X483",
         "rawType": "float64",
         "type": "float"
        },
        {
         "name": "X484",
         "rawType": "float64",
         "type": "float"
        },
        {
         "name": "X485",
         "rawType": "float64",
         "type": "float"
        },
        {
         "name": "X486",
         "rawType": "float64",
         "type": "float"
        },
        {
         "name": "X487",
         "rawType": "float64",
         "type": "float"
        },
        {
         "name": "X488",
         "rawType": "float64",
         "type": "float"
        },
        {
         "name": "X489",
         "rawType": "float64",
         "type": "float"
        },
        {
         "name": "X490",
         "rawType": "float64",
         "type": "float"
        },
        {
         "name": "X491",
         "rawType": "float64",
         "type": "float"
        },
        {
         "name": "X492",
         "rawType": "float64",
         "type": "float"
        },
        {
         "name": "X493",
         "rawType": "float64",
         "type": "float"
        },
        {
         "name": "X494",
         "rawType": "float64",
         "type": "float"
        },
        {
         "name": "X495",
         "rawType": "float64",
         "type": "float"
        },
        {
         "name": "X496",
         "rawType": "float64",
         "type": "float"
        },
        {
         "name": "X497",
         "rawType": "float64",
         "type": "float"
        },
        {
         "name": "X498",
         "rawType": "float64",
         "type": "float"
        },
        {
         "name": "X499",
         "rawType": "float64",
         "type": "float"
        },
        {
         "name": "X500",
         "rawType": "float64",
         "type": "float"
        },
        {
         "name": "X501",
         "rawType": "float64",
         "type": "float"
        },
        {
         "name": "X502",
         "rawType": "float64",
         "type": "float"
        },
        {
         "name": "X503",
         "rawType": "float64",
         "type": "float"
        },
        {
         "name": "X504",
         "rawType": "float64",
         "type": "float"
        },
        {
         "name": "X505",
         "rawType": "float64",
         "type": "float"
        },
        {
         "name": "X506",
         "rawType": "float64",
         "type": "float"
        },
        {
         "name": "X507",
         "rawType": "float64",
         "type": "float"
        },
        {
         "name": "X508",
         "rawType": "float64",
         "type": "float"
        },
        {
         "name": "X509",
         "rawType": "float64",
         "type": "float"
        },
        {
         "name": "X510",
         "rawType": "float64",
         "type": "float"
        },
        {
         "name": "X511",
         "rawType": "float64",
         "type": "float"
        },
        {
         "name": "X512",
         "rawType": "float64",
         "type": "float"
        },
        {
         "name": "X513",
         "rawType": "float64",
         "type": "float"
        },
        {
         "name": "X514",
         "rawType": "float64",
         "type": "float"
        },
        {
         "name": "X515",
         "rawType": "float64",
         "type": "float"
        },
        {
         "name": "X516",
         "rawType": "float64",
         "type": "float"
        },
        {
         "name": "X517",
         "rawType": "float64",
         "type": "float"
        },
        {
         "name": "X518",
         "rawType": "float64",
         "type": "float"
        },
        {
         "name": "X519",
         "rawType": "float64",
         "type": "float"
        },
        {
         "name": "X520",
         "rawType": "float64",
         "type": "float"
        },
        {
         "name": "X521",
         "rawType": "float64",
         "type": "float"
        },
        {
         "name": "X522",
         "rawType": "float64",
         "type": "float"
        },
        {
         "name": "X523",
         "rawType": "float64",
         "type": "float"
        },
        {
         "name": "X524",
         "rawType": "float64",
         "type": "float"
        },
        {
         "name": "X525",
         "rawType": "float64",
         "type": "float"
        },
        {
         "name": "X526",
         "rawType": "float64",
         "type": "float"
        },
        {
         "name": "X527",
         "rawType": "float64",
         "type": "float"
        },
        {
         "name": "X528",
         "rawType": "float64",
         "type": "float"
        },
        {
         "name": "X529",
         "rawType": "float64",
         "type": "float"
        },
        {
         "name": "X530",
         "rawType": "float64",
         "type": "float"
        },
        {
         "name": "X531",
         "rawType": "float64",
         "type": "float"
        },
        {
         "name": "X532",
         "rawType": "float64",
         "type": "float"
        },
        {
         "name": "X533",
         "rawType": "float64",
         "type": "float"
        },
        {
         "name": "X534",
         "rawType": "float64",
         "type": "float"
        },
        {
         "name": "X535",
         "rawType": "float64",
         "type": "float"
        },
        {
         "name": "X536",
         "rawType": "float64",
         "type": "float"
        },
        {
         "name": "X537",
         "rawType": "float64",
         "type": "float"
        },
        {
         "name": "X538",
         "rawType": "float64",
         "type": "float"
        },
        {
         "name": "X539",
         "rawType": "float64",
         "type": "float"
        },
        {
         "name": "X540",
         "rawType": "float64",
         "type": "float"
        },
        {
         "name": "X541",
         "rawType": "float64",
         "type": "float"
        },
        {
         "name": "X542",
         "rawType": "float64",
         "type": "float"
        },
        {
         "name": "X543",
         "rawType": "float64",
         "type": "float"
        },
        {
         "name": "X544",
         "rawType": "float64",
         "type": "float"
        },
        {
         "name": "X545",
         "rawType": "float64",
         "type": "float"
        },
        {
         "name": "X546",
         "rawType": "float64",
         "type": "float"
        },
        {
         "name": "X547",
         "rawType": "float64",
         "type": "float"
        },
        {
         "name": "X548",
         "rawType": "float64",
         "type": "float"
        },
        {
         "name": "X549",
         "rawType": "float64",
         "type": "float"
        },
        {
         "name": "X550",
         "rawType": "float64",
         "type": "float"
        },
        {
         "name": "X551",
         "rawType": "float64",
         "type": "float"
        },
        {
         "name": "X552",
         "rawType": "float64",
         "type": "float"
        },
        {
         "name": "X553",
         "rawType": "float64",
         "type": "float"
        },
        {
         "name": "X554",
         "rawType": "float64",
         "type": "float"
        },
        {
         "name": "X555",
         "rawType": "float64",
         "type": "float"
        },
        {
         "name": "X556",
         "rawType": "float64",
         "type": "float"
        },
        {
         "name": "X557",
         "rawType": "float64",
         "type": "float"
        },
        {
         "name": "X558",
         "rawType": "float64",
         "type": "float"
        },
        {
         "name": "X559",
         "rawType": "float64",
         "type": "float"
        },
        {
         "name": "X560",
         "rawType": "float64",
         "type": "float"
        },
        {
         "name": "X561",
         "rawType": "float64",
         "type": "float"
        },
        {
         "name": "X562",
         "rawType": "float64",
         "type": "float"
        },
        {
         "name": "X563",
         "rawType": "float64",
         "type": "float"
        },
        {
         "name": "X564",
         "rawType": "float64",
         "type": "float"
        },
        {
         "name": "X565",
         "rawType": "float64",
         "type": "float"
        },
        {
         "name": "X566",
         "rawType": "float64",
         "type": "float"
        },
        {
         "name": "X567",
         "rawType": "float64",
         "type": "float"
        },
        {
         "name": "X568",
         "rawType": "float64",
         "type": "float"
        },
        {
         "name": "X569",
         "rawType": "float64",
         "type": "float"
        },
        {
         "name": "X570",
         "rawType": "float64",
         "type": "float"
        },
        {
         "name": "X571",
         "rawType": "float64",
         "type": "float"
        },
        {
         "name": "X572",
         "rawType": "float64",
         "type": "float"
        },
        {
         "name": "X573",
         "rawType": "float64",
         "type": "float"
        },
        {
         "name": "X574",
         "rawType": "float64",
         "type": "float"
        },
        {
         "name": "X575",
         "rawType": "float64",
         "type": "float"
        },
        {
         "name": "X576",
         "rawType": "float64",
         "type": "float"
        },
        {
         "name": "X577",
         "rawType": "float64",
         "type": "float"
        },
        {
         "name": "X578",
         "rawType": "float64",
         "type": "float"
        },
        {
         "name": "X579",
         "rawType": "float64",
         "type": "float"
        },
        {
         "name": "X580",
         "rawType": "float64",
         "type": "float"
        },
        {
         "name": "X581",
         "rawType": "float64",
         "type": "float"
        },
        {
         "name": "X582",
         "rawType": "float64",
         "type": "float"
        },
        {
         "name": "X583",
         "rawType": "float64",
         "type": "float"
        },
        {
         "name": "X584",
         "rawType": "float64",
         "type": "float"
        },
        {
         "name": "X585",
         "rawType": "float64",
         "type": "float"
        },
        {
         "name": "X586",
         "rawType": "float64",
         "type": "float"
        },
        {
         "name": "X587",
         "rawType": "float64",
         "type": "float"
        },
        {
         "name": "X588",
         "rawType": "float64",
         "type": "float"
        },
        {
         "name": "X589",
         "rawType": "float64",
         "type": "float"
        },
        {
         "name": "X590",
         "rawType": "float64",
         "type": "float"
        },
        {
         "name": "X591",
         "rawType": "float64",
         "type": "float"
        },
        {
         "name": "X592",
         "rawType": "float64",
         "type": "float"
        },
        {
         "name": "X593",
         "rawType": "float64",
         "type": "float"
        },
        {
         "name": "X594",
         "rawType": "float64",
         "type": "float"
        },
        {
         "name": "X595",
         "rawType": "float64",
         "type": "float"
        },
        {
         "name": "X596",
         "rawType": "float64",
         "type": "float"
        },
        {
         "name": "X597",
         "rawType": "float64",
         "type": "float"
        },
        {
         "name": "X598",
         "rawType": "float64",
         "type": "float"
        },
        {
         "name": "X599",
         "rawType": "float64",
         "type": "float"
        },
        {
         "name": "X600",
         "rawType": "float64",
         "type": "float"
        },
        {
         "name": "X601",
         "rawType": "float64",
         "type": "float"
        },
        {
         "name": "X602",
         "rawType": "float64",
         "type": "float"
        },
        {
         "name": "X603",
         "rawType": "float64",
         "type": "float"
        },
        {
         "name": "X604",
         "rawType": "float64",
         "type": "float"
        },
        {
         "name": "X605",
         "rawType": "float64",
         "type": "float"
        },
        {
         "name": "X606",
         "rawType": "float64",
         "type": "float"
        },
        {
         "name": "X607",
         "rawType": "float64",
         "type": "float"
        },
        {
         "name": "X608",
         "rawType": "float64",
         "type": "float"
        },
        {
         "name": "X609",
         "rawType": "float64",
         "type": "float"
        },
        {
         "name": "X610",
         "rawType": "float64",
         "type": "float"
        },
        {
         "name": "X611",
         "rawType": "float64",
         "type": "float"
        },
        {
         "name": "X612",
         "rawType": "float64",
         "type": "float"
        },
        {
         "name": "X613",
         "rawType": "float64",
         "type": "float"
        },
        {
         "name": "X614",
         "rawType": "float64",
         "type": "float"
        },
        {
         "name": "X615",
         "rawType": "float64",
         "type": "float"
        },
        {
         "name": "X616",
         "rawType": "float64",
         "type": "float"
        },
        {
         "name": "X617",
         "rawType": "float64",
         "type": "float"
        },
        {
         "name": "X618",
         "rawType": "float64",
         "type": "float"
        },
        {
         "name": "X619",
         "rawType": "float64",
         "type": "float"
        },
        {
         "name": "X620",
         "rawType": "float64",
         "type": "float"
        },
        {
         "name": "X621",
         "rawType": "float64",
         "type": "float"
        },
        {
         "name": "X622",
         "rawType": "float64",
         "type": "float"
        },
        {
         "name": "X623",
         "rawType": "float64",
         "type": "float"
        },
        {
         "name": "X624",
         "rawType": "float64",
         "type": "float"
        },
        {
         "name": "X625",
         "rawType": "float64",
         "type": "float"
        },
        {
         "name": "X626",
         "rawType": "float64",
         "type": "float"
        },
        {
         "name": "X627",
         "rawType": "float64",
         "type": "float"
        },
        {
         "name": "X628",
         "rawType": "float64",
         "type": "float"
        },
        {
         "name": "X629",
         "rawType": "float64",
         "type": "float"
        },
        {
         "name": "X630",
         "rawType": "float64",
         "type": "float"
        },
        {
         "name": "X631",
         "rawType": "float64",
         "type": "float"
        },
        {
         "name": "X632",
         "rawType": "float64",
         "type": "float"
        },
        {
         "name": "X633",
         "rawType": "float64",
         "type": "float"
        },
        {
         "name": "X634",
         "rawType": "float64",
         "type": "float"
        },
        {
         "name": "X635",
         "rawType": "float64",
         "type": "float"
        },
        {
         "name": "X636",
         "rawType": "float64",
         "type": "float"
        },
        {
         "name": "X637",
         "rawType": "float64",
         "type": "float"
        },
        {
         "name": "X638",
         "rawType": "float64",
         "type": "float"
        },
        {
         "name": "X639",
         "rawType": "float64",
         "type": "float"
        },
        {
         "name": "X640",
         "rawType": "float64",
         "type": "float"
        },
        {
         "name": "X641",
         "rawType": "float64",
         "type": "float"
        },
        {
         "name": "X642",
         "rawType": "float64",
         "type": "float"
        },
        {
         "name": "X643",
         "rawType": "float64",
         "type": "float"
        },
        {
         "name": "X644",
         "rawType": "float64",
         "type": "float"
        },
        {
         "name": "X645",
         "rawType": "float64",
         "type": "float"
        },
        {
         "name": "X646",
         "rawType": "float64",
         "type": "float"
        },
        {
         "name": "X647",
         "rawType": "float64",
         "type": "float"
        },
        {
         "name": "X648",
         "rawType": "float64",
         "type": "float"
        },
        {
         "name": "X649",
         "rawType": "float64",
         "type": "float"
        },
        {
         "name": "X650",
         "rawType": "float64",
         "type": "float"
        },
        {
         "name": "X651",
         "rawType": "float64",
         "type": "float"
        },
        {
         "name": "X652",
         "rawType": "float64",
         "type": "float"
        },
        {
         "name": "X653",
         "rawType": "float64",
         "type": "float"
        },
        {
         "name": "X654",
         "rawType": "float64",
         "type": "float"
        },
        {
         "name": "X655",
         "rawType": "float64",
         "type": "float"
        },
        {
         "name": "X656",
         "rawType": "float64",
         "type": "float"
        },
        {
         "name": "X657",
         "rawType": "float64",
         "type": "float"
        },
        {
         "name": "X658",
         "rawType": "float64",
         "type": "float"
        },
        {
         "name": "X659",
         "rawType": "float64",
         "type": "float"
        },
        {
         "name": "X660",
         "rawType": "float64",
         "type": "float"
        },
        {
         "name": "X661",
         "rawType": "float64",
         "type": "float"
        },
        {
         "name": "X662",
         "rawType": "float64",
         "type": "float"
        },
        {
         "name": "X663",
         "rawType": "float64",
         "type": "float"
        },
        {
         "name": "X664",
         "rawType": "float64",
         "type": "float"
        },
        {
         "name": "X665",
         "rawType": "float64",
         "type": "float"
        },
        {
         "name": "X666",
         "rawType": "float64",
         "type": "float"
        },
        {
         "name": "X667",
         "rawType": "float64",
         "type": "float"
        },
        {
         "name": "X668",
         "rawType": "float64",
         "type": "float"
        },
        {
         "name": "X669",
         "rawType": "float64",
         "type": "float"
        },
        {
         "name": "X670",
         "rawType": "float64",
         "type": "float"
        },
        {
         "name": "X671",
         "rawType": "float64",
         "type": "float"
        },
        {
         "name": "X672",
         "rawType": "float64",
         "type": "float"
        },
        {
         "name": "X673",
         "rawType": "float64",
         "type": "float"
        },
        {
         "name": "X674",
         "rawType": "float64",
         "type": "float"
        },
        {
         "name": "X675",
         "rawType": "float64",
         "type": "float"
        },
        {
         "name": "X676",
         "rawType": "float64",
         "type": "float"
        },
        {
         "name": "X677",
         "rawType": "float64",
         "type": "float"
        },
        {
         "name": "X678",
         "rawType": "float64",
         "type": "float"
        },
        {
         "name": "X679",
         "rawType": "float64",
         "type": "float"
        },
        {
         "name": "X680",
         "rawType": "float64",
         "type": "float"
        },
        {
         "name": "X681",
         "rawType": "float64",
         "type": "float"
        },
        {
         "name": "X682",
         "rawType": "float64",
         "type": "float"
        },
        {
         "name": "X683",
         "rawType": "float64",
         "type": "float"
        },
        {
         "name": "X684",
         "rawType": "float64",
         "type": "float"
        },
        {
         "name": "X685",
         "rawType": "float64",
         "type": "float"
        },
        {
         "name": "X686",
         "rawType": "float64",
         "type": "float"
        },
        {
         "name": "X687",
         "rawType": "float64",
         "type": "float"
        },
        {
         "name": "X688",
         "rawType": "float64",
         "type": "float"
        },
        {
         "name": "X689",
         "rawType": "float64",
         "type": "float"
        },
        {
         "name": "X690",
         "rawType": "float64",
         "type": "float"
        },
        {
         "name": "X691",
         "rawType": "float64",
         "type": "float"
        },
        {
         "name": "X692",
         "rawType": "float64",
         "type": "float"
        },
        {
         "name": "X693",
         "rawType": "float64",
         "type": "float"
        },
        {
         "name": "X694",
         "rawType": "float64",
         "type": "float"
        },
        {
         "name": "X695",
         "rawType": "float64",
         "type": "float"
        },
        {
         "name": "X696",
         "rawType": "float64",
         "type": "float"
        },
        {
         "name": "X697",
         "rawType": "float64",
         "type": "float"
        },
        {
         "name": "X698",
         "rawType": "float64",
         "type": "float"
        },
        {
         "name": "X699",
         "rawType": "float64",
         "type": "float"
        },
        {
         "name": "X700",
         "rawType": "float64",
         "type": "float"
        },
        {
         "name": "X701",
         "rawType": "float64",
         "type": "float"
        },
        {
         "name": "X702",
         "rawType": "float64",
         "type": "float"
        },
        {
         "name": "X703",
         "rawType": "float64",
         "type": "float"
        },
        {
         "name": "X704",
         "rawType": "float64",
         "type": "float"
        },
        {
         "name": "X705",
         "rawType": "float64",
         "type": "float"
        },
        {
         "name": "X706",
         "rawType": "float64",
         "type": "float"
        },
        {
         "name": "X707",
         "rawType": "float64",
         "type": "float"
        },
        {
         "name": "X708",
         "rawType": "float64",
         "type": "float"
        },
        {
         "name": "X709",
         "rawType": "float64",
         "type": "float"
        },
        {
         "name": "X710",
         "rawType": "float64",
         "type": "float"
        },
        {
         "name": "X711",
         "rawType": "float64",
         "type": "float"
        },
        {
         "name": "X712",
         "rawType": "float64",
         "type": "float"
        },
        {
         "name": "X713",
         "rawType": "float64",
         "type": "float"
        },
        {
         "name": "X714",
         "rawType": "float64",
         "type": "float"
        },
        {
         "name": "X715",
         "rawType": "float64",
         "type": "float"
        },
        {
         "name": "X716",
         "rawType": "float64",
         "type": "float"
        },
        {
         "name": "X717",
         "rawType": "float64",
         "type": "float"
        },
        {
         "name": "X718",
         "rawType": "float64",
         "type": "float"
        },
        {
         "name": "X719",
         "rawType": "float64",
         "type": "float"
        },
        {
         "name": "X720",
         "rawType": "float64",
         "type": "float"
        },
        {
         "name": "X721",
         "rawType": "float64",
         "type": "float"
        },
        {
         "name": "X722",
         "rawType": "float64",
         "type": "float"
        },
        {
         "name": "X723",
         "rawType": "float64",
         "type": "float"
        },
        {
         "name": "X724",
         "rawType": "float64",
         "type": "float"
        },
        {
         "name": "X725",
         "rawType": "float64",
         "type": "float"
        },
        {
         "name": "X726",
         "rawType": "float64",
         "type": "float"
        },
        {
         "name": "X727",
         "rawType": "float64",
         "type": "float"
        },
        {
         "name": "X728",
         "rawType": "float64",
         "type": "float"
        },
        {
         "name": "X729",
         "rawType": "float64",
         "type": "float"
        },
        {
         "name": "X730",
         "rawType": "float64",
         "type": "float"
        },
        {
         "name": "X731",
         "rawType": "float64",
         "type": "float"
        },
        {
         "name": "X732",
         "rawType": "float64",
         "type": "float"
        },
        {
         "name": "X733",
         "rawType": "float64",
         "type": "float"
        },
        {
         "name": "X734",
         "rawType": "float64",
         "type": "float"
        },
        {
         "name": "X735",
         "rawType": "float64",
         "type": "float"
        },
        {
         "name": "X736",
         "rawType": "float64",
         "type": "float"
        },
        {
         "name": "X737",
         "rawType": "float64",
         "type": "float"
        },
        {
         "name": "X738",
         "rawType": "float64",
         "type": "float"
        },
        {
         "name": "X739",
         "rawType": "float64",
         "type": "float"
        },
        {
         "name": "X740",
         "rawType": "float64",
         "type": "float"
        },
        {
         "name": "X741",
         "rawType": "float64",
         "type": "float"
        },
        {
         "name": "X742",
         "rawType": "float64",
         "type": "float"
        },
        {
         "name": "X743",
         "rawType": "float64",
         "type": "float"
        },
        {
         "name": "X744",
         "rawType": "float64",
         "type": "float"
        },
        {
         "name": "X745",
         "rawType": "float64",
         "type": "float"
        },
        {
         "name": "X746",
         "rawType": "float64",
         "type": "float"
        },
        {
         "name": "X747",
         "rawType": "float64",
         "type": "float"
        },
        {
         "name": "X748",
         "rawType": "float64",
         "type": "float"
        },
        {
         "name": "X749",
         "rawType": "float64",
         "type": "float"
        },
        {
         "name": "X750",
         "rawType": "float64",
         "type": "float"
        },
        {
         "name": "X751",
         "rawType": "float64",
         "type": "float"
        },
        {
         "name": "X752",
         "rawType": "float64",
         "type": "float"
        },
        {
         "name": "X753",
         "rawType": "float64",
         "type": "float"
        },
        {
         "name": "X754",
         "rawType": "float64",
         "type": "float"
        },
        {
         "name": "X755",
         "rawType": "float64",
         "type": "float"
        },
        {
         "name": "X756",
         "rawType": "float64",
         "type": "float"
        },
        {
         "name": "X757",
         "rawType": "float64",
         "type": "float"
        },
        {
         "name": "X758",
         "rawType": "float64",
         "type": "float"
        },
        {
         "name": "X759",
         "rawType": "float64",
         "type": "float"
        },
        {
         "name": "X760",
         "rawType": "float64",
         "type": "float"
        },
        {
         "name": "X761",
         "rawType": "float64",
         "type": "float"
        },
        {
         "name": "X762",
         "rawType": "float64",
         "type": "float"
        },
        {
         "name": "X763",
         "rawType": "float64",
         "type": "float"
        },
        {
         "name": "X764",
         "rawType": "float64",
         "type": "float"
        },
        {
         "name": "X765",
         "rawType": "float64",
         "type": "float"
        },
        {
         "name": "X766",
         "rawType": "float64",
         "type": "float"
        },
        {
         "name": "X767",
         "rawType": "float64",
         "type": "float"
        },
        {
         "name": "X768",
         "rawType": "float64",
         "type": "float"
        },
        {
         "name": "X769",
         "rawType": "float64",
         "type": "float"
        },
        {
         "name": "X770",
         "rawType": "float64",
         "type": "float"
        },
        {
         "name": "X771",
         "rawType": "float64",
         "type": "float"
        },
        {
         "name": "X772",
         "rawType": "float64",
         "type": "float"
        },
        {
         "name": "X773",
         "rawType": "float64",
         "type": "float"
        },
        {
         "name": "X774",
         "rawType": "float64",
         "type": "float"
        },
        {
         "name": "X775",
         "rawType": "float64",
         "type": "float"
        },
        {
         "name": "X776",
         "rawType": "float64",
         "type": "float"
        },
        {
         "name": "X777",
         "rawType": "float64",
         "type": "float"
        },
        {
         "name": "X778",
         "rawType": "float64",
         "type": "float"
        },
        {
         "name": "X779",
         "rawType": "float64",
         "type": "float"
        },
        {
         "name": "X780",
         "rawType": "float64",
         "type": "float"
        },
        {
         "name": "X781",
         "rawType": "float64",
         "type": "float"
        },
        {
         "name": "X782",
         "rawType": "float64",
         "type": "float"
        },
        {
         "name": "X783",
         "rawType": "float64",
         "type": "float"
        },
        {
         "name": "X784",
         "rawType": "float64",
         "type": "float"
        },
        {
         "name": "X785",
         "rawType": "float64",
         "type": "float"
        },
        {
         "name": "X786",
         "rawType": "float64",
         "type": "float"
        },
        {
         "name": "X787",
         "rawType": "float64",
         "type": "float"
        },
        {
         "name": "X788",
         "rawType": "float64",
         "type": "float"
        },
        {
         "name": "X789",
         "rawType": "float64",
         "type": "float"
        },
        {
         "name": "X790",
         "rawType": "float64",
         "type": "float"
        },
        {
         "name": "X791",
         "rawType": "float64",
         "type": "float"
        },
        {
         "name": "X792",
         "rawType": "float64",
         "type": "float"
        },
        {
         "name": "X793",
         "rawType": "float64",
         "type": "float"
        },
        {
         "name": "X794",
         "rawType": "float64",
         "type": "float"
        },
        {
         "name": "X795",
         "rawType": "float64",
         "type": "float"
        },
        {
         "name": "X796",
         "rawType": "float64",
         "type": "float"
        },
        {
         "name": "X797",
         "rawType": "float64",
         "type": "float"
        },
        {
         "name": "X798",
         "rawType": "float64",
         "type": "float"
        },
        {
         "name": "X799",
         "rawType": "float64",
         "type": "float"
        },
        {
         "name": "X800",
         "rawType": "float64",
         "type": "float"
        },
        {
         "name": "X801",
         "rawType": "float64",
         "type": "float"
        },
        {
         "name": "X802",
         "rawType": "float64",
         "type": "float"
        },
        {
         "name": "X803",
         "rawType": "float64",
         "type": "float"
        },
        {
         "name": "X804",
         "rawType": "float64",
         "type": "float"
        },
        {
         "name": "X805",
         "rawType": "float64",
         "type": "float"
        },
        {
         "name": "X806",
         "rawType": "float64",
         "type": "float"
        },
        {
         "name": "X807",
         "rawType": "float64",
         "type": "float"
        },
        {
         "name": "X808",
         "rawType": "float64",
         "type": "float"
        },
        {
         "name": "X809",
         "rawType": "float64",
         "type": "float"
        },
        {
         "name": "X810",
         "rawType": "float64",
         "type": "float"
        },
        {
         "name": "X811",
         "rawType": "float64",
         "type": "float"
        },
        {
         "name": "X812",
         "rawType": "float64",
         "type": "float"
        },
        {
         "name": "X813",
         "rawType": "float64",
         "type": "float"
        },
        {
         "name": "X814",
         "rawType": "float64",
         "type": "float"
        },
        {
         "name": "X815",
         "rawType": "float64",
         "type": "float"
        },
        {
         "name": "X816",
         "rawType": "float64",
         "type": "float"
        },
        {
         "name": "X817",
         "rawType": "float64",
         "type": "float"
        },
        {
         "name": "X818",
         "rawType": "float64",
         "type": "float"
        },
        {
         "name": "X819",
         "rawType": "float64",
         "type": "float"
        },
        {
         "name": "X820",
         "rawType": "float64",
         "type": "float"
        },
        {
         "name": "X821",
         "rawType": "float64",
         "type": "float"
        },
        {
         "name": "X822",
         "rawType": "float64",
         "type": "float"
        },
        {
         "name": "X823",
         "rawType": "float64",
         "type": "float"
        },
        {
         "name": "X824",
         "rawType": "float64",
         "type": "float"
        },
        {
         "name": "X825",
         "rawType": "float64",
         "type": "float"
        },
        {
         "name": "X826",
         "rawType": "float64",
         "type": "float"
        },
        {
         "name": "X827",
         "rawType": "float64",
         "type": "float"
        },
        {
         "name": "X828",
         "rawType": "float64",
         "type": "float"
        },
        {
         "name": "X829",
         "rawType": "float64",
         "type": "float"
        },
        {
         "name": "X830",
         "rawType": "float64",
         "type": "float"
        },
        {
         "name": "X831",
         "rawType": "float64",
         "type": "float"
        },
        {
         "name": "X832",
         "rawType": "float64",
         "type": "float"
        },
        {
         "name": "X833",
         "rawType": "float64",
         "type": "float"
        },
        {
         "name": "X834",
         "rawType": "float64",
         "type": "float"
        },
        {
         "name": "X835",
         "rawType": "float64",
         "type": "float"
        },
        {
         "name": "X836",
         "rawType": "float64",
         "type": "float"
        },
        {
         "name": "X837",
         "rawType": "float64",
         "type": "float"
        },
        {
         "name": "X838",
         "rawType": "float64",
         "type": "float"
        },
        {
         "name": "X839",
         "rawType": "float64",
         "type": "float"
        },
        {
         "name": "X840",
         "rawType": "float64",
         "type": "float"
        },
        {
         "name": "X841",
         "rawType": "float64",
         "type": "float"
        },
        {
         "name": "X842",
         "rawType": "float64",
         "type": "float"
        },
        {
         "name": "X843",
         "rawType": "float64",
         "type": "float"
        },
        {
         "name": "X844",
         "rawType": "float64",
         "type": "float"
        },
        {
         "name": "X845",
         "rawType": "float64",
         "type": "float"
        },
        {
         "name": "X846",
         "rawType": "float64",
         "type": "float"
        },
        {
         "name": "X847",
         "rawType": "float64",
         "type": "float"
        },
        {
         "name": "X848",
         "rawType": "float64",
         "type": "float"
        },
        {
         "name": "X849",
         "rawType": "float64",
         "type": "float"
        },
        {
         "name": "X850",
         "rawType": "float64",
         "type": "float"
        },
        {
         "name": "X851",
         "rawType": "float64",
         "type": "float"
        },
        {
         "name": "X852",
         "rawType": "float64",
         "type": "float"
        },
        {
         "name": "X853",
         "rawType": "float64",
         "type": "float"
        },
        {
         "name": "X854",
         "rawType": "float64",
         "type": "float"
        },
        {
         "name": "X855",
         "rawType": "float64",
         "type": "float"
        },
        {
         "name": "X856",
         "rawType": "float64",
         "type": "float"
        },
        {
         "name": "X857",
         "rawType": "float64",
         "type": "float"
        },
        {
         "name": "X858",
         "rawType": "float64",
         "type": "float"
        },
        {
         "name": "X859",
         "rawType": "float64",
         "type": "float"
        },
        {
         "name": "X860",
         "rawType": "float64",
         "type": "float"
        },
        {
         "name": "X861",
         "rawType": "float64",
         "type": "float"
        },
        {
         "name": "X862",
         "rawType": "float64",
         "type": "float"
        },
        {
         "name": "X863",
         "rawType": "float64",
         "type": "float"
        },
        {
         "name": "X864",
         "rawType": "float64",
         "type": "float"
        },
        {
         "name": "X865",
         "rawType": "float64",
         "type": "float"
        },
        {
         "name": "X866",
         "rawType": "float64",
         "type": "float"
        },
        {
         "name": "X867",
         "rawType": "float64",
         "type": "float"
        },
        {
         "name": "X868",
         "rawType": "float64",
         "type": "float"
        },
        {
         "name": "X869",
         "rawType": "float64",
         "type": "float"
        },
        {
         "name": "X870",
         "rawType": "float64",
         "type": "float"
        },
        {
         "name": "X871",
         "rawType": "float64",
         "type": "float"
        },
        {
         "name": "X872",
         "rawType": "float64",
         "type": "float"
        },
        {
         "name": "X873",
         "rawType": "float64",
         "type": "float"
        },
        {
         "name": "X874",
         "rawType": "float64",
         "type": "float"
        },
        {
         "name": "X875",
         "rawType": "float64",
         "type": "float"
        },
        {
         "name": "X876",
         "rawType": "float64",
         "type": "float"
        },
        {
         "name": "X877",
         "rawType": "float64",
         "type": "float"
        },
        {
         "name": "X878",
         "rawType": "float64",
         "type": "float"
        },
        {
         "name": "X879",
         "rawType": "float64",
         "type": "float"
        },
        {
         "name": "X880",
         "rawType": "float64",
         "type": "float"
        },
        {
         "name": "X881",
         "rawType": "float64",
         "type": "float"
        },
        {
         "name": "X882",
         "rawType": "float64",
         "type": "float"
        },
        {
         "name": "X883",
         "rawType": "float64",
         "type": "float"
        },
        {
         "name": "X884",
         "rawType": "float64",
         "type": "float"
        },
        {
         "name": "X885",
         "rawType": "float64",
         "type": "float"
        },
        {
         "name": "X886",
         "rawType": "float64",
         "type": "float"
        },
        {
         "name": "X887",
         "rawType": "float64",
         "type": "float"
        },
        {
         "name": "X888",
         "rawType": "float64",
         "type": "float"
        },
        {
         "name": "X889",
         "rawType": "float64",
         "type": "float"
        },
        {
         "name": "X890",
         "rawType": "float64",
         "type": "float"
        },
        {
         "name": "label",
         "rawType": "float64",
         "type": "float"
        }
       ],
       "ref": "6f95af09-b951-4d59-907e-10fa5d86bf34",
       "rows": [
        [
         "2023-03-01 00:00:00",
         "15.283",
         "8.425",
         "176.405",
         "44.984",
         "221.389",
         "0.12126283383894723",
         "-0.4176898669428099",
         "0.005399081177477977",
         "0.12594849995271953",
         "0.05835869964512563",
         "0.027359154745999134",
         "0.03577971693331351",
         "0.06821930112890864",
         "1.0348247162123887",
         "-0.02957505217236056",
         "0.32780531593758644",
         "0.48582304827631106",
         "0.6685959040444509",
         "0.6173890024770181",
         "0.7700370072855608",
         "0.8576314477359053",
         "1.7544562143190408",
         "0.572502660124858",
         "0.8832289155390818",
         "0.5856696032365285",
         "0.8163207007339324",
         "0.529973437478783",
         "0.5082440392324652",
         "0.44861559490546",
         "1.3418919603236994",
         "1.4063917308684175",
         "0.9536305145475525",
         "1.1839908376451929",
         "1.4747893656909117",
         "0.7743887888176904",
         "0.6605855869495292",
         "0.26904332595534286",
         "0.9628024064258633",
         "0.9665131930714793",
         "0.9527586730637893",
         "0.9529157623213503",
         "0.8138255682167391",
         "0.8068040775614602",
         "0.9662432788132527",
         "0.963405982335009",
         "0.8911817224365729",
         "0.8860600629580518",
         "0.7192445695461084",
         "0.7106066700356184",
         "0.4418363613116228",
         "0.43980085243546935",
         "0.4019203055356574",
         "0.399155525087933",
         "0.32496244105998967",
         "0.32118426501194075",
         "0.38109104031946683",
         "0.3789760069425039",
         "0.34676863916448675",
         "0.3442673133830801",
         "0.28732055501393133",
         "0.2843370217537885",
         "-0.7379480443605236",
         "0.17242462811137937",
         "0.0025878723399224346",
         "0.17185387413966288",
         "-0.20966135235361322",
         "5.45812560536624e-13",
         "-0.26201311523612564",
         "0.12132579128280532",
         "0.053275277497055046",
         "0.07696189508846445",
         "-0.21664934326162524",
         "0.00010598335236261622",
         "-0.061873850732877364",
         "0.06752708552096323",
         "0.08243003519316729",
         "0.013228265476653405",
         "-0.04589609856894834",
         "0.00688262795810817",
         "0.11952006672713991",
         "0.016742529109931285",
         "0.2594591259325758",
         "0.0080571358580192",
         "0.059673502903693484",
         "0.08546735583983525",
         "0.3605896037639334",
         "-0.14333872692322217",
         "0.41784725075799956",
         "0.10336714866672728",
         "0.04537822113999872",
         "0.34146269295432097",
         "0.6385623972735186",
         "-0.28741972780812153",
         "0.664926402183167",
         "0.36747271642747514",
         "-0.07270946153665508",
         "0.23293149421898113",
         "0.4595866291654951",
         "-0.21894572027531126",
         "0.44610775428903876",
         "0.5052761819158703",
         "-0.12902666137732577",
         "0.23269152667005286",
         "-0.43936011281088067",
         "0.24972036364307873",
         "0.007431633599417861",
         "-0.0005512128128293202",
         "-0.17233214966158666",
         "5.45812560536624e-13",
         "-0.1308142263267866",
         "0.17835269859828742",
         "0.22375101892109148",
         "-0.004618742377793737",
         "-0.11543865164155775",
         "0.00010598335236261622",
         "0.04534727954750273",
         "0.09955364828233129",
         "0.29755533257853334",
         "0.0004032457215877029",
         "-0.07577504795626692",
         "0.00688262795810817",
         "0.22903920288250598",
         "0.073406597212251",
         "0.3109669216226502",
         "0.006475624989743752",
         "-0.19603982095693903",
         "0.08546735583983525",
         "0.24970643972669193",
         "-0.120183731069572",
         "0.6574686331547263",
         "0.04438857601039305",
         "-0.4155842694012363",
         "0.34146269295432097",
         "0.1274477572302774",
         "-0.33662852211132227",
         "0.48285405902789585",
         "0.07247727353847278",
         "-0.8109150560807831",
         "0.23293149421898113",
         "0.12597771961722112",
         "-0.3413206188651641",
         "0.6560326267801921",
         "0.11735009425469191",
         "-0.5770930759716557",
         "0.23269152667005286",
         "-0.5504335812510371",
         "1.1002956292148156",
         "0.01389325417894778",
         "-0.011914079589681497",
         "-0.18014834751173597",
         "5.45812560536624e-13",
         "-0.1778712526565583",
         "0.8503203199074205",
         "0.5923426596517488",
         "-0.11413572938534225",
         "-0.417429994851902",
         "0.00010598335236261622",
         "0.0040157219161169695",
         "0.5258973399349026",
         "0.8816319600253951",
         "-0.18889109972999396",
         "-0.4666598906047899",
         "0.00688262795810817",
         "0.10345186002878291",
         "0.6980971413818141",
         "0.850060738487212",
         "-0.4089393545329776",
         "-0.5687180201564483",
         "0.08546735583983525",
         "0.12084999924906284",
         "0.2887764365885602",
         "1.2711475872607068",
         "-0.25808744220932256",
         "-1.2518138609834673",
         "0.34146269295432097",
         "0.10603593607407759",
         "0.1858733041661578",
         "0.8777983076183131",
         "-0.16794899340118535",
         "-0.9298427562945851",
         "0.23293149421898113",
         "0.0778781465352264",
         "-0.03356422560392979",
         "1.1436290709062489",
         "-0.11143146729566054",
         "-0.5787881538732913",
         "0.23269152667005286",
         "0.14513498833541405",
         "0.45828269836154334",
         "0.42594025305022853",
         "0.2260570245839375",
         "0.46261840230376094",
         "0.42594025305022853",
         "0.5345249020049323",
         "0.42961217759106063",
         "0.42594025305022853",
         "0.032206047166074385",
         "-0.248148986113801",
         "-0.29609582770494935",
         "-0.6717709121619437",
         "-1.2987280509866004",
         "-1.1050949574675948",
         "-1.700689101511445",
         "0.037467048384822337",
         "-0.28868522800786967",
         "-0.344464399681173",
         "-0.7815076820728534",
         "-1.5108810613771484",
         "-1.2856171397797898",
         "-1.9785042394457928",
         "0.04659394429734305",
         "-0.35900835569191425",
         "-0.42837521884067126",
         "-0.9718813457747342",
         "-0.9394642899363691",
         "-1.5987908303680234",
         "-1.2302319010821579",
         "-0.02842753951622286",
         "-0.17424482212415338",
         "-0.2136413290112654",
         "-0.5347203873217439",
         "-0.9819754871211436",
         "-0.7344772490323737",
         "-0.5032268399555033",
         "-0.07694729914401086",
         "-0.47164364839351575",
         "-0.5782816076492481",
         "-0.7236871410937099",
         "-1.3289993232878292",
         "-0.9940367959652641",
         "-0.6810639761709553",
         "-0.11900175619043472",
         "-0.36470690381119664",
         "-0.8943332338942106",
         "-1.1192081032163101",
         "-1.0276725447579322",
         "-0.7686567673830204",
         "-0.526644925448903",
         "-1.0993062706242696",
         "-0.7047546616984173",
         "-0.7454566565791657",
         "-0.30903489681069113",
         "-0.16421851132703097",
         "-0.11868342469683527",
         "0.043855974114829846",
         "-1.1591139301362274",
         "-0.7157223168841197",
         "-0.7361935264845388",
         "-0.2800859946198278",
         "-0.16654733923161702",
         "-0.20149327050713792",
         "-0.03064836370926481",
         "0.2662959036038156",
         "0.31472820834999093",
         "0.6565624001219241",
         "0.42136143315035446",
         "0.4116804522079933",
         "0.2687574152631217",
         "0.1878482114892917",
         "0.1498318186386028",
         "0.3769267822538266",
         "0.37237705417070993",
         "0.5656464492017629",
         "0.3039645920157861",
         "0.1986570064573263",
         "0.03212302915387022",
         "0.066691941035942",
         "0.12893857653829702",
         "0.1628049535364269",
         "0.37240027293646827",
         "0.6477996292146422",
         "0.38941577954046225",
         "0.46881463911994586",
         "0.9122957687542574",
         "0.623308217814333",
         "0.6619428684832378",
         "-0.4419410512577844",
         "0.0521128099985968",
         "0.12507560194231981",
         "0.07882759835430475",
         "-0.0026990351047286865",
         "-0.10147718745360967",
         "-0.1194598780885574",
         "-0.15253749986620924",
         "0.3563200181140275",
         "0.3532899923478532",
         "0.33789393185858924",
         "0.33311779754339327",
         "0.28381813980715637",
         "0.27499733856542946",
         "-0.021490983435378124",
         "-0.027900945796774535",
         "-0.05333474610641377",
         "-0.06033683227264273",
         "-0.10817521327756838",
         "-0.11621548382070626",
         "-0.21317146445552568",
         "-0.21989284527267142",
         "-0.2435801376983838",
         "-0.25051456533273136",
         "-0.2918501534884563",
         "-0.2991304607793457",
         "-0.40713997866625734",
         "-0.4107762874504107",
         "-0.4261444192838046",
         "-0.42966729618206584",
         "-0.45434098523089306",
         "-0.45768337228066747",
         "0.07154425391840807",
         "1.0322193269582554",
         "0.004111583454409504",
         "-0.032902234972573226",
         "-0.6459447494512228",
         "9.831453373026195e-13",
         "0.12697019824755665",
         "0.12583556539757967",
         "0.058117381697482456",
         "0.04838022956343606",
         "-0.45235427565210395",
         "9.54647375707698e-05",
         "0.11768275227203046",
         "-0.15638752672952505",
         "0.14733627778279154",
         "0.08236899984747874",
         "-0.6060627740920342",
         "0.012509534169569571",
         "0.16553311910742124",
         "-0.26727809889936904",
         "0.16420780777551008",
         "0.1210394903777583",
         "-0.35594486912321555",
         "0.08205087374810305",
         "0.17622126009726943",
         "-0.4806247147271565",
         "0.5123641743742126",
         "0.25160942826113486",
         "-0.2946324713392057",
         "0.3624685643078267",
         "0.4063848143234395",
         "-0.29854461375060504",
         "0.43916864527399235",
         "0.4318226439839318",
         "-0.25579260575330803",
         "0.2506178554130512",
         "0.7543545892411571",
         "-0.12500391798533902",
         "0.3053666034639133",
         "0.21684397890825352",
         "-0.3626066836501074",
         "0.2609836980716406",
         "-0.5481857739574352",
         "0.7009932606710852",
         "0.024410881749739363",
         "-0.5034015579656669",
         "-0.4001973131312818",
         "9.831453373026195e-13",
         "-0.3629057551801964",
         "0.10262764328123959",
         "0.30086345243906637",
         "-1.9362879697437883",
         "-0.09487096812793194",
         "9.54647375707698e-05",
         "-0.15823462512974662",
         "-0.13736577016857296",
         "0.36557403296250085",
         "-1.7327928965983546",
         "0.14681791879219952",
         "0.012509534169569571",
         "-0.1590172395270052",
         "-0.24657288391328605",
         "0.5691440749097522",
         "-1.3476186266718888",
         "0.25508139128522744",
         "0.08205087374810305",
         "-0.19976081818696803",
         "-0.4679418747622929",
         "0.3495995079200263",
         "-0.7734356403858135",
         "-0.0988716533378506",
         "0.3624685643078267",
         "-0.07678853566369723",
         "-0.36301457371156254",
         "0.5017342541533296",
         "-0.9700002213493991",
         "-0.45968291720210336",
         "0.2506178554130512",
         "-0.012735634378809847",
         "-0.23625389650544212",
         "0.35205392870704183",
         "-0.5892089487495737",
         "-0.6560999704296695",
         "0.2609836980716406",
         "-0.7822124277471888",
         "1.6610873306054699",
         "0.04116902464049495",
         "-0.1039251184036542",
         "-0.3531849348883788",
         "9.831453373026195e-13",
         "-0.4424341223864158",
         "0.4434521614964524",
         "0.9443460045214805",
         "-0.937009148476873",
         "-0.5123831581808468",
         "9.54647375707698e-05",
         "-0.14753035975083065",
         "0.30930201409045366",
         "1.1703861678255163",
         "-1.039110492430054",
         "-0.28938135346047245",
         "0.012509534169569571",
         "-0.030998330938822188",
         "0.09293024469371894",
         "2.1154673485132878",
         "-0.8995362751760478",
         "-0.23940696890855065",
         "0.08205087374810305",
         "0.15463422845289923",
         "-0.3049093892054601",
         "1.439890182234235",
         "-1.0351008984103778",
         "-0.725909393225631",
         "0.3624685643078267",
         "0.13215905377602216",
         "-0.37808241320150654",
         "0.9274685820653285",
         "-0.6256602933475071",
         "-0.8337159354803001",
         "0.2506178554130512",
         "0.17022493322762078",
         "-0.2670526014135991",
         "1.0750808274690637",
         "-0.3327262087305863",
         "-1.4322465210444684",
         "0.2609836980716406",
         "0.44686678860632867",
         "0.11488992308196089",
         "0.057444961540980444",
         "0.46492451457541506",
         "0.11488992308196089",
         "0.057444961540980444",
         "0.41582367209414883",
         "0.11488992308196089",
         "0.057444961540980444",
         "0.06456421758256212",
         "0.02548306508802423",
         "0.05544597880934073",
         "-0.0063099988244144384",
         "-0.0775088001427701",
         "-0.14254574720197583",
         "-0.12833089533046993",
         "0.07165340216316483",
         "0.02828111885298318",
         "0.061533976042931704",
         "-0.007002839968387998",
         "-0.08601930660295447",
         "-0.15819734418450737",
         "-0.1424216942041393",
         "0.08174464280694213",
         "0.03226406407826144",
         "0.0351000283326827",
         "-0.00798907846059449",
         "-0.09813375611596745",
         "-0.09023846044268738",
         "-0.08123976091299868",
         "0.0019362063592937824",
         "0.002270531691727675",
         "0.005572590399911805",
         "-0.03225375104381351",
         "-0.12561753884137908",
         "-0.10249652371362403",
         "-0.16347580729448094",
         "0.004769484972633159",
         "0.002796516686251456",
         "0.006863521040369229",
         "-0.07945112884074475",
         "-0.15471774507073938",
         "-0.1262405805178676",
         "-0.20134615366217715",
         "0.003103748039802921",
         "0.003639673144179002",
         "0.0089328890215294",
         "-0.05170291694271736",
         "-0.10068275730847341",
         "-0.16430241695870032",
         "-0.1310262498648417",
         "-2.175165606061678",
         "-2.9087087530195883",
         "-1.6418364888981916",
         "-1.3133126953030065",
         "-0.5433424061158548",
         "-0.30555603886639215",
         "0.14141296296192934",
         "-2.3931735767980387",
         "-3.007007512558512",
         "-1.6256136499051372",
         "-1.1785345954120612",
         "-0.4367370578779423",
         "-0.363964492801472",
         "-0.08224474842570316",
         "0.27813644465419357",
         "0.4743416539416475",
         "0.1535999999999973",
         "0.3071999999999946",
         "0.0",
         "0.0",
         "0.0",
         "0.5846095352768972",
         "0.7543345947116615",
         "0.22613333333333685",
         "0.4522666666666737",
         "0.0",
         "0.0",
         "0.0",
         "0.9063469784810501",
         "0.6721530272526074",
         "0.2346666666666657",
         "0.4693333333333314",
         "0.0",
         "0.0",
         "0.0",
         "1.1804222427619058",
         "0.863549738492042",
         "0.439466666666668",
         "0.878933333333336",
         "0.0",
         "0.878933333333336",
         "0.0",
         "0.6489318875187801",
         "0.7012560351025378",
         "0.9196444444444456",
         "1.8392888888888912",
         "0.0",
         "0.0",
         "0.0",
         "0.40233945857504294",
         "0.948348113427983",
         "0.5946444444444445",
         "1.189288888888889",
         "0.0",
         "0.0",
         "0.0",
         "0.736952840455198",
         "1.0497904052542486",
         "0.5349666666666666",
         "0.5349666666666666",
         "0.0",
         "0.0",
         "0.0",
         "0.01646686255176748",
         "0.47434165655321264",
         "0.10240000000001714",
         "0.0",
         "0.0",
         "0.0",
         "0.0",
         "0.2384217152927765",
         "-0.2964435663366435",
         "-0.0682666666666556",
         "-0.1365333333333112",
         "-0.0",
         "-0.0",
         "-0.0",
         "0.20850067784764054",
         "0.11778460397952824",
         "0.02133333333334342",
         "0.04266666666668684",
         "0.0",
         "0.0",
         "0.0",
         "0.4024690998442387",
         "-0.05055841950987775",
         "-0.05546666666665345",
         "-0.1109333333333069",
         "-0.0",
         "-0.0",
         "-0.0",
         "-0.20145563221170656",
         "0.2182347219138895",
         "0.26560000000000716",
         "0.0",
         "0.5312000000000143",
         "0.0",
         "0.0",
         "-0.23482672680306105",
         "0.42570488648541616",
         "0.2368888888888927",
         "0.0",
         "0.4737777777777854",
         "0.0",
         "0.0",
         "0.6489236812779666",
         "0.28496718083246475",
         "0.13302222222222548",
         "0.13302222222222548",
         "0.0",
         "0.0",
         "0.0",
         "0.0",
         "0.541015625",
         "0.02755119138625884",
         "-0.294921875",
         "0.008695819772699563",
         "0.07564114758759038",
         "0.9611248260392095",
         "1.3627959254393478",
         "2.7364434580902413",
         "2.0953301673587705",
         "0.8397659086546752",
         "0.9232857769766684",
         "0.4438322509988198",
         "1.2520828665112804",
         "0.8773294857079508",
         "1.3452972877946103",
         "1.0806687765755079",
         "1.4334920731023428",
         "1.0643228635337183",
         "0.8176852671804432",
         "-0.0024969084131187323",
         "0.14265226337859094",
         "0.0002733278993581153",
         "-0.0012484542065582394",
         "0.1701777771556401",
         "0.00013666394967905765",
         "-0.002530670817041434",
         "0.12265356746596157",
         "1.805910274283382e-05",
         "-0.0012653354085196602",
         "0.13997210336415677",
         "9.02955137141691e-06",
         "0.004101926043083175",
         "0.14552372480891584",
         "0.0001659312203577292",
         "0.0010316755536366714",
         "0.16588415176503313",
         "8.29656101788646e-05",
         "0.004012792763733567",
         "0.08819967942910645",
         "1.5955487181892937e-05",
         "0.0010092576396239306",
         "0.08097075123135777",
         "3.988871795473234e-06",
         "0.05803633900849148",
         "0.350603371169103",
         "0.00020574141492134824",
         "0.031106207162348166",
         "0.24110440705338165",
         "0.00010287070746067412",
         "0.05574585175118635",
         "0.26745625745235",
         "4.68998095040194e-05",
         "0.02989220123957378",
         "0.3607623441814227",
         "2.34499047520097e-05",
         "0.20492835452990626",
         "0.36132141926702843",
         "0.0006003922557788891",
         "0.0719675097584776",
         "0.12065237809862861",
         "0.00030019612788944456",
         "0.1899618981741853",
         "0.28410972234971243",
         "0.0002943707020277259",
         "0.06705747062429852",
         "0.14136221472305366",
         "0.00014718535101386295",
         "0.10618607790005852",
         "0.17659837021096703",
         "0.03478117402048629",
         "0.273225479578873",
         "0.013897813026734873",
         "0.017390587010243146",
         "0.08991741948463194",
         "0.15027758855728246",
         "0.018343468948906348",
         "0.2590999083703633",
         "0.11101969274375634",
         "0.009171734474453174",
         "-0.08443154048720158",
         "0.1656737792030123",
         "0.24812483735925447",
         "0.6067288171224797",
         "0.03978263422133921",
         "0.12406241867962724",
         "-0.09087267136694344",
         "0.17047333355870786",
         "0.2547918085507329",
         "0.5822458208488293",
         "0.1402442178618537",
         "0.12739590427536646",
         "-0.13302435389241163",
         "0.09304479810046029",
         "1.140705333962427",
         "0.45778346266221315",
         "0.0883816112671445",
         "0.28517633349067295",
         "-0.14278252900062705",
         "0.17546610381014482",
         "0.6463899446133532",
         "0.4361065150436292",
         "0.1562199500622652",
         "0.3231949723067516",
         "-inf",
         "-inf",
         "-inf",
         "-inf",
         "-inf",
         "-inf",
         "-inf",
         "-inf",
         "-inf",
         "-inf",
         "-inf",
         "-inf",
         "-inf",
         "-inf",
         "-inf",
         "-inf",
         "-inf",
         "-inf",
         "-inf",
         "-inf",
         "-inf",
         "0.4904906037296509",
         "0.24478974276775242",
         "0.02441282475960065",
         "0.020864548289242012",
         "-0.10755036578165539",
         "-0.0638288004382799",
         "-0.14648324949714267",
         "-0.12043226989491447",
         "-0.433535174751632",
         "-0.30115515547723076",
         "-0.7121967193234684",
         "-0.3492636854807708",
         "-0.44935791889905047",
         "-0.31403674421456457",
         "0.3166367258863367",
         "0.1750100105800501",
         "-0.06977973218770231",
         "-0.13955946437540462",
         "-0.046023546755941724",
         "-0.022071010164740522",
         "-0.04293555845398253",
         "-0.0",
         "-0.249674137379339",
         "-0.17155698818348739",
         "-0.10772818774520748",
         "-0.21545637549041496",
         "-0.6625953838314852",
         "-0.32940861765874935",
         "-0.2089763477638349",
         "-0.4179526955276698",
         "-1.47131281594947",
         "-0.6761876523212397",
         "-0.3750324968440089",
         "-0.7500649936880178",
         "-1.0086444790156572",
         "-0.6667423704971681",
         "-0.3174786850163973",
         "-0.6349573700327946",
         "-0.5597713870145277",
         "-0.5228420404067237",
         "-0.2088052961921591",
         "-0.4176105923843182",
         "1.0696511369745921e-16",
         "8.333100238805956e-17",
         "-0.0",
         "-0.0",
         "3.3026842488035897e-06",
         "2.241747054672421e-06",
         "-0.0",
         "-0.0",
         "0.0009205320823885149",
         "0.0004464931345592647",
         "0.0",
         "0.0",
         "-0.004093213299854219",
         "-0.002833623582501619",
         "0.0",
         "0.0",
         "-0.2082175617568457",
         "-0.12538152374286451",
         "0.0",
         "0.0",
         "-0.2907707049415716",
         "-0.24830313797081272",
         "0.0",
         "0.0",
         "-0.4412525660287066",
         "-0.26935002612394227",
         "0.0",
         "0.0",
         "-0.73214782833116",
         "-0.767800089871052",
         "-1.0125898326388043",
         "-0.0",
         "-0.9273142086202651",
         "-0.8527508860928587",
         "-0.8736154343821007",
         "-0.0",
         "-0.6018249348159269",
         "-0.7916271296637736",
         "-0.7277983292254937",
         "-1.4555966584509874",
         "-0.7708134168790728",
         "-0.7282531280849327",
         "-0.6078208581900182",
         "-1.2156417163800364",
         "-0.502155778374763",
         "-0.8477236949349023",
         "-0.5465685394576716",
         "-1.0931370789153432",
         "-0.7296834432885966",
         "-0.8921623878560115",
         "-0.5428987023752407",
         "-1.0857974047504815",
         "-0.44831943334753277",
         "-0.8009349974153677",
         "-0.4868982532008031",
         "-0.9737965064016062",
         "0.18405221496888108",
         "0.1069595999988005",
         "-0.13783014276895192",
         "-0.27566028553790384",
         "-0.5134478655248097",
         "-0.2572703583760174",
         "-0.2781349066652594",
         "-0.0",
         "-0.6538157058851761",
         "-0.4710749843048293",
         "-0.4072461838665494",
         "-0.8144923677330989",
         "-1.1246680446612083",
         "-0.5881118523049618",
         "-0.4676795824100473",
         "-0.9353591648200946",
         "-0.7887016417530166",
         "-0.7512068851614655",
         "-0.45005172968423474",
         "-0.9001034593684695",
         "-0.9111484876097649",
         "-0.6318744696623244",
         "-0.2826107841815536",
         "-0.5652215683631072",
         "-0.4125733373198623",
         "-0.42359477525134553",
         "-0.10955803103678097",
         "-0.21911606207356193",
         "0.044787732213403056",
         "0.17703647523946894",
         "0.0",
         "0.0",
         "-0.38099444650972325",
         "-0.7619888930194465",
         "-0.16828914472629025",
         "-0.3365782894525805",
         "0.8780941914123661",
         "1.9140625",
         "0.2734375",
         "0.41861796553863007",
         "-0.21652505168490926",
         "0.20050779746746958",
         "0.4924325532555282",
         "-0.5124903596572632",
         "0.5412859335044439",
         "-0.3363991438620743",
         "-1.0274825479491674",
         "0.2185698540594545",
         "0.0",
         "1.7281548428729678",
         "0.6241402315275895",
         "0.0",
         "-0.05121141496210573",
         "0.0",
         "0.0",
         "0.0",
         "0.0",
         "0.6917542889084416",
         "0.2421238815519944",
         "2.096156909962336",
         "3.3691946166715505",
         "0.2446667167800977",
         "0.2866105956008472",
         "0.7226789325048847",
         "0.9019305823907692",
         "1.0000065729061005",
         "1.925423088585297",
         "1.8479432381011867",
         "0.005676313179842932",
         "0.19079089083254394",
         "0.3696905280859161",
         "0.37763004217718465",
         "0.2101526334260264",
         "0.15918307826916808",
         "0.5306359767075778",
         "0.5625392046862454"
        ],
        [
         "2023-03-01 00:01:00",
         "38.59",
         "2.336",
         "525.846",
         "321.95",
         "847.796",
         "0.30284109252769303",
         "-0.049575772332107526",
         "0.3566667082790028",
         "0.4810869022920109",
         "0.23795400826499646",
         "0.20835863943631072",
         "0.21705650824949058",
         "0.24962420967204885",
         "0.9486938532397017",
         "-0.18348798010703127",
         "0.1505260548311731",
         "0.3084209727845282",
         "0.492232242742886",
         "0.5297865103090283",
         "0.6829575921016215",
         "0.7709651922685872",
         "1.6865036437439906",
         "0.27335670711332494",
         "0.591695451521498",
         "0.44239127418337176",
         "0.6747922904963621",
         "0.46074103070732364",
         "0.4396808008784172",
         "0.3803988584564817",
         "1.3041131517045628",
         "1.0037829653775674",
         "0.7766276903912965",
         "1.015943216231455",
         "1.3127346755844949",
         "0.6968953511595295",
         "0.5842165578253873",
         "0.23110402842757582",
         "0.9351449239540126",
         "0.938957303790746",
         "0.9182754494406816",
         "0.9190651613402594",
         "0.7991814636861527",
         "0.7937385050531439",
         "0.9532420057981622",
         "0.9509079260323792",
         "0.8781704781899521",
         "0.8738174774363272",
         "0.7205747090208505",
         "0.7130618854330668",
         "0.4399535587210005",
         "0.4381462254397159",
         "0.40047096424274464",
         "0.39801270558605817",
         "0.3287303212779017",
         "0.32535037746535983",
         "0.3831245970473725",
         "0.38115857748074566",
         "0.34921152896960395",
         "0.34689842282109024",
         "0.29297775680426785",
         "0.2902211376813299",
         "0.18484233085691884",
         "0.1410746957274922",
         "0.002117350096300173",
         "0.1406077152051787",
         "0.2190583422107888",
         "4.4657391316632874e-13",
         "0.3145553463062575",
         "0.11349832087746305",
         "0.049838162819825685",
         "0.07199661153436995",
         "0.07452764246500818",
         "9.914571672631839e-05",
         "0.5089940157613703",
         "0.06531308271699722",
         "0.07972741108847327",
         "0.012794551854468046",
         "0.09648062385958127",
         "0.006656968025055442",
         "0.691084894627241",
         "0.016465793091585315",
         "0.25517054533864897",
         "0.0079239600587131",
         "0.12970524559125546",
         "0.08405467227223468",
         "0.7430704608586862",
         "-0.14254460655245638",
         "0.4155323075405037",
         "0.1027944774829781",
         "0.09273450728882102",
         "0.33957093288255186",
         "1.0218029138379108",
         "-0.2866224470097633",
         "0.6630819461438239",
         "0.36645337463433375",
         "-0.04867091137704543",
         "0.23228535969964967",
         "0.6515882696784411",
         "-0.21864184002510262",
         "0.4454885901609485",
         "0.5045748964447865",
         "-0.1049941805953919",
         "0.23236856827078836",
         "0.5053857137620453",
         "0.20431666116251895",
         "0.006080427490432795",
         "-0.00045099230140580737",
         "-0.14099903154129817",
         "4.4657391316632874e-13",
         "0.49139855386722653",
         "0.16684607288226888",
         "0.20931546931327913",
         "-0.004320758998581237",
         "-0.10799099669694112",
         "9.914571672631839e-05",
         "0.6676954911479416",
         "0.09628959424028763",
         "0.28779942003497483",
         "0.000390024550388106",
         "-0.0732906201544221",
         "0.006656968025055442",
         "0.8542440998054674",
         "0.07219326502692454",
         "0.30582697250492047",
         "0.0063685898659463355",
         "-0.19279949333781607",
         "0.08405467227223468",
         "0.669973279027063",
         "-0.11951789322431122",
         "0.6538261476524839",
         "0.0441426559216928",
         "-0.4132818634765757",
         "0.33957093288255186",
         "0.3382117604930102",
         "-0.33569473980310777",
         "0.48151465803197935",
         "0.07227622700993332",
         "-0.8086656384494909",
         "0.23228535969964967",
         "0.33706691343718026",
         "-0.3408468914274609",
         "0.6551221026625236",
         "0.11718722111901571",
         "-0.5762921140341516",
         "0.23236856827078836",
         "0.41291931077394106",
         "0.9002418784484854",
         "0.011367207964593635",
         "-0.009747883300648496",
         "-0.26696665084423465",
         "4.4657391316632874e-13",
         "0.4462504184679086",
         "0.7954609444295224",
         "0.5541270041903457",
         "-0.10677213394112661",
         "-0.4753569649699056",
         "9.914571672631839e-05",
         "0.6265735441334709",
         "0.508654804199332",
         "0.8527259941229232",
         "-0.18269794891917446",
         "-0.4944840919515496",
         "0.006656968025055442",
         "0.4156597515910404",
         "0.6865583456564949",
         "0.8360101477684151",
         "-0.4021800263588788",
         "-0.5810581856361923",
         "0.08405467227223468",
         "0.3306184679462475",
         "0.28717656713377593",
         "1.2641052183562151",
         "-0.25665759488406314",
         "-1.2594525435451207",
         "0.33957093288255186",
         "0.3164716677304146",
         "0.18535770554156375",
         "0.8753633608565424",
         "-0.16748311547219455",
         "-0.9345605185888081",
         "0.23228535969964967",
         "0.28864616353708444",
         "-0.03351764097436153",
         "1.1420417994684884",
         "-0.11127680877061451",
         "-0.5816359094728594",
         "0.23236856827078836",
         "0.1821989748554813",
         "0.4432573124268373",
         "0.39849896210270686",
         "0.20879787818911666",
         "0.4368831848626016",
         "0.39849896210270686",
         "0.4747444265734657",
         "0.41517024277931114",
         "0.39849896210270686",
         "0.2620872780021001",
         "-0.07467925112347182",
         "-0.20699379758283554",
         "-0.5809241289370232",
         "-1.2371534310196952",
         "-1.0741051331898424",
         "-1.6694711143158802",
         "0.2873347306539362",
         "-0.08187327012045391",
         "-0.22693397225874834",
         "-0.6368858473060052",
         "-1.356331183220533",
         "-1.177576078823027",
         "-1.8302949941837177",
         "0.32164110000588375",
         "-0.09164854037202308",
         "-0.25402878482489705",
         "-0.7129269199009605",
         "-0.7591352649059895",
         "-1.318172935347052",
         "-1.0244116573111677",
         "0.1269047462387373",
         "-0.05993945573898077",
         "-0.1546717076778118",
         "-0.4737763258295013",
         "-0.9401895880493927",
         "-0.7134410602956552",
         "-0.49260621771683333",
         "0.30506488912819407",
         "-0.1440877820677986",
         "-0.3718135747676003",
         "-0.5694527848424231",
         "-1.1300555768741605",
         "-0.8575164617923469",
         "-0.5920852672796773",
         "0.3822601777875112",
         "-0.0902742713978789",
         "-0.4658993160459952",
         "-0.713550233189848",
         "-0.7080055114834287",
         "-0.5372535595250272",
         "-0.37095488140653754",
         "0.2210201080205744",
         "-0.3951541002956063",
         "-0.6307681598821259",
         "-0.32440602942054925",
         "-0.20535100375916954",
         "-0.1654290811816692",
         "0.019516138590400592",
         "0.12653441358485015",
         "-0.4208115860167385",
         "-0.6325293300599321",
         "-0.2985930499716664",
         "-0.20783960271854843",
         "-0.24834772494401416",
         "-0.05530257489815164",
         "-0.19794575811160048",
         "-0.5579591955280374",
         "-0.26314928062152393",
         "-0.04217727399842128",
         "-0.05212681934620439",
         "-0.19494273884439328",
         "-0.2760101028610396",
         "-0.31419165442790503",
         "0.047439054736288296",
         "-0.2605440007857879",
         "-0.09031839274191646",
         "-0.02510472344434641",
         "-0.1297494754316152",
         "-0.2965409734374529",
         "-0.26243129856692",
         "-0.20040997738383584",
         "-0.029873622203504393",
         "-1.0627530299845291",
         "-0.8648022355207821",
         "-0.3750477279533734",
         "-0.29940462529564893",
         "0.14118927336850862",
         "0.23762103711625332",
         "0.27639377688054145",
         "-0.465390198785446",
         "-0.12316397292972381",
         "-0.060500882205457795",
         "-0.014723598448860953",
         "-0.09569814070946303",
         "-0.14796447009201052",
         "-0.16612744058750917",
         "-0.1992973939535092",
         "0.32060423606950467",
         "0.31790149010336133",
         "0.32041208900856405",
         "0.3159283396447535",
         "0.27610410761089954",
         "0.2676433683781758",
         "-0.03328815181255757",
         "-0.03935436678450921",
         "-0.05930234734422985",
         "-0.0659749558169422",
         "-0.11078938124761424",
         "-0.11849249730532938",
         "-0.22034268811009036",
         "-0.22668316722725548",
         "-0.24640778199608582",
         "-0.25297983315289707",
         "-0.2920366349769347",
         "-0.29896347361124453",
         "-0.40825188141920354",
         "-0.4116314825468877",
         "-0.42438760218638627",
         "-0.4276772659194122",
         "-0.4507666749606847",
         "-0.45389967634400635",
         "0.20225295000871318",
         "0.844543085693118",
         "0.0033640228263350485",
         "-0.026920010432105363",
         "-1.0138195159191812",
         "8.04391639611234e-13",
         "0.22077109931740274",
         "0.11771714182354227",
         "0.054367873200870685",
         "0.045258924430311154",
         "-0.5953801910955161",
         "8.930572224362337e-05",
         "0.16565656907721552",
         "-0.15126006683675372",
         "0.14250558015056886",
         "0.07966837690165976",
         "-0.7612250415004921",
         "0.012099385508272208",
         "0.2150576680421803",
         "-0.26286027908285053",
         "0.16149362913459256",
         "0.11903883764424164",
         "-0.4383013494691126",
         "0.0806946609588782",
         "0.2102784091234381",
         "-0.477961973925344",
         "0.5095255916906989",
         "0.2502154702098266",
         "-0.32257640185837916",
         "0.3604604282174786",
         "0.4403395674560837",
         "-0.29771647335185164",
         "0.4379504243439674",
         "0.43062480031129946",
         "-0.26989168848367373",
         "0.2499226602524047",
         "0.7884139813966649",
         "-0.12483042191596311",
         "0.3049427775049071",
         "0.21654301571754117",
         "-0.376922321646569",
         "0.2606214722589111",
         "-0.26142481350832747",
         "0.5735399405490698",
         "0.019972539613423112",
         "-0.4118740019719092",
         "-0.8127534316574113",
         "8.04391639611234e-13",
         "-0.20671835052177648",
         "0.09600650500503059",
         "0.28145290712041693",
         "-1.811366165244189",
         "-0.26096032276645204",
         "8.930572224362337e-05",
         "-0.08557122702630186",
         "-0.13286197442534106",
         "0.35358799909487787",
         "-1.6759800147426707",
         "0.054487627519504415",
         "0.012099385508272208",
         "-0.0883558300463832",
         "-0.24249729905521522",
         "0.5597367348285992",
         "-1.3253439386277255",
         "0.20674523663547173",
         "0.0806946609588782",
         "-0.15304748363689458",
         "-0.46534939900183697",
         "0.347662668540968",
         "-0.7691506783892161",
         "-0.12790013132517558",
         "0.3604604282174786",
         "-0.05374058946739992",
         "-0.36200759847241804",
         "0.5003424809101857",
         "-0.9673095133844908",
         "-0.4732164234790742",
         "0.2499226602524047",
         "0.010132828869743255",
         "-0.2359259938038384",
         "0.35156530423971766",
         "-0.5883911708887137",
         "-0.6625988072924325",
         "0.2606214722589111",
         "-0.4487221376140159",
         "1.359071452313566",
         "0.033683747433132225",
         "-0.08502964233026251",
         "-0.5316291253654912",
         "8.04391639611234e-13",
         "-0.27815009281500047",
         "0.4148423446257135",
         "0.8834204558426754",
         "-0.8765569453493328",
         "-0.6515362424933724",
         "8.930572224362337e-05",
         "-0.07371073038291726",
         "0.29916096444814366",
         "1.1320128508476306",
         "-1.0050412959569375",
         "-0.3674100292494733",
         "0.012099385508272208",
         "0.039066710431092944",
         "0.09139420759134341",
         "2.080500946058523",
         "-0.8846679069913197",
         "-0.2795697622327894",
         "0.0806946609588782",
         "0.20040286621150988",
         "-0.3032201405118011",
         "1.4319129513077293",
         "-1.0293662673942539",
         "-0.7366758562272896",
         "0.3604604282174786",
         "0.15513745679989538",
         "-0.3770336409041376",
         "0.9248958536823455",
         "-0.6239247585532005",
         "-0.8388075860476919",
         "0.2499226602524047",
         "0.193349876675973",
         "-0.2666819524178828",
         "1.0735886958556438",
         "-0.33226440969001636",
         "-1.4376681246655727",
         "0.2606214722589111",
         "0.35529958032500986",
         "0.08279272946705873",
         "0.04139636473352937",
         "0.36409633536537456",
         "0.08279272946705873",
         "0.04139636473352937",
         "0.35459347334436586",
         "0.08279272946705873",
         "0.04139636473352937",
         "0.16987109462510064",
         "0.06410900524956868",
         "0.09461863387515203",
         "0.013963532457005634",
         "-0.0704829752704867",
         "-0.1354987018986575",
         "-0.1247895307375597",
         "0.18361864651938625",
         "0.06929730334410068",
         "0.10227605541726797",
         "0.015093591620419428",
         "-0.07618711441395397",
         "-0.14646451947975456",
         "-0.1348886623965645",
         "0.20135465784623802",
         "0.07599083790787653",
         "0.05607752952865984",
         "0.01655150516578678",
         "-0.08354614657011014",
         "-0.08030587787647694",
         "-0.07395888429372935",
         "0.06446224444167906",
         "0.046694682698996355",
         "0.028090799685573084",
         "-0.020558196837924547",
         "-0.11751604806384901",
         "-0.0984371182704756",
         "-0.15938841337563975",
         "0.1506364288646407",
         "0.05455844975354632",
         "0.032821520451518454",
         "-0.048040731165714896",
         "-0.13730671316168183",
         "-0.11501473531073107",
         "-0.18623072777918717",
         "0.09057113555021626",
         "0.06560724766621201",
         "0.03946830657343681",
         "-0.028884803013030057",
         "-0.08255655702576528",
         "-0.13830671983682002",
         "-0.11197243997639306",
         "0.5891964228204657",
         "-1.5757939164865709",
         "-1.358568615714393",
         "-1.3281909361563593",
         "-0.6812827387313233",
         "-0.3860686634099331",
         "0.055265259648024395",
         "0.39263742623924697",
         "-1.7128476623294457",
         "-1.363444375173084",
         "-1.2073780091881243",
         "-0.5754137119543667",
         "-0.4438707700114739",
         "-0.1681662735992402",
         "0.20428899212267293",
         "-0.34186663201773415",
         "-0.10752000000000805",
         "-0.2150400000000161",
         "-0.0",
         "-0.0",
         "-0.0",
         "0.5416364209858345",
         "0.3198629607036859",
         "0.09642666666665889",
         "0.19285333333331778",
         "0.0",
         "0.0",
         "0.0",
         "0.8752996086482707",
         "0.47463866959578377",
         "0.16298666666666506",
         "0.3259733333333301",
         "0.0",
         "0.0",
         "0.0",
         "1.163085434847855",
         "0.7283751986633157",
         "0.36832000000000065",
         "0.7366400000000013",
         "0.0",
         "0.7366400000000013",
         "0.0",
         "0.6517604971260824",
         "0.6733419633539569",
         "0.8823999999999987",
         "1.7647999999999975",
         "0.0",
         "0.0",
         "0.0",
         "0.40075940216153444",
         "0.9206819805842946",
         "0.5782711111111105",
         "1.156542222222221",
         "0.0",
         "0.0",
         "0.0",
         "0.7360206241003059",
         "1.0175309616311912",
         "0.5188711111111113",
         "0.5188711111111113",
         "0.0",
         "0.0",
         "0.0",
         "0.03961903346601434",
         "0.38729834101986377",
         "0.08192000000001087",
         "0.0",
         "0.0",
         "0.0",
         "0.0",
         "0.24155250492521704",
         "-0.27230080315523414",
         "-0.06143999999999039",
         "-0.12287999999998078",
         "-0.0",
         "-0.0",
         "-0.0",
         "0.21302923658209966",
         "0.1055695774125732",
         "0.018773333333342634",
         "0.03754666666668527",
         "0.0",
         "0.0",
         "0.0",
         "0.4068626386778465",
         "-0.03569553371628822",
         "-0.03626666666665379",
         "-0.07253333333330758",
         "-0.0",
         "-0.0",
         "-0.0",
         "-0.19205360780797417",
         "0.2163108602564189",
         "0.26275555555556185",
         "0.0",
         "0.5255111111111237",
         "0.0",
         "0.0",
         "-0.23108544868784564",
         "0.42554514512450653",
         "0.23683555555555902",
         "0.0",
         "0.47367111111111804",
         "0.0",
         "0.0",
         "0.6511442712210556",
         "0.2854475313519811",
         "0.13316444444444775",
         "0.13316444444444775",
         "0.0",
         "0.0",
         "0.0",
         "0.0",
         "0.796875",
         "0.031606664393746",
         "-0.978515625",
         "0.05593264376501546",
         "0.06765333632196634",
         "0.9611248260392095",
         "1.3627959254393478",
         "2.7364434580902413",
         "2.0953301673587705",
         "0.8397659086546752",
         "0.9232857769766684",
         "0.4438322509988198",
         "1.2520828665112804",
         "0.8773294857079508",
         "1.3452972877946103",
         "1.0806687765755079",
         "1.4334920731023428",
         "1.0643228635337183",
         "0.8176852671804432",
         "-0.002042925065278963",
         "0.11671548821884747",
         "0.00022363191765663976",
         "-0.0010214625326385595",
         "0.13923636312734144",
         "0.00011181595882831988",
         "-0.002070548850306628",
         "0.10035291883578679",
         "1.4775629516864035e-05",
         "-0.0010352744251524491",
         "0.11452263002521912",
         "7.3878147584320175e-06",
         "0.003837285653206842",
         "0.13613509740188912",
         "0.0001552259803346499",
         "0.000965115840498821",
         "0.1551819484253536",
         "7.761299016732495e-05",
         "0.0037539029080088174",
         "0.08250937753045451",
         "1.4926100912093391e-05",
         "0.0009441442435191606",
         "0.07574683179707675",
         "3.731525228023348e-06",
         "0.056133508221327816",
         "0.33910817867175513",
         "0.00019899579475999253",
         "0.03008633151768101",
         "0.23319934452704105",
         "9.949789737999627e-05",
         "0.05391811890688516",
         "0.25868719983096133",
         "4.536211083175646e-05",
         "0.028912129067784474",
         "0.3489340706017041",
         "2.268105541587823e-05",
         "0.20154110900048633",
         "0.35534916440311015",
         "0.000590468416840395",
         "0.07077796414263499",
         "0.11865812391517938",
         "0.0002952342084201975",
         "0.1868220320886616",
         "0.27941369388112225",
         "0.0002895050705892511",
         "0.06594908268009522",
         "0.13902564919044114",
         "0.00014475253529462555",
         "0.10559778937983655",
         "0.17561998588846883",
         "0.03458848053560826",
         "0.27171176501056904",
         "0.01382081683268055",
         "0.01729424026780413",
         "0.08941926203596384",
         "0.1494450257397908",
         "0.018241843082153403",
         "0.25766445181429487",
         "0.11040462519392902",
         "0.009120921541076701",
         "-0.08419733371747307",
         "0.1652142125478031",
         "0.24743655764397218",
         "0.6050457968253297",
         "0.039672280173568275",
         "0.12371827882198609",
         "-0.09062059738256911",
         "0.170000453299183",
         "0.2540850351566948",
         "0.5806307145496644",
         "0.13985519090523257",
         "0.1270425175783474",
         "-0.13283972605911165",
         "0.0929156588942135",
         "1.1391221204524167",
         "0.4571480935259713",
         "0.08825894421472835",
         "0.2847805301131703",
         "-0.14258435755163235",
         "0.17522257000888164",
         "0.6454928038158328",
         "0.43550123188603895",
         "0.15600312847994435",
         "0.32274640190799136",
         "-inf",
         "-inf",
         "-inf",
         "-inf",
         "-inf",
         "-inf",
         "-inf",
         "-inf",
         "-inf",
         "-inf",
         "-inf",
         "-inf",
         "-inf",
         "-inf",
         "-inf",
         "-inf",
         "-inf",
         "-inf",
         "-inf",
         "-inf",
         "-inf",
         "0.5192229019421991",
         "0.2591320511846914",
         "0.06467769051050808",
         "0.05527738300004148",
         "-0.06149833779545896",
         "-0.03649793187650261",
         "-0.12262341912863894",
         "-0.10081641038634816",
         "-0.4167617223951427",
         "-0.28950354657484073",
         "-0.6958296106673992",
         "-0.3412332449191366",
         "-0.44153348604674125",
         "-0.30856350199350396",
         "-0.08120820843415476",
         "-0.044885639577811644",
         "-0.30401769076250307",
         "-0.0",
         "-0.28453950023960545",
         "-0.1364539666630773",
         "-0.19173134966311878",
         "-0.0",
         "-0.3642100943751882",
         "-0.2502567898973868",
         "-0.2137588580208842",
         "-0.4275177160417684",
         "-0.7753796196608072",
         "-0.3854749853871663",
         "-0.28465857500081815",
         "-0.5693171500016363",
         "-1.5461093283431626",
         "-0.7105371182807462",
         "-0.42103357170590544",
         "-0.8420671434118109",
         "-1.0473780125080168",
         "-0.6923433133241402",
         "-0.35111006840500364",
         "-0.7022201368100073",
         "-0.5797745957806588",
         "-0.5415534987395413",
         "-0.23298999674603732",
         "-0.46597999349207464",
         "8.751691120701206e-17",
         "6.817991104477598e-17",
         "-0.0",
         "-0.0",
         "3.0896078456549708e-06",
         "2.0971182124355585e-06",
         "-0.0",
         "-0.0",
         "0.0008903507026380717",
         "0.0004318540153963552",
         "0.0",
         "0.0",
         "-0.00402555688167481",
         "-0.0027867869311549217",
         "0.0",
         "0.0",
         "-0.2070640018579158",
         "-0.12468725098848839",
         "0.0",
         "0.0",
         "-0.28996412878361993",
         "-0.24761869430671662",
         "0.0",
         "0.0",
         "-0.4406401405380352",
         "-0.2689884209494905",
         "0.0",
         "0.0",
         "1.3940440262531464",
         "1.4620237495420263",
         "1.2028916983573348",
         "2.4057833967146696",
         "0.546952175404593",
         "0.5029938981343278",
         "0.44771651513428634",
         "0.8954330302685727",
         "0.13672062841623783",
         "0.17984580967632466",
         "0.21634374155282726",
         "0.0",
         "-0.03331849283925211",
         "-0.0314796902353947",
         "0.06933672015095346",
         "0.13867344030190693",
         "-0.25645059684620325",
         "-0.4329268388365205",
         "-0.14342329226167977",
         "-0.28684658452335954",
         "-0.4843992756926154",
         "-0.5922459089645584",
         "-0.25101266404542183",
         "-0.5020253280908437",
         "-0.3259827526974091",
         "-0.5823742429389536",
         "-0.2738107409454496",
         "-0.5476214818908992",
         "-0.08926484218695259",
         "-0.051875697692179604",
         "-0.311007748876871",
         "-0.0",
         "-0.650540467670074",
         "-0.32596074185491714",
         "-0.3812381248549586",
         "-0.0",
         "-0.7188834925373478",
         "-0.517945488070775",
         "-0.4814475561942724",
         "-0.9628951123885447",
         "-1.193297769502392",
         "-0.6239792150569892",
         "-0.523162804670641",
         "-1.046325609341282",
         "-0.8135662664388882",
         "-0.7748537066695285",
         "-0.48535016009468773",
         "-0.9707003201893755",
         "-0.937895739502958",
         "-0.6504209647888004",
         "-0.3091877198696638",
         "-0.6183754397393276",
         "-0.42664822900311905",
         "-0.4380662074122722",
         "-0.12950270541876824",
         "-0.2590054108375365",
         "-0.00280796512570633",
         "0.1601146191478816",
         "0.0",
         "0.0",
         "-0.28798281357396915",
         "-0.5759656271479383",
         "-0.12684436606780752",
         "-0.25368873213561505",
         "0.8914134051787297",
         "1.9140190972222222",
         "0.27348090277777776",
         "0.42497733351045636",
         "-0.18011232439271674",
         "0.2132517357968984",
         "0.4798057144834761",
         "-0.18052678487516233",
         "0.45033143461148895",
         "-0.3191500362495782",
         "-1.0240546668486636",
         "0.08801421188351877",
         "0.0",
         "1.6656979482413679",
         "0.6227754376461757",
         "0.0",
         "-0.07962076792877054",
         "0.0",
         "0.0",
         "0.0",
         "0.0",
         "0.6916645772747643",
         "0.24209124454332392",
         "2.46102961773246",
         "4.127583857467553",
         "0.32139410358150894",
         "0.31246022525055617",
         "0.7464520778615628",
         "0.9123713234127512",
         "1.0031529240824895",
         "1.9285692668296617",
         "1.8494678142162508",
         "0.00522692704488827",
         "0.1846599853809187",
         "0.3636420294880687",
         "0.3745151750360316",
         "0.20957251480856423",
         "0.15896330719821739",
         "0.5302687298497102",
         "0.5336859605841867"
        ],
        [
         "2023-03-01 00:02:00",
         "0.442",
         "60.25",
         "159.227",
         "136.369",
         "295.596",
         "0.1674622512054976",
         "-0.2912122317968167",
         "0.08313776674317286",
         "0.20688119965339677",
         "0.10172743829038117",
         "0.07277763800853601",
         "0.08156438306193133",
         "0.11416608634544684",
         "0.8964591421914554",
         "-0.2617794565486582",
         "0.04457093490452957",
         "0.20060808264396957",
         "0.38455816923609265",
         "0.4762289410910846",
         "0.6298480920366576",
         "0.7182317092000631",
         "1.6567074636251997",
         "0.14015635148923788",
         "0.45726844939967837",
         "0.3765235219138918",
         "0.6101156333144928",
         "0.4297510975398109",
         "0.40931612613998714",
         "0.35035937321740085",
         "1.2832503965923177",
         "0.7608008404360067",
         "0.6708161322022423",
         "0.9172054384745651",
         "1.2191242860848073",
         "0.653354966029402",
         "0.5417386328330736",
         "0.21009537375022647",
         "0.9326138289132601",
         "0.9364759219901222",
         "0.9194966871466992",
         "0.9202797479617718",
         "0.8018095966202776",
         "0.7961705983602426",
         "0.9522458375128091",
         "0.9499436354379915",
         "0.8789828592202176",
         "0.8746337040571898",
         "0.7218520854510531",
         "0.7142469502906962",
         "0.43975983199709856",
         "0.437969963880384",
         "0.4008724898627697",
         "0.398422527546949",
         "0.3292660588152587",
         "0.3258623976475252",
         "0.3833148310147591",
         "0.38136558193012665",
         "0.34975640984241707",
         "0.34745443798606696",
         "0.29359601042531885",
         "0.2908309745217254",
         "0.10804586782879276",
         "0.11542475104976632",
         "0.0017323773515183234",
         "0.11504267607696438",
         "0.17922955271791807",
         "3.653786562269962e-13",
         "0.2636113606351732",
         "0.10617584856278801",
         "0.046622797476611126",
         "0.06735166885473319",
         "0.06971940746726571",
         "9.274921887300753e-05",
         "0.4611531344842401",
         "0.06317167016889894",
         "0.07711339761016266",
         "0.012375058351042864",
         "0.09331732471664417",
         "0.006438706778332312",
         "0.6482519918006387",
         "0.016193631222302912",
         "0.25095285037437376",
         "0.007792985512288089",
         "0.1275613572343752",
         "0.08266533884624733",
         "0.7178977078746247",
         "-0.1417548857405314",
         "0.4132301894931879",
         "0.1022249789927677",
         "0.09222074270550346",
         "0.33768965347600033",
         "0.9978832860449373",
         "-0.2858273778086266",
         "0.6612426064873915",
         "0.36543686041898193",
         "-0.048535901914141",
         "0.23164101750908198",
         "0.6401339862985551",
         "-0.21833838153790605",
         "0.4448702853862629",
         "0.5038745843053766",
         "-0.10484845654182438",
         "0.23204605811357695",
         "0.3403484993500279",
         "0.16716817731478822",
         "0.004974895219445013",
         "-0.000368993701150206",
         "-0.21665285361966533",
         "3.653786562269962e-13",
         "0.4077832967784958",
         "0.15608181011567088",
         "0.19581124548661596",
         "-0.00404200035351148",
         "-0.13696545194051377",
         "9.274921887300753e-05",
         "0.5930406926835434",
         "0.09313255836355688",
         "0.278363373476451",
         "0.0003772368602114468",
         "-0.089153060574681",
         "0.006438706778332312",
         "0.786925160568478",
         "0.07099998791904148",
         "0.3007719812238474",
         "0.006263323917748875",
         "-0.20802909024040814",
         "0.08266533884624733",
         "0.630598892727385",
         "-0.11885574423137873",
         "0.6502038421253233",
         "0.04389809827115711",
         "-0.4171650116342935",
         "0.33768965347600033",
         "0.31941754354832785",
         "-0.3347635477370797",
         "0.48017897243410973",
         "0.07207573816940645",
         "-0.8126038203453018",
         "0.23164101750908198",
         "0.3187306555474263",
         "-0.34037382148793627",
         "0.6542128422840884",
         "0.11702457403904483",
         "-0.5785850884933539",
         "0.23204605811357695",
         "0.2658558528234293",
         "0.736561536912397",
         "0.009300442880122063",
         "-0.007975540882348768",
         "-0.2690722645973117",
         "3.653786562269962e-13",
         "0.3663723646372212",
         "0.7441408834985854",
         "0.5183768748877428",
         "-0.09988360917073134",
         "-0.4806303900023193",
         "9.274921887300753e-05",
         "0.5541049416433407",
         "0.49197759750427184",
         "0.8247677648074174",
         "-0.17670785223329988",
         "-0.4965369103456731",
         "0.006438706778332312",
         "0.3826121717000233",
         "0.6752102738274619",
         "0.822191798218524",
         "-0.3955324226174097",
         "-0.5806621007987728",
         "0.08266533884624733",
         "0.3112386555829386",
         "0.28558556122167744",
         "1.2571018653459314",
         "-0.2552356691506334",
         "-1.2586477654974726",
         "0.33768965347600033",
         "0.2980213293254421",
         "0.18484353714893803",
         "0.8729351684547211",
         "-0.16701852985368637",
         "-0.9350587976105996",
         "0.23164101750908198",
         "0.2706608799589276",
         "-0.03347112100076769",
         "1.1404567310445208",
         "-0.1111223649000099",
         "-0.5823750547837155",
         "0.23204605811357695",
         "0.16996748246197058",
         "0.4360599793104001",
         "0.39050588305283895",
         "0.1967300740814295",
         "0.4259741763533569",
         "0.39050588305283895",
         "0.4723181187510761",
         "0.4061805816348638",
         "0.39050588305283895",
         "0.28212240882159956",
         "-0.04109872035918909",
         "-0.1877286412282191",
         "-0.5600522251548082",
         "-1.2227979810185263",
         "-1.0670603159244374",
         "-1.6626447159368611",
         "0.30603001005015573",
         "-0.044581505797806155",
         "-0.20363713113658735",
         "-0.6075121391761492",
         "-1.326420258438399",
         "-1.1574850809280228",
         "-1.803540460516018",
         "0.33726847573214536",
         "-0.0491322289072422",
         "-0.22442369233542708",
         "-0.669524838871633",
         "-0.7309082835870225",
         "-1.2756370816813445",
         "-0.9938197596042906",
         "0.1324379843213205",
         "-0.04584049623591167",
         "-0.1459087686407055",
         "-0.4634661539960843",
         "-0.9330705124305724",
         "-0.7101021091203387",
         "-0.49103911998292776",
         "0.3116703038895664",
         "-0.10787782270705479",
         "-0.34337150701470065",
         "-0.5453444410178709",
         "-1.0979114928767981",
         "-0.8355523578688642",
         "-0.5777885873566065",
         "0.3785462001290982",
         "-0.06551272186397608",
         "-0.41704961169182553",
         "-0.6623603960099741",
         "-0.6667465884941028",
         "-0.5074194848416473",
         "-0.35088308300828924",
         "0.38796532266294204",
         "-0.1239297107867916",
         "-0.4169799284958405",
         "-0.2681103617875761",
         "-0.19663741205353655",
         "-0.16306214000978575",
         "0.019106207089202975",
         "0.2871123574934622",
         "-0.1622180414699793",
         "-0.4305541315153527",
         "-0.24618811144601888",
         "-0.19948921408097461",
         "-0.2458445506819426",
         "-0.05573563083061048",
         "-0.2986248218654475",
         "-0.6902884754870285",
         "-0.4495232981895657",
         "-0.14051443057600158",
         "-0.15154302456203442",
         "-0.2948029056381343",
         "-0.37616671284704345",
         "-0.4145828134501893",
         "0.028330057545522966",
         "-0.27160181378847137",
         "-0.12439005205494882",
         "-0.04348890554273284",
         "-0.14762823731145175",
         "-0.31477559397827853",
         "-0.28114980991058725",
         "-0.21936663663249523",
         "0.12035415501267913",
         "0.12642653431358086",
         "0.3261483698793737",
         "0.22216070253576464",
         "0.29901469444867945",
         "0.7400447025040646",
         "0.5373302994660286",
         "0.5764490194938154",
         "-0.4738195040604004",
         "-0.17327128648123535",
         "-0.12380837845654158",
         "-0.04764670775279867",
         "-0.12834581336457584",
         "-0.16436650701133226",
         "-0.18273225633695",
         "-0.21600600033651762",
         "0.3192065477468407",
         "0.3165655896028612",
         "0.31636958508770063",
         "0.31199872366861064",
         "0.2824749364894327",
         "0.27394779892062365",
         "-0.033341641024569275",
         "-0.039384888783848514",
         "-0.05989285279907377",
         "-0.06653355760792724",
         "-0.10866309896634069",
         "-0.11640517773561243",
         "-0.22188040447380655",
         "-0.22825720031505745",
         "-0.24837984285322406",
         "-0.25498605912957606",
         "-0.29235169717965975",
         "-0.2993695538010295",
         "-0.4133359065237065",
         "-0.4167876287586995",
         "-0.4298035930370956",
         "-0.43316418248434857",
         "-0.45530961151648025",
         "-0.4585491533807902",
         "0.04154945162744979",
         "0.37337379258676484",
         "0.0027523823124559485",
         "-0.022025463080813476",
         "-0.5611138078271418",
         "6.581386142273732e-13",
         "0.11857731341457226",
         "-0.0025799658032554795",
         "0.05086026847823386",
         "0.04233899382190399",
         "-0.461738767245029",
         "8.354406274403477e-05",
         "0.11552905592135684",
         "-0.2608507549005865",
         "0.1378332660472715",
         "0.07705629897045779",
         "-0.6394759005603423",
         "0.01170268434406656",
         "0.16643745593647583",
         "-0.3162638455903017",
         "0.15882431295054972",
         "0.11707125355094838",
         "-0.38226126506178726",
         "0.07936086490997113",
         "0.1789032914623337",
         "-0.5140261851809782",
         "0.5067027352270386",
         "0.2488292349178054",
         "-0.30443401870584474",
         "0.3584634175348333",
         "0.40886605781705976",
         "-0.31627357635383674",
         "0.43673558266756246",
         "0.4294302793673013",
         "-0.2609540589534162",
         "0.24922939351106652",
         "0.7570466874393825",
         "-0.13435536526593095",
         "0.3045195397845672",
         "0.2162424702411809",
         "-0.3682045286750282",
         "0.2602597491884615",
         "-0.3761727883046355",
         "0.20116943654644162",
         "0.016341168774618907",
         "-0.3369878197951984",
         "-0.6649800804469728",
         "6.581386142273732e-13",
         "-0.30854796337689044",
         "-0.005316355412415482",
         "0.26329465504813193",
         "-1.6945038320026284",
         "-0.2441241729105519",
         "8.354406274403477e-05",
         "-0.14129273924760502",
         "-0.22519422650748644",
         "0.3419949499442261",
         "-1.621029850324878",
         "0.05270114792870099",
         "0.01170268434406656",
         "-0.14590622458366756",
         "-0.28723280920191857",
         "0.5504848879719282",
         "-1.303437427245449",
         "0.2033279599968689",
         "0.07936086490997113",
         "-0.1917580759663534",
         "-0.49544713820881603",
         "0.345736559573982",
         "-0.764889455794262",
         "-0.12719154333999455",
         "0.3584634175348333",
         "-0.07339820058983257",
         "-0.3773640027092815",
         "0.4989545683417802",
         "-0.964626269241954",
         "-0.47190375656235",
         "0.24922939351106652",
         "-0.009701663326064007",
         "-0.24378451612452975",
         "0.3510773579465327",
         "-0.5875745280422339",
         "-0.6616791698083346",
         "0.2602597491884615",
         "-0.5321070980177028",
         "0.9687004214163172",
         "0.027559429718017267",
         "-0.06956970736112386",
         "-0.4349692843899473",
         "6.581386142273732e-13",
         "-0.37728097970878033",
         "0.3372415986742932",
         "0.8264255877237932",
         "-0.8200048843590533",
         "-0.6095016462034774",
         "8.354406274403477e-05",
         "-0.13079165199884105",
         "0.23768229560582402",
         "1.0948976754100033",
         "-0.972089122319005",
         "-0.3553637987822774",
         "0.01170268434406656",
         "-0.021568403449374315",
         "0.06383499035441871",
         "2.0461125006691256",
         "-0.8700452969584053",
         "-0.2749487744272887",
         "0.07936086490997113",
         "0.15907811150300075",
         "-0.31900217225680616",
         "1.4239799155664121",
         "-1.0236634071870836",
         "-0.7325945495445899",
         "0.3584634175348333",
         "0.1345719843575252",
         "-0.38473084819839876",
         "0.9223302618552099",
         "-0.6221940380024288",
         "-0.83648079662731",
         "0.24922939351106652",
         "0.17293241575435503",
         "-0.27068638672470796",
         "1.072098635209071",
         "-0.3318032515919039",
         "-1.4356727490588195",
         "0.2602597491884615",
         "0.3568418055434819",
         "0.08299823765549519",
         "0.041499118827747594",
         "0.3622222384513947",
         "0.08299823765549519",
         "0.041499118827747594",
         "0.3378540321749455",
         "0.08299823765549519",
         "0.041499118827747594",
         "0.1804215741014313",
         "0.07126340601510549",
         "0.1024369946316863",
         "0.018576147626306817",
         "-0.06869267101415971",
         "-0.13370455195054454",
         "-0.12389141141914285",
         "0.19346837279214937",
         "0.07641666618881003",
         "0.10984450592349237",
         "0.019919441851160617",
         "-0.07366003400671192",
         "-0.1433731095053673",
         "-0.132850352789346",
         "0.20982799904335422",
         "0.08287843603868156",
         "0.059566461823179054",
         "0.021603823743221583",
         "-0.07988870388494303",
         "-0.07774834783061679",
         "-0.07204206893273493",
         "0.06852055781433052",
         "0.05222635854109622",
         "0.031205675305017107",
         "-0.01857637387261746",
         "-0.1159473546651287",
         "-0.09766722737804726",
         "-0.15862721897471127",
         "0.1575773919776796",
         "0.0600527318655014",
         "0.03588199721601261",
         "-0.04272026732737959",
         "-0.13332262854857305",
         "-0.11230313545918763",
         "-0.18239827768506264",
         "0.09267675801278658",
         "0.07063821058663247",
         "0.04220690711107746",
         "-0.025125278618026103",
         "-0.07841168602012982",
         "-0.13209877861797042",
         "-0.10727478625462984",
         "1.4026160581729235",
         "0.09472808241635386",
         "-0.5795256397037142",
         "-0.7237939526347356",
         "-0.38082207094496556",
         "-0.2462029352633619",
         "0.1888940463032233",
         "1.2012084666944571",
         "-0.08082481564898662",
         "-0.6068148966600737",
         "-0.6193975936618106",
         "-0.27678429399836996",
         "-0.3034980235455406",
         "-0.03393812110418013",
         "-1.0829958104828505",
         "-0.369877072054063",
         "-0.11263999999999896",
         "-0.0",
         "-0.22527999999999793",
         "-0.0",
         "-0.22527999999999793",
         "-0.1999085885759636",
         "0.3125070118852845",
         "0.09471999999999525",
         "0.0",
         "0.1894399999999905",
         "0.0",
         "0.0",
         "0.3592495584705262",
         "0.46106098176977484",
         "0.15530666666666448",
         "0.31061333333332897",
         "0.0",
         "0.0",
         "0.0",
         "0.8093272855760184",
         "0.7194563416401583",
         "0.3611733333333298",
         "0.7223466666666596",
         "0.0",
         "0.0",
         "0.0",
         "0.45374981272686565",
         "0.6698672043119582",
         "0.8771555555555537",
         "1.7543111111111074",
         "0.0",
         "0.0",
         "0.0",
         "0.2474376391751703",
         "0.9185440167833631",
         "0.5778977777777774",
         "1.1557955555555548",
         "0.0",
         "0.0",
         "0.0",
         "0.6145820802196629",
         "1.0166708041681916",
         "0.5187755555555551",
         "0.5187755555555551",
         "0.0",
         "0.0",
         "0.0",
         "-0.1333205911272301",
         "0.31052950756452535",
         "0.06144000000001171",
         "0.0",
         "0.12288000000002341",
         "0.0",
         "0.0",
         "0.13341953617658722",
         "-0.2482341355119743",
         "-0.05461333333332519",
         "-0.10922666666665037",
         "-0.0",
         "-0.0",
         "-0.0",
         "0.13269338013019566",
         "0.09300824955360124",
         "0.016213333333343627",
         "0.032426666666687254",
         "0.0",
         "0.0",
         "0.0",
         "0.3477030581857685",
         "-0.018425406548612334",
         "-0.01706666666665413",
         "-0.03413333333330826",
         "-0.0",
         "-0.0",
         "-0.0",
         "-0.2193297532932742",
         "0.2143851404626841",
         "0.2599111111111183",
         "0.0",
         "0.5198222222222366",
         "0.0",
         "0.0",
         "-0.25343429089628006",
         "0.4253854769491315",
         "0.23678222222222578",
         "0.0",
         "0.47356444444445156",
         "0.0",
         "0.0",
         "0.6276835188735134",
         "0.2859286889196512",
         "0.13330666666667002",
         "0.13330666666667002",
         "0.0",
         "0.0",
         "0.0",
         "0.0",
         "0.564453125",
         "0.01853707443835914",
         "-0.595703125",
         "0.018538120500185898",
         "0.0672876909625883",
         "0.7909174061778779",
         "1.2922190035195344",
         "2.6656128579057112",
         "2.065241187775691",
         "0.8332212307531017",
         "0.9177895449930138",
         "0.44141691446762726",
         "0.8570709764453379",
         "0.7569966352852651",
         "1.2316015750196854",
         "1.0259389515113768",
         "1.3988917577881552",
         "1.0474685803703994",
         "0.8093753501275408",
         "-0.0016714841443191508",
         "0.0954944903608752",
         "0.00018297156899179615",
         "-0.0008357420721588212",
         "0.1139206607405523",
         "9.148578449589808e-05",
         "-0.0016940854229781496",
         "0.08210693359291643",
         "1.2089151422888755e-05",
         "-0.0008470427114883672",
         "0.09370033365699754",
         "6.044575711444377e-06",
         "0.0035897188368709133",
         "0.12735218789209002",
         "0.00014521140095822088",
         "0.0009028503024021226",
         "0.14517020981726647",
         "7.260570047911044e-05",
         "0.0035117156236211516",
         "0.07718619188332843",
         "1.3963126659700269e-05",
         "0.0008832317116792146",
         "0.07085993942307167",
         "3.490781664925067e-06",
         "0.05429306532882526",
         "0.32798987773169763",
         "0.00019247134247277962",
         "0.029099894418740654",
         "0.2255534643786139",
         "9.623567123638981e-05",
         "0.052150311729610224",
         "0.25020565229551994",
         "4.3874828509403784e-05",
         "0.027964190409824338",
         "0.33749360927050054",
         "2.1937414254701892e-05",
         "0.1982098510004783",
         "0.34947562449561964",
         "0.0005807086082975785",
         "0.06960808043779805",
         "0.11669683261079644",
         "0.00029035430414878926",
         "0.18373406461612168",
         "0.27479528571779754",
         "0.0002847198628109163",
         "0.06485901519777962",
         "0.13672770457572303",
         "0.00014235993140545816",
         "0.10501276007579308",
         "0.17464702197773008",
         "0.03439685460466305",
         "0.2702064366725604",
         "0.013744247210339289",
         "0.017198427302331527",
         "0.08892386446235723",
         "0.14861707545868397",
         "0.018140780239592997",
         "0.256236947926127",
         "0.1097929652205556",
         "0.009070390119796498",
         "-0.08396377661978227",
         "0.16475592069607536",
         "0.24675018716507072",
         "0.6033674451004329",
         "0.03956223223966138",
         "0.12337509358253536",
         "-0.0903692226325481",
         "0.169528884774081",
         "0.2533802222991173",
         "0.5790200884344088",
         "0.13946724308025282",
         "0.12669011114955864",
         "-0.13265535447540744",
         "0.09278669892350688",
         "1.1375411043240995",
         "0.456513606234471",
         "0.08813644741498461",
         "0.2843852760810909",
         "-0.1423864611497565",
         "0.17497937421428222",
         "0.6445969081825007",
         "0.43489678881610716",
         "0.1557866078297292",
         "0.3222984540913251",
         "-inf",
         "-inf",
         "-inf",
         "-inf",
         "-inf",
         "-inf",
         "-inf",
         "-inf",
         "-inf",
         "-inf",
         "-inf",
         "-inf",
         "-inf",
         "-inf",
         "-inf",
         "-inf",
         "-inf",
         "-inf",
         "-inf",
         "-inf",
         "-inf",
         "0.41302902632301935",
         "0.20613513341561557",
         "0.056321490221876",
         "0.048135911155311385",
         "-0.06373402599647927",
         "-0.03782476455747809",
         "-0.12274016968728257",
         "-0.1009129984430588",
         "-0.41588976634781866",
         "-0.28889779558883627",
         "-0.6953383976328331",
         "-0.34098835090018453",
         "-0.44164065304973854",
         "-0.3086332988761985",
         "-0.5391351840625644",
         "-0.2979979250513158",
         "-0.5041330584669313",
         "-0.0",
         "-0.6016410259519414",
         "-0.2885246216885384",
         "-0.3366605328438498",
         "-0.0",
         "-0.5227478994376682",
         "-0.3591900849019693",
         "-0.3213653203444912",
         "-0.6427306406889824",
         "-0.9344514655765231",
         "-0.46454951683988605",
         "-0.36363651839682726",
         "-0.7272730367936545",
         "-1.6527705098765708",
         "-0.7595215967920469",
         "-0.4706238012032106",
         "-0.9412476024064212",
         "-1.1021660141241492",
         "-0.7285506826917186",
         "-0.3875623317915341",
         "-0.7751246635830682",
         "-0.6078366054952238",
         "-0.567791333679711",
         "-0.2591580348035125",
         "-0.518316069607025",
         "7.160474553300986e-17",
         "5.578356358208943e-17",
         "-0.0",
         "-0.0",
         "2.890278307225618e-06",
         "1.9618202632462273e-06",
         "-0.0",
         "-0.0",
         "0.0008611588763220692",
         "0.00041769486735248733",
         "0.0",
         "0.0",
         "-0.003959018751399193",
         "-0.0027407244341824404",
         "0.0",
         "0.0",
         "-0.20591683287255338",
         "-0.12399681857760582",
         "0.0",
         "0.0",
         "-0.2891597900075211",
         "-0.24693611331315868",
         "0.0",
         "0.0",
         "-0.4400285650480448",
         "-0.26862726822418453",
         "0.0",
         "0.0",
         "1.9701196721115535",
         "2.066192716101186",
         "1.8600575826855703",
         "3.7201151653711406",
         "1.1003694645364752",
         "1.0119746864869132",
         "0.9638387753316019",
         "1.9276775506632038",
         "0.4314156949255019",
         "0.5675245451578983",
         "0.6053493097153764",
         "0.0",
         "0.2688824791729263",
         "0.2540551952435253",
         "0.3549681936865841",
         "0.0",
         "-0.15392266936285798",
         "-0.25984577738408227",
         "0.029052018204754004",
         "0.05810403640950801",
         "-0.3818082079991654",
         "-0.46680628268710034",
         "-0.1258179317869158",
         "-0.2516358635738316",
         "-0.2748714919333631",
         "-0.49106173203842246",
         "-0.18242843316222396",
         "-0.3648568663244479",
         "-0.2169656689525132",
         "-0.12608985293294744",
         "-0.332224986348563",
         "-0.0",
         "-0.7107145522587834",
         "-0.3561097990903772",
         "-0.4042457102456886",
         "-0.0",
         "-0.7472230101195684",
         "-0.5383520959616171",
         "-0.5005273314041391",
         "-1.0010546628082782",
         "-1.2259123114542556",
         "-0.6410115705019621",
         "-0.5400985720589033",
         "-1.0801971441178067",
         "-0.8266017860574548",
         "-0.7872305782473871",
         "-0.4983327826585508",
         "-0.9966655653171016",
         "-0.9528612301428402",
         "-0.6607948499936684",
         "-0.3198064990934839",
         "-0.6396129981869678",
         "-0.43484574029552375",
         "-0.44650292718956824",
         "-0.13786962831336974",
         "-0.2757392566267395",
         "-0.047200519745652925",
         "0.16320089210302047",
         "0.0",
         "0.0",
         "-0.21497244550186093",
         "-0.42994489100372185",
         "-0.09441890052721763",
         "-0.18883780105443526",
         "0.8598556803026669",
         "1.9139756944444444",
         "0.27352430555555557",
         "0.40994162598492606",
         "-0.26596611867310577",
         "0.19173367970651092",
         "0.44020686765462264",
         "-0.10820867959001906",
         "0.4206805723630141",
         "-0.3169533654029033",
         "-1.0240563022364044",
         "-0.1473628468407404",
         "0.0",
         "1.6668929583357734",
         "0.6214143006643821",
         "0.0",
         "-0.08042673391222914",
         "0.0",
         "0.0",
         "0.0",
         "0.0",
         "0.6916735473794233",
         "0.2420931392127264",
         "2.4932492818425507",
         "4.182112254230493",
         "0.3267005370098082",
         "0.31463608623937783",
         "0.7466814770993002",
         "0.9111285013152531",
         "1.0025015229047367",
         "1.9280468402533155",
         "1.849282428996619",
         "0.004796045133395328",
         "0.17871892517133353",
         "0.35768866508776326",
         "0.37142402771859656",
         "0.20899332710572105",
         "0.15874350371046342",
         "0.5299014091116758",
         "0.5465047878372805"
        ],
        [
         "2023-03-01 00:03:00",
         "4.865",
         "21.016",
         "335.742",
         "124.963",
         "460.705",
         "0.07294361014510994",
         "-0.43659046719781086",
         "-0.10248340197832495",
         "0.017551394294381767",
         "0.0071492203933819914",
         "-0.021680778666666456",
         "-0.012936290927723373",
         "0.01963381069429925",
         "0.7326342326078895",
         "-0.5358447961052637",
         "-0.27394730735090533",
         "-0.12495908510474996",
         "0.05643803312624218",
         "0.311538646378689",
         "0.4653768257506602",
         "0.5540220620733906",
         "1.6634914167391959",
         "0.15208378540474765",
         "0.4687783179248344",
         "0.38369648669693524",
         "0.6185291301247791",
         "0.4353258122863448",
         "0.41552296402616906",
         "0.3568954822465036",
         "1.3195382570907486",
         "0.9555488403849584",
         "0.7896460395444835",
         "1.0449411939032345",
         "1.3530007220613531",
         "0.7239197986965511",
         "0.6134623228260105",
         "0.24621225351704834",
         "0.9369113130664206",
         "0.942204351696017",
         "0.9403041699901514",
         "0.9424970452723342",
         "0.8429538508678857",
         "0.8390283414239864",
         "1.0037239163964986",
         "1.0022490785801472",
         "0.9405456455986978",
         "0.9368627492343571",
         "0.7938903857890256",
         "0.7868551049892445",
         "0.4733450602077878",
         "0.47170755229773054",
         "0.4373935419496845",
         "0.4350180772298118",
         "0.3682708621252048",
         "0.36487706067886916",
         "0.41971336213444677",
         "0.41767526932322524",
         "0.3872394682464527",
         "0.38479274642834893",
         "0.33139797010954847",
         "0.3284394112465462",
         "0.20292326139170247",
         "0.09443843267708152",
         "0.0014173996512422643",
         "-0.4140206725257275",
         "0.39600599772471706",
         "2.9894617327663323e-13",
         "0.3278779221973937",
         "0.09932579381680169",
         "0.04361487505876525",
         "-0.2976136957472288",
         "0.2421891231474823",
         "8.676539830055542e-05",
         "0.5286394621962056",
         "0.061100467868279294",
         "0.07458508949179665",
         "-0.17129663151212882",
         "0.1801921665459552",
         "0.0062276016380591204",
         "0.7208258805212623",
         "0.015925967896314435",
         "0.24680486937645024",
         "-0.08472609660321549",
         "0.17079174803232972",
         "0.08129896960911927",
         "0.769753922893584",
         "-0.14096954011316004",
         "0.41094082556247774",
         "0.0706912589846321",
         "0.12210317626957973",
         "0.3358187966700391",
         "1.0510261591421606",
         "-0.2850345140699064",
         "0.659408369021407",
         "0.33341283871198985",
         "-0.03318351383387598",
         "0.2309984626754923",
         "0.6672203916438657",
         "-0.21803534422834614",
         "0.4442528387722639",
         "0.48765932053125083",
         "-0.08947462106842378",
         "0.2317239955762923",
         "0.6267183473290454",
         "0.13677396325755398",
         "0.004070368815909556",
         "-0.08310374476011662",
         "-0.17726142568881706",
         "2.9894617327663323e-13",
         "0.6286208470811249",
         "0.14601201591465984",
         "0.1831782619068343",
         "-0.033162524493637525",
         "-0.12812897117015803",
         "8.676539830055542e-05",
         "0.824794461872231",
         "0.0900790318598337",
         "0.2692367054936165",
         "-0.014566611054073074",
         "-0.08623000940829802",
         "0.0062276016380591204",
         "1.0271918737140733",
         "0.06982643439971847",
         "0.2958005435176681",
         "-0.001367642172221607",
         "-0.20459059288106257",
         "0.08129896960911927",
         "0.796889882860497",
         "-0.11819726365391958",
         "0.6466016047728285",
         "0.038608799948043025",
         "-0.4148538481349345",
         "0.3358187966700391",
         "0.40354155205930287",
         "-0.33383493872810033",
         "0.47884699192805114",
         "0.06934925831581319",
         "-0.8103497182084215",
         "0.2309984626754923",
         "0.40335732392766915",
         "-0.3399014081340321",
         "0.6533048438909113",
         "0.11559800245946113",
         "-0.577782055754293",
         "0.2317239955762923",
         "0.5996944791239741",
         "0.6026412574737793",
         "0.007609453265554414",
         "-0.4618865472825914",
         "-0.2665565433836317",
         "2.9894617327663323e-13",
         "0.6139571536898424",
         "0.6961317942406121",
         "0.48493320554014646",
         "-0.2550192521973733",
         "-0.4825556290888886",
         "8.676539830055542e-05",
         "0.8116055399470253",
         "0.47584718447134483",
         "0.7977261987481578",
         "-0.2530284497365913",
         "-0.4969937852800492",
         "0.0062276016380591204",
         "0.515261114149704",
         "0.6640497734336195",
         "0.8086018511405318",
         "-0.4717876247587312",
         "-0.5795019271631591",
         "0.08129896960911927",
         "0.4026763715066424",
         "0.2840033697467651",
         "1.2501373120753168",
         "-0.2815721593612525",
         "-1.2573308426508842",
         "0.3358187966700391",
         "0.3904858825301531",
         "0.1843307950209243",
         "0.8705137116767606",
         "-0.18044974655913384",
         "-0.9352970344873754",
         "0.2309984626754923",
         "0.3636412056206786",
         "-0.03342466559341062",
         "1.1388738625767283",
         "-0.11792021332092274",
         "-0.582983754487955",
         "0.2317239955762923",
         "0.15704788559621363",
         "0.42054092355341766",
         "0.37807646663905814",
         "0.17924201415692664",
         "0.41092606492220085",
         "0.37807646663905814",
         "0.373915519306081",
         "0.39977637535518085",
         "0.37807646663905814",
         "0.5896276005202735",
         "0.1967580069299217",
         "-0.06437270171790806",
         "-0.43398470787886745",
         "-1.1376208472684417",
         "-1.0244234656513167",
         "-1.6200370434090572",
         "0.623831140380086",
         "0.20817168621974227",
         "-0.06810687947205235",
         "-0.4591596034254567",
         "-1.2036127715958747",
         "-1.083848955248165",
         "-1.7140133117175982",
         "0.6647730121540899",
         "0.22183393860264516",
         "-0.07257671585209165",
         "-0.4892941260396914",
         "-0.6413027787883607",
         "-1.1549816738250571",
         "-0.9132517746777489",
         "0.2779435711422245",
         "0.0675617024424757",
         "-0.08652858785452146",
         "-0.4018926406074007",
         "-0.8912158393181633",
         "-0.6892356542009336",
         "-0.4806281260474654",
         "0.6222503071077897",
         "0.15125476700464308",
         "-0.19371716404452474",
         "-0.4498715656825718",
         "-0.9976113630476527",
         "-0.7715182900861406",
         "-0.5380066856891634",
         "0.7066067464106006",
         "0.08587994057327993",
         "-0.21997876649609877",
         "-0.510859182709153",
         "-0.5664271366146842",
         "-0.4380552508587208",
         "-0.30547124636140766",
         "-0.5047799926882062",
         "-0.46486847922028085",
         "-0.8283319235681408",
         "-0.530798011749407",
         "-0.40982418910416635",
         "-0.38608206508936993",
         "-0.0949261293393479",
         "-0.6193967424505203",
         "-0.5166939613649698",
         "-0.8556866173429878",
         "-0.513713432843624",
         "-0.4133016734805535",
         "-0.4688485924221257",
         "-0.1698184574995468",
         "-0.13505670757733607",
         "-0.3301384062825506",
         "-0.11843909962581572",
         "0.022675754470927706",
         "0.011925708819249925",
         "-0.130871260072045",
         "-0.21230373226412075",
         "-0.25084050436737837",
         "0.03145168218211089",
         "-0.24123505865026862",
         "-0.11433561559526417",
         "-0.03970552220276548",
         "-0.1433123431486253",
         "-0.31079066194739224",
         "-0.27764257059262065",
         "-0.21609494606114266",
         "-0.03401945371623504",
         "-1.0077839413797567",
         "-0.879523064469619",
         "-0.3888528515212053",
         "-0.31584767649617573",
         "0.12221079316295533",
         "0.22826604583343163",
         "0.26751602701722516",
         "-0.46871346905998207",
         "-0.12038455134353532",
         "-0.08028396624502765",
         "-0.02677629614864796",
         "-0.10702975870701059",
         "-0.1537274164093584",
         "-0.17228090729819912",
         "-0.20565111705994488",
         "0.29803377342211396",
         "0.2954387712973701",
         "0.30609917583656227",
         "0.301798882742806",
         "0.2579081440882681",
         "0.25002633193710355",
         "-0.04010065527795388",
         "-0.04625950474384426",
         "-0.06316092715101254",
         "-0.06992065789209002",
         "-0.11471322633791814",
         "-0.12240462496576457",
         "-0.2231221709686551",
         "-0.2294781323814788",
         "-0.246871897772168",
         "-0.2534486510984737",
         "-0.2921629213156483",
         "-0.29901170410986216",
         "-0.4032619157175825",
         "-0.4065277353473909",
         "-0.4177526056952418",
         "-0.42091803158348184",
         "-0.4436303459515589",
         "-0.4465812170279771",
         "-0.3158205602043688",
         "0.3054876484800803",
         "0.002251949164736685",
         "-0.10547329273572326",
         "-0.08679816827084468",
         "5.384770480042144e-13",
         "-0.1373290440247616",
         "-0.0024135163965938356",
         "0.04757896083447684",
         "-0.022455589803098454",
         "-0.2998445106658341",
         "7.815412321216155e-05",
         "-0.014421773023445465",
         "-0.2522982711333542",
         "0.13331414257031177",
         "0.04298963171353666",
         "-0.4842391687562328",
         "0.011318989775408638",
         "0.036480763213720756",
         "-0.3110363440102967",
         "0.15619911769516873",
         "0.09923574436224454",
         "-0.30825290663985716",
         "0.07804911507674847",
         "0.09263853689699952",
         "-0.5111783946813606",
         "0.5038955178573596",
         "0.2421211668442129",
         "-0.2800590689098844",
         "0.35647747062328294",
         "0.32234002210838086",
         "-0.31539625714064995",
         "0.43552411087098114",
         "0.4229021673448363",
         "-0.24887029063602784",
         "0.24853804983974592",
         "0.6705448327304783",
         "-0.1341688900886014",
         "0.3040968894864623",
         "0.21327203779847081",
         "-0.3563257037373382",
         "0.2598985281625233",
         "-0.027934021253742343",
         "0.422371470566937",
         "0.01337004717923365",
         "-2.2623477358074626",
         "-0.17177966405070633",
         "5.384770480042144e-13",
         "-0.09004287793641036",
         "0.08649635291478328",
         "0.24630790310954276",
         "-2.9950477599847356",
         "-0.09626956757874269",
         "7.815412321216155e-05",
         "-0.035732949077173365",
         "-0.1248415880213938",
         "0.33078200076572684",
         "-2.284370993452762",
         "0.11810839585669428",
         "0.011318989775408638",
         "-0.041733200674828365",
         "-0.23561637851563344",
         "0.5413859642037971",
         "-1.6430985394517272",
         "0.23381216247183786",
         "0.07804911507674847",
         "-0.12247895397317544",
         "-0.46128331752823154",
         "0.3438211215708021",
         "-0.8817207314725509",
         "-0.10379854631614414",
         "0.35647747062328294",
         "-0.0390389172489383",
         "-0.36058595417295386",
         "0.4975705057388903",
         "-1.0831872766267248",
         "-0.45923482958307826",
         "0.24853804983974592",
         "0.024491186848720547",
         "-0.23557506850376417",
         "0.35059008888623217",
         "-0.6474194897402373",
         "-0.6550769163881075",
         "0.2598985281625233",
         "-0.836857737152493",
         "0.7925730720678958",
         "0.022548624314741396",
         "-1.6687676872857455",
         "-0.3558839599554114",
         "5.384770480042144e-13",
         "-0.6378738988577684",
         "0.31548407617917756",
         "0.7731078078706451",
         "-1.9109927752967322",
         "-0.5701789593516401",
         "7.815412321216155e-05",
         "-0.2713057364093088",
         "0.22988943345481336",
         "1.0589993909703308",
         "-1.5215392230263531",
         "-0.3437125266910552",
         "0.011318989775408638",
         "-0.16721094972353656",
         "0.06277986654690766",
         "2.0122924593357516",
         "-1.148727477073028",
         "-0.2704041665855153",
         "0.07804911507674847",
         "0.06032485378790124",
         "-0.31723484720275186",
         "1.416090830161612",
         "-1.214449950015888",
         "-0.7285358539792459",
         "0.35647747062328294",
         "0.08519485012609553",
         "-0.3836636336402894",
         "0.9197717867876503",
         "-0.7188332622736763",
         "-0.8341604615465129",
         "0.24853804983974592",
         "0.12365455006677459",
         "-0.2703106943073246",
         "1.0706106426549986",
         "-0.38055943637496675",
         "-1.433680142883859",
         "0.2598985281625233",
         "0.3084517306484571",
         "0.05992200221181321",
         "0.029961001105906604",
         "0.3170744614425871",
         "0.05992200221181321",
         "0.029961001105906604",
         "0.31310997494183823",
         "0.05992200221181321",
         "0.029961001105906604",
         "0.1678589595833876",
         "0.07032441648401923",
         "0.10213264680254253",
         "0.01912335622947463",
         "-0.06825004096596574",
         "-0.13325122119019156",
         "-0.12365806058901248",
         "0.1776858004385655",
         "0.07444136592024163",
         "0.10811172154920863",
         "0.020242880494073495",
         "-0.07224555179598934",
         "-0.14105204723870304",
         "-0.13089728144969293",
         "0.18946879263586702",
         "0.079377843858432",
         "0.05764050166404782",
         "0.02158525958302632",
         "-0.07703641730691241",
         "-0.07520286095785815",
         "-0.06978877832211884",
         "0.06404168237017654",
         "0.05178079728223178",
         "0.03132149991831208",
         "-0.018090698991416056",
         "-0.11535518161160065",
         "-0.09737753510550551",
         "-0.15833429252339093",
         "0.14351890761166045",
         "0.05802098872302201",
         "0.035096106837507406",
         "-0.04054167943577467",
         "-0.12925682961095503",
         "-0.10911266652456417",
         "-0.17741542585555534",
         "0.08159227708872639",
         "0.065971301867212",
         "0.03990514311284785",
         "-0.02304844704585316",
         "-0.0734841090469008",
         "-0.12406380551685192",
         "-0.10086286766751253",
         "-1.6813177313589422",
         "-2.076496108685928",
         "-1.7495662822100126",
         "-2.081478587518782",
         "-1.415074589018166",
         "-0.7791559592108181",
         "-0.3532878946901675",
         "-1.8436956392314252",
         "-2.2747739940017806",
         "-1.7959815984279273",
         "-1.9932019993458225",
         "-1.313243909300681",
         "-0.836061659347968",
         "-0.5755791497992263",
         "-1.0119998401225117",
         "-0.40078365037266284",
         "-0.11776000000000408",
         "-0.0",
         "-0.23552000000000817",
         "-0.0",
         "-0.23552000000000817",
         "-0.22006599390150247",
         "0.30527839833475534",
         "0.09301333333333162",
         "0.0",
         "0.18602666666666323",
         "0.0",
         "0.0",
         "0.338242586458049",
         "0.44810813591224397",
         "0.1476266666666639",
         "0.2952533333333278",
         "0.0",
         "0.0",
         "0.0",
         "0.7971644397217347",
         "0.7110348780198359",
         "0.35402666666666605",
         "0.7080533333333321",
         "0.0",
         "0.0",
         "0.0",
         "0.4572129603335237",
         "0.6664303297236837",
         "0.8719111111111104",
         "1.7438222222222208",
         "0.0",
         "0.0",
         "0.0",
         "0.2462240841217431",
         "0.9164170732188076",
         "0.5775244444444443",
         "1.1550488888888886",
         "0.0",
         "0.0",
         "0.0",
         "0.6137705693126027",
         "1.0158123696425367",
         "0.5186799999999998",
         "0.5186799999999998",
         "0.0",
         "0.0",
         "0.0",
         "-0.08938150825708684",
         "0.23717083038413916",
         "0.040960000000005437",
         "0.0",
         "0.0",
         "0.0",
         "0.0",
         "0.14472835502358533",
         "-0.22400123608578193",
         "-0.04778666666665643",
         "-0.09557333333331286",
         "-0.0",
         "-0.0",
         "-0.0",
         "0.13876005053832985",
         "0.08003799312556219",
         "0.013653333333342843",
         "0.027306666666685686",
         "0.0",
         "0.0",
         "0.0",
         "0.3528950351335589",
         "0.0025857638258682965",
         "0.002133333333345533",
         "0.004266666666691066",
         "0.0",
         "0.0",
         "0.0",
         "-0.2097147129411112",
         "0.21245743460816532",
         "0.257066666666673",
         "0.0",
         "0.514133333333346",
         "0.0",
         "0.0",
         "-0.2496044864925538",
         "0.4252258818865982",
         "0.23672888888889254",
         "0.0",
         "0.4734577777777851",
         "0.0",
         "0.0",
         "0.6299725191793124",
         "0.2864106565157625",
         "0.13344888888889228",
         "0.13344888888889228",
         "0.0",
         "0.0",
         "0.0",
         "0.0",
         "0.755859375",
         "0.03223904341726064",
         "-0.53125",
         "0.022194536364501017",
         "0.06988100436282214",
         "0.6281331572903212",
         "1.2207248112217106",
         "2.5930171767861983",
         "2.03412639846616",
         "0.8263094967314257",
         "0.9119392596859826",
         "0.43881759644484825",
         "0.7356109998044305",
         "0.7193281154117848",
         "1.1986845943794253",
         "1.0112793732670193",
         "1.3910910240502745",
         "1.044133547091332",
         "0.8079367548837454",
         "-0.0013675779362611231",
         "0.07813185574980697",
         "0.00014970401099328773",
         "-0.0006837889681299444",
         "0.09320781333317929",
         "7.485200549664387e-05",
         "-0.0013860698915275768",
         "0.06717840021238619",
         "9.891123891454434e-06",
         "-0.0006930349457632094",
         "0.07666390935572526",
         "4.945561945727217e-06",
         "0.003358124073201822",
         "0.11913591770550358",
         "0.00013584292347704535",
         "0.000844601895795534",
         "0.13580438982905552",
         "6.792146173852268e-05",
         "0.003285153325323014",
         "0.07220643756827494",
         "1.3062279778429285e-05",
         "0.0008262490206031362",
         "0.06628833042803489",
         "3.2655699446073213e-06",
         "0.05251296482624081",
         "0.317236111248691",
         "0.00018616080665399994",
         "0.028145799519765542",
         "0.2181582688252166",
         "9.308040332699997e-05",
         "0.05044046544339349",
         "0.24200218828583087",
         "4.243630954188234e-05",
         "0.027047331707862877",
         "0.3264282450321234",
         "2.121815477094117e-05",
         "0.19493365511617283",
         "0.3436991678923862",
         "0.0005711101189042301",
         "0.06845753365370222",
         "0.11476795934450212",
         "0.00028555505945211505",
         "0.18069713792825193",
         "0.2702532148794867",
         "0.00028001374937602517",
         "0.06378696535979979",
         "0.1344677425166202",
         "0.00014000687468801259",
         "0.10443097193132889",
         "0.1736794484487687",
         "0.034206290313224474",
         "0.2687094481037373",
         "0.013668101796430854",
         "0.017103145156612237",
         "0.08843121147364608",
         "0.14779371215974413",
         "0.018040277301977523",
         "0.2548173526467579",
         "0.10918469394509533",
         "0.009020138650988762",
         "-0.08373086739198832",
         "0.1642989001116204",
         "0.24606572062647133",
         "0.6016937489975193",
         "0.039452489570479976",
         "0.12303286031323567",
         "-0.09011854517725681",
         "0.1690586243447494",
         "0.252677364539619",
         "0.5774139300753677",
         "0.13908037139348361",
         "0.1263386822698095",
         "-0.1324712387856426",
         "0.09265791793957323",
         "1.1359622825276745",
         "0.4558799995637778",
         "0.08801412063161873",
         "0.2839905706319846",
         "-0.14218883941325422",
         "0.1747365159572185",
         "0.643702255985162",
         "0.4342931846678544",
         "0.15557038769394893",
         "0.3218511279926557",
         "-inf",
         "-inf",
         "-inf",
         "-inf",
         "-inf",
         "-inf",
         "-inf",
         "-inf",
         "-inf",
         "-inf",
         "-inf",
         "-inf",
         "-inf",
         "-inf",
         "-inf",
         "-inf",
         "-inf",
         "-inf",
         "-inf",
         "-inf",
         "-inf",
         "0.947075840361173",
         "0.47265918133522716",
         "0.2688353620483912",
         "0.22976294826127297",
         "0.1580465324645772",
         "0.09379732104879461",
         "-0.009958133707894015",
         "-0.00818734124171209",
         "-0.33934109166372267",
         "-0.2357244454513153",
         "-0.6190620302933143",
         "-0.3035806219512093",
         "-0.40382811636505483",
         "-0.2822045954452955",
         "-0.7815374247234806",
         "-0.4319784967307651",
         "-0.9046376780659923",
         "-0.0",
         "-0.8044187026902164",
         "-0.3857665693365264",
         "-0.6155295175977994",
         "-0.0",
         "-0.6283855097969321",
         "-0.43177055779080326",
         "-0.5255678788395979",
         "-0.0",
         "-1.0427975575635295",
         "-0.5184015241895124",
         "-0.5102141829478003",
         "-1.0204283658956006",
         "-1.7265988176422458",
         "-0.7934112887143243",
         "-0.557686843263009",
         "-1.115373686526018",
         "-1.1406587021892174",
         "-0.7539847038706546",
         "-0.45040408191944536",
         "-0.9008081638388907",
         "-0.6277823979394801",
         "-0.5864497622918264",
         "-0.3042451668465309",
         "-0.6084903336930618",
         "5.858570089064441e-17",
         "4.564109747625498e-17",
         "-0.0",
         "-0.0",
         "2.703808739017514e-06",
         "1.8352512140045874e-06",
         "-0.0",
         "-0.0",
         "0.0008329241590656078",
         "0.0004039999536698097",
         "-0.0",
         "-0.0",
         "-0.0038935804249297843",
         "-0.0026954232959010707",
         "0.0",
         "0.0",
         "-0.20477601939403506",
         "-0.12331020533461377",
         "0.0",
         "0.0",
         "-0.2883576824069454",
         "-0.2462553901194163",
         "0.0",
         "0.0",
         "-0.43941783837899817",
         "-0.2682665675150253",
         "0.0",
         "0.0",
         "1.446084116325153",
         "1.5166810737345264",
         "1.0440218923992992",
         "2.0880437847985984",
         "0.91169067524849",
         "0.8384978253227574",
         "0.6087348770614844",
         "1.2174697541229689",
         "0.3574626633073772",
         "0.47026606754211864",
         "0.376468746493324",
         "0.752937492986648",
         "0.20413560284189294",
         "0.19288799964922299",
         "0.20107534089093507",
         "0.0",
         "-0.1732821201633663",
         "-0.2925286450835624",
         "-0.056804199632247115",
         "-0.11360839926449423",
         "-0.4009893421731189",
         "-0.4902484795877998",
         "-0.18666785763659055",
         "-0.3733357152731811",
         "-0.2846171346617133",
         "-0.5084703150013392",
         "-0.2262657195560437",
         "-0.4525314391120874",
         "-0.12953663456793046",
         "-0.07528050541569087",
         "-0.5479396867509181",
         "-0.0",
         "-0.6308111591888372",
         "-0.3160713004402524",
         "-0.5458342487015253",
         "-0.0",
         "-0.7054193691213732",
         "-0.5082230684587457",
         "-0.6020203895075402",
         "-0.0",
         "-1.1882017595186354",
         "-0.6212728394976315",
         "-0.6130854982559194",
         "-1.2261709965118388",
         "-0.816174207848545",
         "-0.7772638611749247",
         "-0.5415394157236094",
         "-1.0830788314472188",
         "-0.9443618864772522",
         "-0.6548981811001645",
         "-0.35131755914895524",
         "-0.7026351182979105",
         "-0.4313120860254374",
         "-0.4428954284542241",
         "-0.16069083300892856",
         "-0.3213816660178571",
         "-0.15999789285362198",
         "0.0654261596508286",
         "0.0",
         "0.0",
         "-0.07617454683922933",
         "-0.15234909367845867",
         "-0.03328962767908375",
         "-0.0665792553581675",
         "0.8391409936536509",
         "1.9139322916666666",
         "0.2735677083333333",
         "0.40007484070513544",
         "-0.3222442973626228",
         "0.18368659695981285",
         "0.40429462564406904",
         "-0.16937326841616326",
         "0.38658438365018005",
         "-0.3147752236088658",
         "-1.0240579395996232",
         "-0.09458988793117107",
         "0.0",
         "1.735321896873206",
         "0.6200568097770437",
         "0.0",
         "-0.09470180409781025",
         "0.0",
         "0.0",
         "0.0",
         "0.0",
         "0.6912103958356397",
         "0.2419298045391844",
         "2.5255256610370855",
         "4.292974657762171",
         "0.35079118499890877",
         "0.3235699317605322",
         "0.7538292996276403",
         "0.9133631727894238",
         "1.0029847425357745",
         "1.9286206385611941",
         "1.8496080811492142",
         "0.004397695826246393",
         "0.17296715541473942",
         "0.3518316974373877",
         "0.3683578211206926",
         "0.20841554010865287",
         "0.15852390272309042",
         "0.5295342383197664",
         "0.3577027965545684"
        ],
        [
         "2023-03-01 00:04:00",
         "27.158",
         "3.451",
         "98.411",
         "44.407",
         "142.818",
         "0.17381974928938457",
         "-0.21348926264478335",
         "0.09606665449376545",
         "0.21570853040944032",
         "0.1071325879712297",
         "0.07897598274775328",
         "0.08781787894024534",
         "0.12042632044937292",
         "0.7635370062729803",
         "-0.43094477161371114",
         "-0.2052984774394102",
         "-0.06211823387662485",
         "0.11726636078323005",
         "0.34149282885252275",
         "0.4955912781960342",
         "0.5845189198219383",
         "1.6684192346887892",
         "0.1561773247301108",
         "0.47273186102245823",
         "0.3871004484552021",
         "0.6231915034948421",
         "0.4390340910940105",
         "0.4198676324861981",
         "0.3615722083847186",
         "1.3245954253962384",
         "0.9054601698444333",
         "0.7837497220320415",
         "1.0477080660247813",
         "1.361880392016508",
         "0.7320007997526623",
         "0.6227117819620429",
         "0.2510950502598577",
         "0.9317610013932036",
         "0.9368175627597575",
         "0.9283624029694438",
         "0.9304635861964987",
         "0.8308563627613844",
         "0.8268925324335589",
         "0.9939038415689981",
         "0.9924186936857101",
         "0.9278773466740233",
         "0.9242847302439461",
         "0.7823967367704864",
         "0.7755059717104973",
         "0.4686910625876089",
         "0.4670839619959919",
         "0.4319861200602112",
         "0.4296758621998532",
         "0.36357562611125005",
         "0.36026426959784963",
         "0.41595913501525855",
         "0.4139587745105285",
         "0.38317504396094837",
         "0.3807861032107974",
         "0.3279712988893935",
         "0.3250782182927228",
         "0.28600207403587924",
         "0.07726780855397578",
         "0.0011596906237436705",
         "-0.3387441866119588",
         "0.3970963709436953",
         "2.445923235899726e-13",
         "0.3918673118536488",
         "0.09291767808668545",
         "0.04080101215174813",
         "-0.2784128121506334",
         "0.27843537977397986",
         "8.116763066826153e-05",
         "0.5978456084762875",
         "0.05909717383981112",
         "0.07213967672157381",
         "-0.16568034851173113",
         "0.2006450824250451",
         "0.006023417977794886",
         "0.7961651857602066",
         "0.015662728757532378",
         "0.24272545004791388",
         "-0.08332566525440202",
         "0.1812581009716002",
         "0.07995518498748093",
         "0.8239808135975244",
         "-0.14018854543109266",
         "0.4086641450884474",
         "0.07029961766061751",
         "0.13033535923604408",
         "0.3339583047217286",
         "1.1066832721262605",
         "-0.28424384967581506",
         "0.6575792195927761",
         "0.33248797646868333",
         "-0.028630959837897305",
         "0.2303576902408862",
         "0.6956009537511068",
         "-0.21773272751185985",
         "0.4436362491278888",
         "0.48698248594342114",
         "-0.08488683616280068",
         "0.23140238003767147",
         "0.6166547853115294",
         "0.1119059699379987",
         "0.003330301758471454",
         "-0.06799397298554995",
         "-0.14503207556357758",
         "2.445923235899726e-13",
         "0.6617896642026921",
         "0.13659188585564952",
         "0.1713603095257482",
         "-0.03102300678437059",
         "-0.11986258593337365",
         "8.116763066826153e-05",
         "0.8726856278741526",
         "0.0871256209791834",
         "0.26040927252661267",
         "-0.014089017249021497",
         "-0.08340279598507512",
         "0.006023417977794886",
         "1.085766389022298",
         "0.06867227845922726",
         "0.2909112783355579",
         "-0.001345036516482407",
         "-0.2012089301888136",
         "0.07995518498748093",
         "0.8431226264442248",
         "-0.11754243116830229",
         "0.6430193244139761",
         "0.038394900779355805",
         "-0.4125554888654888",
         "0.3339583047217286",
         "0.4277811042026157",
         "-0.3329089056109627",
         "0.4775187062361564",
         "0.06915688866722564",
         "-0.8081018687820457",
         "0.2303576902408862",
         "0.4281740385363025",
         "-0.33942965045445667",
         "0.6523981057314512",
         "0.11543756109588102",
         "-0.5769801375644882",
         "0.23140238003767147",
         "0.5988862677679969",
         "0.4930701197512739",
         "0.006225916308180883",
         "-0.37790717504939286",
         "-0.23458262091797213",
         "2.445923235899726e-13",
         "0.6511533781828976",
         "0.6512200655799275",
         "0.45364719227949185",
         "-0.2385663972168976",
         "-0.4631262297699286",
         "8.116763066826153e-05",
         "0.8630610063967754",
         "0.4602456374394974",
         "0.7715712414121525",
         "-0.24473243499112923",
         "-0.4866464460789003",
         "0.006023417977794886",
         "0.546099728240856",
         "0.6530737441206671",
         "0.7952365312869693",
         "-0.46398948220073566",
         "-0.5729217290223633",
         "0.07995518498748093",
         "0.426827718663552",
         "0.2824299438755919",
         "1.2432113435873648",
         "-0.2800122027996943",
         "-1.2523749924383585",
         "0.3339583047217286",
         "0.4158215363002715",
         "0.1838194752011714",
         "0.8680989718385449",
         "-0.179949192477139",
         "-0.9337089702565923",
         "0.2303576902408862",
         "0.3895736649235182",
         "-0.03337827466267722",
         "1.137293191011736",
         "-0.11775654890271187",
         "-0.5826781557715109",
         "0.23140238003767147",
         "0.16833407947419232",
         "0.4220835129079319",
         "0.3806800505818231",
         "0.1890876904435288",
         "0.41365393630801606",
         "0.3806800505818231",
         "0.38788559095797837",
         "0.4025035515887794",
         "0.3806800505818231",
         "0.6878489126575129",
         "0.2981773683057287",
         "-0.00853364768847227",
         "-0.37512206885671495",
         "-1.097323644057006",
         "-1.0043549325227803",
         "-1.6001880777202566",
         "0.7239491608633707",
         "0.31382655638631807",
         "-0.008981517553476452",
         "-0.3948095315306074",
         "-1.154914279418435",
         "-1.0570663080642038",
         "-1.684170454836434",
         "0.7664035521227834",
         "0.3322302180419649",
         "-0.009508218710038102",
         "-0.417962259968826",
         "-0.6113208316230525",
         "-1.119055614849477",
         "-0.8914674460203483",
         "0.29300562844771627",
         "0.09402787107053558",
         "-0.07052701663189127",
         "-0.3838002787211921",
         "-0.8787114150426655",
         "-0.6832025234192295",
         "-0.47772496719333946",
         "0.649136435697385",
         "0.20831312151340503",
         "-0.1562483848495946",
         "-0.4251432750091245",
         "-0.9733662779607387",
         "-0.7567971531150198",
         "-0.5291855383298041",
         "0.727503130254768",
         "0.11673081315434973",
         "-0.17511139850470983",
         "-0.4764684993280646",
         "-0.5454377347807552",
         "-0.4240805688773108",
         "-0.29653560827076975",
         "0.5171762239450872",
         "-0.1119593504079831",
         "-0.5318670389946638",
         "-0.43898585024609704",
         "-0.39294269407923893",
         "-0.3820720386388289",
         "-0.09637012459636216",
         "0.3974688914786332",
         "-0.17640310342760981",
         "-0.573730059409903",
         "-0.42741988083971827",
         "-0.39729780264201514",
         "-0.4648970338474082",
         "-0.17129299308113707",
         "-0.24047882004472795",
         "-0.4918023920157585",
         "-0.3186612818328382",
         "-0.081389860324391",
         "-0.09272370609733088",
         "-0.23563882026093427",
         "-0.3172851708830639",
         "-0.35601538392926374",
         "0.11371309681981327",
         "-0.0697383903407853",
         "0.04856827130336186",
         "0.0418582548540363",
         "-0.06054637538273348",
         "-0.22789620230329183",
         "-0.19511016960824012",
         "-0.13374065596790702",
         "-0.027028453362744016",
         "-0.8653235805016621",
         "-0.7970274790080878",
         "-0.3549726394497454",
         "-0.2855044711559123",
         "0.14975879791604155",
         "0.2419120575715643",
         "0.28130267864181707",
         "-0.46035901725712375",
         "-0.04868085174606218",
         "-0.013014534021445812",
         "0.0065326338322475586",
         "-0.07300358826007658",
         "-0.1366389601365956",
         "-0.1553562311492196",
         "-0.18881109463850698",
         "0.29819554194212355",
         "0.29561038729614036",
         "0.3045711755808295",
         "0.3003102380144855",
         "0.2639802392287451",
         "0.2557283807214391",
         "-0.038911057194917914",
         "-0.04501922215066717",
         "-0.062222709139864364",
         "-0.06892329269909155",
         "-0.11174809537744083",
         "-0.11949150517461779",
         "-0.22052711945326448",
         "-0.22682312514333794",
         "-0.24438371078059126",
         "-0.25089622636583486",
         "-0.2882736466707664",
         "-0.29513668029289497",
         "-0.39903060979922533",
         "-0.4022589146950542",
         "-0.41358410746890856",
         "-0.41671159829291304",
         "-0.4386451758594372",
         "-0.4416094656392711",
         "-0.24576305824650432",
         "0.6457380905341934",
         "0.0018425038620572872",
         "-0.0862963304201372",
         "0.1947846009283342",
         "4.4057213018526626e-13",
         "-0.1195019185310498",
         "0.1381851027114252",
         "0.044509350458058976",
         "-0.021006842073866296",
         "-0.18618311885999722",
         "7.311192171460275e-05",
         "-0.009391832887339979",
         "-0.10128094553700108",
         "0.12894318707620317",
         "0.04158013559178136",
         "-0.37249971651342895",
         "0.01094787535654278",
         "0.040472532454081445",
         "-0.2339327654389628",
         "0.1536173140969015",
         "0.09759548412485207",
         "-0.25483031108135906",
         "0.07675904705895098",
         "0.09520544585885043",
         "-0.46010560402323203",
         "0.5011038529384823",
         "0.24077977533815076",
         "-0.2623090789178668",
         "0.35450252618769684",
         "0.32453028892367575",
         "-0.2903675287737936",
         "0.4343159996064292",
         "0.42172906840629304",
         "-0.24006950168932772",
         "0.24784862390399073",
         "0.6727007211209209",
         "-0.12189737140824045",
         "0.3036748257952944",
         "0.21297603219430913",
         "-0.34771508062417184",
         "0.2595378084842963",
         "-0.0268609601431352",
         "0.3455766577365848",
         "0.010939129510282076",
         "-1.8510117838424691",
         "-0.14054699785966882",
         "4.4057213018526626e-13",
         "-0.0870765226044359",
         "0.08091594304931339",
         "0.23041707065086256",
         "-2.801818872243785",
         "-0.09005862773495284",
         "7.311192171460275e-05",
         "-0.036006110428440014",
         "-0.12074842120102022",
         "0.3199366892652111",
         "-2.2094735838313593",
         "0.1142359894351633",
         "0.01094787535654278",
         "-0.04250006910303967",
         "-0.2317218929203337",
         "0.5324374358698502",
         "-1.6159398859070704",
         "0.22994749862932815",
         "0.07675904705895098",
         "-0.12277689595206767",
         "-0.4587277312815377",
         "0.34191629541251506",
         "-0.8768358520738111",
         "-0.10322348511771674",
         "0.35450252618769684",
         "-0.039419551268118025",
         "-0.3595857157425157",
         "0.4961902824220001",
         "-1.0801825962477323",
         "-0.4579609465606564",
         "0.24784862390399073",
         "0.023967930569504452",
         "-0.23524810796455004",
         "0.3501034961188675",
         "-0.6465209200112432",
         "-0.6541677187248346",
         "0.2595378084842963",
         "-0.5637869999194289",
         "1.136856050242918",
         "0.018448874439333865",
         "-1.3653553805065188",
         "-0.29117778541806383",
         "4.4057213018526626e-13",
         "-0.5109102514954145",
         "0.4684289391373284",
         "0.7232298847822165",
         "-1.7877029188259754",
         "-0.533393220038631",
         "7.311192171460275e-05",
         "-0.2188018553710127",
         "0.3984917111796078",
         "1.0242780994631069",
         "-1.4716526911238494",
         "-0.3324432635208566",
         "0.01094787535654278",
         "-0.12047811963690895",
         "0.1505398506380502",
         "1.9790314269500369",
         "-1.1297402460470276",
         "-0.2659346762287299",
         "0.07675904705895098",
         "0.08946571632112556",
         "-0.25595089897380524",
         "1.4082454516011598",
         "-1.2077216954451628",
         "-0.7244996442619093",
         "0.35450252618769684",
         "0.099716502528062",
         "-0.35279489177687007",
         "0.9172204087383087",
         "-0.7168392726418491",
         "-0.8318465629014462",
         "0.24784862390399073",
         "0.13825114483707818",
         "-0.2550229378847983",
         "1.0691247153230692",
         "-0.3800312483994289",
         "-1.4316903022969276",
         "0.2595378084842963",
         "0.3540698251885033",
         "0.06613026314439452",
         "0.03306513157219726",
         "0.3286249238466752",
         "0.06613026314439452",
         "0.03306513157219726",
         "0.3255592779835865",
         "0.06613026314439452",
         "0.03306513157219726",
         "0.2213165258290524",
         "0.09243844860344601",
         "0.12523823846060406",
         "0.03146006518582023",
         "-0.06386733325754212",
         "-0.1288620062495007",
         "-0.12146425475771871",
         "0.23334796486043247",
         "0.09746368363441145",
         "0.13204656976253343",
         "0.03317032995158293",
         "-0.06733935561695005",
         "-0.1358673365828068",
         "-0.12806742083460856",
         "0.24758232920262993",
         "0.10340902617817288",
         "0.07005074444205933",
         "0.03519373976432391",
         "-0.07144709627367175",
         "-0.07207766237397528",
         "-0.0679398047550365",
         "0.08331113880669427",
         "0.06791593164457904",
         "0.03985590842437843",
         "-0.013374774244411488",
         "-0.11195883469168669",
         "-0.09569591317295421",
         "-0.15666751700716589",
         "0.18523089001809898",
         "0.0755008792649159",
         "0.04430707283366446",
         "-0.029736976022279746",
         "-0.12446255622221772",
         "-0.10638336855081323",
         "-0.17416436762133894",
         "0.10425926800629347",
         "0.08499302038901319",
         "0.04987745813549805",
         "-0.016737787917018864",
         "-0.07005513499747607",
         "-0.1197581260022859",
         "-0.09803035270847939",
         "0.498402938752048",
         "-1.0735222445213741",
         "-1.422781969503999",
         "-2.000594815020018",
         "-1.5404593441943866",
         "-0.8666677846264157",
         "-0.4551039840168721",
         "0.32148006317946654",
         "-1.3023167410787262",
         "-1.4905022955348048",
         "-1.9307177455094737",
         "-1.4417766281804225",
         "-0.9233908170064612",
         "-0.6768644631817032",
         "-0.4233752514285061",
         "-0.43528575599736125",
         "-0.122879999999995",
         "-0.0",
         "-0.24575999999999",
         "-0.0",
         "-0.0",
         "0.06546145042441667",
         "0.29817098740797376",
         "0.09130666666666087",
         "0.0",
         "0.0",
         "0.0",
         "0.0",
         "0.5266896553384038",
         "0.43580004468651756",
         "0.13994666666666333",
         "0.27989333333332667",
         "0.0",
         "0.0",
         "0.0",
         "0.926796719103906",
         "0.7031163380503364",
         "0.3468799999999952",
         "0.6937599999999904",
         "0.0",
         "0.0",
         "0.0",
         "0.545803197604987",
         "0.6630308757808691",
         "0.8666666666666654",
         "1.7333333333333307",
         "0.0",
         "0.0",
         "0.0",
         "0.3093262590104791",
         "0.9143010486959741",
         "0.5771511111111112",
         "1.1543022222222223",
         "0.0",
         "0.0",
         "0.0",
         "0.6639617947941976",
         "1.0149556520004408",
         "0.5185844444444445",
         "0.5185844444444445",
         "0.0",
         "0.0",
         "0.0",
         "-0.042645605528072866",
         "0.15811388996345227",
         "0.02048000000000627",
         "0.0",
         "0.0",
         "0.0",
         "0.0",
         "0.15583192802801818",
         "-0.1993138918361954",
         "-0.040959999999991226",
         "-0.08191999999998245",
         "-0.0",
         "-0.0",
         "-0.0",
         "0.15396173047269093",
         "0.06658413592486097",
         "0.01109333333334206",
         "0.02218666666668412",
         "0.0",
         "0.0",
         "0.0",
         "0.36403512180702535",
         "0.030157125005406602",
         "0.02133333333334697",
         "0.04266666666669394",
         "0.0",
         "0.0",
         "0.0",
         "-0.1973647340043259",
         "0.21052761296576747",
         "0.25422222222222945",
         "0.0",
         "0.5084444444444589",
         "0.0",
         "0.0",
         "-0.24379243479410875",
         "0.42506635986431257",
         "0.2366755555555593",
         "0.0",
         "0.4733511111111186",
         "0.0",
         "0.0",
         "0.6342364584785732",
         "0.28689343713580284",
         "0.1335911111111141",
         "0.1335911111111141",
         "0.0",
         "0.0",
         "0.0",
         "0.0",
         "0.62890625",
         "0.02143714846040283",
         "-0.439453125",
         "0.011996529820522864",
         "0.07228795195919055",
         "0.15402431462842675",
         "1.0391666812289648",
         "2.407954719744003",
         "1.9458922349610446",
         "0.8001843343905647",
         "0.8868028312858703",
         "0.4265825968680384",
         "0.2657573959268668",
         "0.5596658130212361",
         "1.042453671734986",
         "0.9345107744473168",
         "1.3413627338672178",
         "1.019605333692282",
         "0.7957184307741842",
         "-0.001118927402395464",
         "0.06392606379529653",
         "0.00012248509990359904",
         "-0.0005594637011972271",
         "0.0762609381816921",
         "6.124254995179952e-05",
         "-0.0011340571839771078",
         "0.05496414562831592",
         "8.092737729371808e-06",
         "-0.0005670285919880803",
         "0.06272501674559339",
         "4.046368864685904e-06",
         "0.0031414709071888",
         "0.11144972946643872",
         "0.0001270788638978811",
         "0.0007901114509054992",
         "0.12704281629169678",
         "6.353943194894055e-05",
         "0.0030732079494957196",
         "0.06754795772516053",
         "1.2219552050788684e-05",
         "0.000772942632177127",
         "0.062011663948806806",
         "3.054888012697171e-06",
         "0.050791228274560785",
         "0.3068349272733246",
         "0.00018005717364895076",
         "0.027222986420756837",
         "0.2110055386997991",
         "9.002858682447538e-05",
         "0.04878667969115107",
         "0.23406769030924623",
         "4.104495513067308e-05",
         "0.026160533946949338",
         "0.3157256796212341",
         "2.052247756533654e-05",
         "0.19171161122995511",
         "0.3380181899106942",
         "0.0005616702822281272",
         "0.06732600417182283",
         "0.11287096828095677",
         "0.0002808351411140636",
         "0.17771040837571883",
         "0.2657862195922225",
         "0.00027538542294005777",
         "0.06273263535385268",
         "0.13224513520229586",
         "0.00013769271147002888",
         "0.10385240698988096",
         "0.1727172354379718",
         "0.03401678177963321",
         "0.26722075310039256",
         "0.013592378240772085",
         "0.017008390889816604",
         "0.08794128786437372",
         "0.1469749104303273",
         "0.01794033116734053",
         "0.25340562216118023",
         "0.10857979259359873",
         "0.008970165583670265",
         "-0.08349860423694766",
         "0.16384314726803684",
         "0.24538315274678624",
         "0.6000246956022417",
         "0.03934305131924498",
         "0.12269157637339312",
         "-0.08986856308245139",
         "0.1685896683826278",
         "0.25197645645490435",
         "0.5758122270793196",
         "0.13869457285979858",
         "0.12598822822745218",
         "-0.13228737863465634",
         "0.09252931569399436",
         "1.1343856520175735",
         "0.45524727229165596",
         "0.08789196362865948",
         "0.2835964130044592",
         "-0.1419914919609111",
         "0.17449399476921368",
         "0.6428088454980208",
         "0.43369041827692045",
         "0.15535446765551164",
         "0.321404422749085",
         "-inf",
         "-inf",
         "-inf",
         "-inf",
         "-inf",
         "-inf",
         "-inf",
         "-inf",
         "-inf",
         "-inf",
         "-inf",
         "-inf",
         "-inf",
         "-inf",
         "-inf",
         "-inf",
         "-inf",
         "-inf",
         "-inf",
         "-inf",
         "-inf",
         "0.7788075563339834",
         "0.3886762340169278",
         "0.2528847114782776",
         "0.21612975697536435",
         "0.15428109062715703",
         "0.09156295226920282",
         "-0.009079477672668299",
         "-0.00746503347934478",
         "-0.33698240909025867",
         "-0.23408764966057471",
         "-0.6168654581546559",
         "-0.3025013738789537",
         "-0.40302779666754185",
         "-0.28164136209232415",
         "-0.6772719968317",
         "-0.3743477216031778",
         "-0.7630239556201056",
         "-0.0",
         "-0.7793694407513235",
         "-0.3737525115437477",
         "-0.5898822685191121",
         "-0.0",
         "-0.6214271371031761",
         "-0.4269850862666591",
         "-0.518548038535862",
         "-0.0",
         "-1.0393184290959463",
         "-0.5166617053394161",
         "-0.5091966718600713",
         "-1.0183933437201427",
         "-1.7262554478522583",
         "-0.7932153027804084",
         "-0.5591276531198337",
         "-1.1182553062396674",
         "-1.1421121331694124",
         "-0.7549337758462228",
         "-0.4524324019672691",
         "-0.9048648039345382",
         "-0.6292214516141645",
         "-0.5878196975115484",
         "-0.30617833541922423",
         "-0.6123566708384485",
         "4.79337552741636e-17",
         "3.7342716116935883e-17",
         "-0.0",
         "-0.0",
         "2.529369465532513e-06",
         "1.7168479098753044e-06",
         "-0.0",
         "-0.0",
         "0.0008056151702437845",
         "0.0003907540535497276",
         "-0.0",
         "-0.0",
         "-0.0038292237236912754",
         "-0.0026508709321138835",
         "0.0",
         "0.0",
         "-0.20364152621179663",
         "-0.1226273901995581",
         "0.0",
         "0.0",
         "-0.2875577997927791",
         "-0.24557651986585632",
         "0.0",
         "0.0",
         "-0.4388079593527955",
         "-0.2679063183888766",
         "0.0",
         "0.0",
         "1.0173126259853298",
         "1.0673633537239515",
         "0.6786871197070237",
         "1.3573742394140473",
         "0.7351739761300232",
         "0.676283565385717",
         "0.46015380841035264",
         "0.9203076168207053",
         "0.28592886578622545",
         "0.376209833610684",
         "0.2846468813414812",
         "0.5692937626829624",
         "0.14045342226309318",
         "0.132727139442952",
         "0.14019217292229677",
         "0.0",
         "-0.19253616006371058",
         "-0.32503742396478297",
         "-0.09094977430420825",
         "-0.1818995486084165",
         "-0.4201191155494796",
         "-0.5136252032891209",
         "-0.21112382941016716",
         "-0.4222476588203343",
         "-0.2943501749249885",
         "-0.5258519602301562",
         "-0.24421059813783208",
         "-0.48842119627566416",
         "0.03795387517524239",
         "0.02205714972920935",
         "-0.36661908428771844",
         "-0.7332381685754369",
         "-0.4879638367870387",
         "-0.24449679222775483",
         "-0.4606265492031192",
         "-0.0",
         "-0.6303786574111955",
         "-0.4541530109657638",
         "-0.5457159632349666",
         "-0.0",
         "-1.116220826698855",
         "-0.5836199877866498",
         "-0.576154954307305",
         "-1.15230990861461",
         "-0.7941087292672339",
         "-0.7562166347955502",
         "-0.5221289851349755",
         "-1.044257970269951",
         "-0.9241742270080883",
         "-0.640895269342274",
         "-0.3383938954633203",
         "-0.6767877909266407",
         "-0.4219233262222701",
         "-0.433274057355924",
         "-0.15163269526359985",
         "-0.3032653905271997",
         "-0.16086258694266736",
         "0.06510833845690604",
         "0.0",
         "0.0",
         "0.0",
         "0.0",
         "0.0",
         "0.0",
         "0.8216802529320196",
         "1.913888888888889",
         "0.27361111111111114",
         "0.3917590175445115",
         "-0.3696252972571446",
         "0.19237710030466937",
         "0.41543808714943314",
         "-0.1989763508595798",
         "0.38996879949087376",
         "-0.3126282237584365",
         "-1.0240595789380682",
         "0.162221335842067",
         "0.0",
         "1.7120955479277364",
         "0.6187029542121641",
         "0.0",
         "-0.09188380279152901",
         "0.0",
         "0.0",
         "0.0",
         "0.0",
         "0.6912074097442655",
         "0.24192754777220768",
         "2.5244304820557244",
         "4.306693587489281",
         "0.33559888171656543",
         "0.31906977904951833",
         "0.7475329468313672",
         "0.9089039306164304",
         "1.0012855849779643",
         "1.9270844595544672",
         "1.8489498541915053",
         "0.004007596074878396",
         "0.16739100861022005",
         "0.34606571260682845",
         "0.3653144230065979",
         "0.2078385072683125",
         "0.15830418403650368",
         "0.5291669099610664",
         "0.3624523234683032"
        ]
       ],
       "shape": {
        "columns": 896,
        "rows": 5
       }
      },
      "text/html": [
       "<div>\n",
       "<style scoped>\n",
       "    .dataframe tbody tr th:only-of-type {\n",
       "        vertical-align: middle;\n",
       "    }\n",
       "\n",
       "    .dataframe tbody tr th {\n",
       "        vertical-align: top;\n",
       "    }\n",
       "\n",
       "    .dataframe thead th {\n",
       "        text-align: right;\n",
       "    }\n",
       "</style>\n",
       "<table border=\"1\" class=\"dataframe\">\n",
       "  <thead>\n",
       "    <tr style=\"text-align: right;\">\n",
       "      <th></th>\n",
       "      <th>bid_qty</th>\n",
       "      <th>ask_qty</th>\n",
       "      <th>buy_qty</th>\n",
       "      <th>sell_qty</th>\n",
       "      <th>volume</th>\n",
       "      <th>X1</th>\n",
       "      <th>X2</th>\n",
       "      <th>X3</th>\n",
       "      <th>X4</th>\n",
       "      <th>X5</th>\n",
       "      <th>...</th>\n",
       "      <th>X882</th>\n",
       "      <th>X883</th>\n",
       "      <th>X884</th>\n",
       "      <th>X885</th>\n",
       "      <th>X886</th>\n",
       "      <th>X887</th>\n",
       "      <th>X888</th>\n",
       "      <th>X889</th>\n",
       "      <th>X890</th>\n",
       "      <th>label</th>\n",
       "    </tr>\n",
       "    <tr>\n",
       "      <th>timestamp</th>\n",
       "      <th></th>\n",
       "      <th></th>\n",
       "      <th></th>\n",
       "      <th></th>\n",
       "      <th></th>\n",
       "      <th></th>\n",
       "      <th></th>\n",
       "      <th></th>\n",
       "      <th></th>\n",
       "      <th></th>\n",
       "      <th></th>\n",
       "      <th></th>\n",
       "      <th></th>\n",
       "      <th></th>\n",
       "      <th></th>\n",
       "      <th></th>\n",
       "      <th></th>\n",
       "      <th></th>\n",
       "      <th></th>\n",
       "      <th></th>\n",
       "      <th></th>\n",
       "    </tr>\n",
       "  </thead>\n",
       "  <tbody>\n",
       "    <tr>\n",
       "      <th>2023-03-01 00:00:00</th>\n",
       "      <td>15.283</td>\n",
       "      <td>8.425</td>\n",
       "      <td>176.405</td>\n",
       "      <td>44.984</td>\n",
       "      <td>221.389</td>\n",
       "      <td>0.121263</td>\n",
       "      <td>-0.417690</td>\n",
       "      <td>0.005399</td>\n",
       "      <td>0.125948</td>\n",
       "      <td>0.058359</td>\n",
       "      <td>...</td>\n",
       "      <td>1.925423</td>\n",
       "      <td>1.847943</td>\n",
       "      <td>0.005676</td>\n",
       "      <td>0.190791</td>\n",
       "      <td>0.369691</td>\n",
       "      <td>0.377630</td>\n",
       "      <td>0.210153</td>\n",
       "      <td>0.159183</td>\n",
       "      <td>0.530636</td>\n",
       "      <td>0.562539</td>\n",
       "    </tr>\n",
       "    <tr>\n",
       "      <th>2023-03-01 00:01:00</th>\n",
       "      <td>38.590</td>\n",
       "      <td>2.336</td>\n",
       "      <td>525.846</td>\n",
       "      <td>321.950</td>\n",
       "      <td>847.796</td>\n",
       "      <td>0.302841</td>\n",
       "      <td>-0.049576</td>\n",
       "      <td>0.356667</td>\n",
       "      <td>0.481087</td>\n",
       "      <td>0.237954</td>\n",
       "      <td>...</td>\n",
       "      <td>1.928569</td>\n",
       "      <td>1.849468</td>\n",
       "      <td>0.005227</td>\n",
       "      <td>0.184660</td>\n",
       "      <td>0.363642</td>\n",
       "      <td>0.374515</td>\n",
       "      <td>0.209573</td>\n",
       "      <td>0.158963</td>\n",
       "      <td>0.530269</td>\n",
       "      <td>0.533686</td>\n",
       "    </tr>\n",
       "    <tr>\n",
       "      <th>2023-03-01 00:02:00</th>\n",
       "      <td>0.442</td>\n",
       "      <td>60.250</td>\n",
       "      <td>159.227</td>\n",
       "      <td>136.369</td>\n",
       "      <td>295.596</td>\n",
       "      <td>0.167462</td>\n",
       "      <td>-0.291212</td>\n",
       "      <td>0.083138</td>\n",
       "      <td>0.206881</td>\n",
       "      <td>0.101727</td>\n",
       "      <td>...</td>\n",
       "      <td>1.928047</td>\n",
       "      <td>1.849282</td>\n",
       "      <td>0.004796</td>\n",
       "      <td>0.178719</td>\n",
       "      <td>0.357689</td>\n",
       "      <td>0.371424</td>\n",
       "      <td>0.208993</td>\n",
       "      <td>0.158744</td>\n",
       "      <td>0.529901</td>\n",
       "      <td>0.546505</td>\n",
       "    </tr>\n",
       "    <tr>\n",
       "      <th>2023-03-01 00:03:00</th>\n",
       "      <td>4.865</td>\n",
       "      <td>21.016</td>\n",
       "      <td>335.742</td>\n",
       "      <td>124.963</td>\n",
       "      <td>460.705</td>\n",
       "      <td>0.072944</td>\n",
       "      <td>-0.436590</td>\n",
       "      <td>-0.102483</td>\n",
       "      <td>0.017551</td>\n",
       "      <td>0.007149</td>\n",
       "      <td>...</td>\n",
       "      <td>1.928621</td>\n",
       "      <td>1.849608</td>\n",
       "      <td>0.004398</td>\n",
       "      <td>0.172967</td>\n",
       "      <td>0.351832</td>\n",
       "      <td>0.368358</td>\n",
       "      <td>0.208416</td>\n",
       "      <td>0.158524</td>\n",
       "      <td>0.529534</td>\n",
       "      <td>0.357703</td>\n",
       "    </tr>\n",
       "    <tr>\n",
       "      <th>2023-03-01 00:04:00</th>\n",
       "      <td>27.158</td>\n",
       "      <td>3.451</td>\n",
       "      <td>98.411</td>\n",
       "      <td>44.407</td>\n",
       "      <td>142.818</td>\n",
       "      <td>0.173820</td>\n",
       "      <td>-0.213489</td>\n",
       "      <td>0.096067</td>\n",
       "      <td>0.215709</td>\n",
       "      <td>0.107133</td>\n",
       "      <td>...</td>\n",
       "      <td>1.927084</td>\n",
       "      <td>1.848950</td>\n",
       "      <td>0.004008</td>\n",
       "      <td>0.167391</td>\n",
       "      <td>0.346066</td>\n",
       "      <td>0.365314</td>\n",
       "      <td>0.207839</td>\n",
       "      <td>0.158304</td>\n",
       "      <td>0.529167</td>\n",
       "      <td>0.362452</td>\n",
       "    </tr>\n",
       "  </tbody>\n",
       "</table>\n",
       "<p>5 rows × 896 columns</p>\n",
       "</div>"
      ],
      "text/plain": [
       "                     bid_qty  ask_qty  buy_qty  sell_qty   volume        X1  \\\n",
       "timestamp                                                                     \n",
       "2023-03-01 00:00:00   15.283    8.425  176.405    44.984  221.389  0.121263   \n",
       "2023-03-01 00:01:00   38.590    2.336  525.846   321.950  847.796  0.302841   \n",
       "2023-03-01 00:02:00    0.442   60.250  159.227   136.369  295.596  0.167462   \n",
       "2023-03-01 00:03:00    4.865   21.016  335.742   124.963  460.705  0.072944   \n",
       "2023-03-01 00:04:00   27.158    3.451   98.411    44.407  142.818  0.173820   \n",
       "\n",
       "                           X2        X3        X4        X5  ...      X882  \\\n",
       "timestamp                                                    ...             \n",
       "2023-03-01 00:00:00 -0.417690  0.005399  0.125948  0.058359  ...  1.925423   \n",
       "2023-03-01 00:01:00 -0.049576  0.356667  0.481087  0.237954  ...  1.928569   \n",
       "2023-03-01 00:02:00 -0.291212  0.083138  0.206881  0.101727  ...  1.928047   \n",
       "2023-03-01 00:03:00 -0.436590 -0.102483  0.017551  0.007149  ...  1.928621   \n",
       "2023-03-01 00:04:00 -0.213489  0.096067  0.215709  0.107133  ...  1.927084   \n",
       "\n",
       "                         X883      X884      X885      X886      X887  \\\n",
       "timestamp                                                               \n",
       "2023-03-01 00:00:00  1.847943  0.005676  0.190791  0.369691  0.377630   \n",
       "2023-03-01 00:01:00  1.849468  0.005227  0.184660  0.363642  0.374515   \n",
       "2023-03-01 00:02:00  1.849282  0.004796  0.178719  0.357689  0.371424   \n",
       "2023-03-01 00:03:00  1.849608  0.004398  0.172967  0.351832  0.368358   \n",
       "2023-03-01 00:04:00  1.848950  0.004008  0.167391  0.346066  0.365314   \n",
       "\n",
       "                         X888      X889      X890     label  \n",
       "timestamp                                                    \n",
       "2023-03-01 00:00:00  0.210153  0.159183  0.530636  0.562539  \n",
       "2023-03-01 00:01:00  0.209573  0.158963  0.530269  0.533686  \n",
       "2023-03-01 00:02:00  0.208993  0.158744  0.529901  0.546505  \n",
       "2023-03-01 00:03:00  0.208416  0.158524  0.529534  0.357703  \n",
       "2023-03-01 00:04:00  0.207839  0.158304  0.529167  0.362452  \n",
       "\n",
       "[5 rows x 896 columns]"
      ]
     },
     "execution_count": 2,
     "metadata": {},
     "output_type": "execute_result"
    }
   ],
   "source": [
    "current_dir = Path.cwd()\n",
    "parent_dir  = current_dir.parent\n",
    "\n",
    "file_path   = parent_dir.parent / 'train.parquet'\n",
    "print(file_path)\n",
    "\n",
    "df = pd.read_parquet(file_path)\n",
    "df.head()"
   ]
  },
  {
   "cell_type": "code",
   "execution_count": 3,
   "id": "66dede76",
   "metadata": {},
   "outputs": [
    {
     "data": {
      "text/plain": [
       "<Axes: title={'center': 'volume over time'}, xlabel='timestamp', ylabel='volume'>"
      ]
     },
     "execution_count": 3,
     "metadata": {},
     "output_type": "execute_result"
    },
    {
     "data": {
      "image/png": "[encoded data removed]",
      "text/plain": [
       "<Figure size 1200x600 with 1 Axes>"
      ]
     },
     "metadata": {},
     "output_type": "display_data"
    }
   ],
   "source": [
    "df[['volume']].plot(\n",
    "    figsize=(12,6),\n",
    "    title=\"volume over time\",\n",
    "    xlabel=\"timestamp\",\n",
    "    ylabel=\"volume\",\n",
    ")\n"
   ]
  },
  {
   "cell_type": "code",
   "execution_count": 4,
   "id": "0dae0d53",
   "metadata": {},
   "outputs": [
    {
     "data": {
      "text/plain": [
       "<Axes: xlabel='timestamp'>"
      ]
     },
     "execution_count": 4,
     "metadata": {},
     "output_type": "execute_result"
    },
    {
     "data": {
      "image/png": "[encoded data removed]",
      "text/plain": [
       "<Figure size 1200x600 with 1 Axes>"
      ]
     },
     "metadata": {},
     "output_type": "display_data"
    }
   ],
   "source": [
    "# a week of data starting from the first monday of september 2023 to the next\n",
    "df[['X71','X882', 'X883', 'X884', 'X885', 'X886', 'X887', 'X888', 'X889', 'X890']].loc[(df.index > '09-04-2023') & (df.index < '09-12-2023')].plot(\n",
    "    figsize=(12,6),\n",
    "    \n",
    ")"
   ]
  },
  {
   "cell_type": "code",
   "execution_count": 5,
   "id": "aebe49fb",
   "metadata": {},
   "outputs": [
    {
     "data": {
      "text/plain": [
       "<Axes: xlabel='timestamp'>"
      ]
     },
     "execution_count": 5,
     "metadata": {},
     "output_type": "execute_result"
    },
    {
     "data": {
      "image/png": "[encoded data removed]",
      "text/plain": [
       "<Figure size 1200x600 with 1 Axes>"
      ]
     },
     "metadata": {},
     "output_type": "display_data"
    }
   ],
   "source": [
    "df[['X781','X782', 'X783', 'X784', 'X785', 'X786', 'X787', 'X788', 'X789', 'X790']].loc[(df.index > '09-04-2023') & (df.index < '09-12-2023')].plot(\n",
    "    figsize=(12,6),\n",
    "    \n",
    ")"
   ]
  },
  {
   "cell_type": "code",
   "execution_count": 6,
   "id": "28589511",
   "metadata": {},
   "outputs": [
    {
     "data": {
      "text/plain": [
       "<Axes: xlabel='timestamp'>"
      ]
     },
     "execution_count": 6,
     "metadata": {},
     "output_type": "execute_result"
    },
    {
     "data": {
      "image/png": "[encoded data removed]",
      "text/plain": [
       "<Figure size 1200x600 with 1 Axes>"
      ]
     },
     "metadata": {},
     "output_type": "display_data"
    }
   ],
   "source": [
    "df[['X681','X682', 'X683', 'X684', 'X685', 'X686', 'X687', 'X688', 'X689', 'X690']].loc[(df.index > '09-04-2023') & (df.index < '09-12-2023')].plot(\n",
    "    figsize=(12,6),\n",
    "    \n",
    ")"
   ]
  },
  {
   "cell_type": "markdown",
   "id": "c8301efc",
   "metadata": {},
   "source": [
    "# Create XGBoost Model"
   ]
  },
  {
   "cell_type": "code",
   "execution_count": null,
   "id": "751ad7b6",
   "metadata": {},
   "outputs": [],
   "source": []
  },
  {
   "cell_type": "code",
   "execution_count": 7,
   "id": "8b09a3e3",
   "metadata": {},
   "outputs": [
    {
     "data": {
      "text/plain": [
       "Index(['bid_qty', 'ask_qty', 'buy_qty', 'sell_qty', 'volume', 'X1', 'X2', 'X3',\n",
       "       'X4', 'X5',\n",
       "       ...\n",
       "       'X882', 'X883', 'X884', 'X885', 'X886', 'X887', 'X888', 'X889', 'X890',\n",
       "       'label'],\n",
       "      dtype='object', length=896)"
      ]
     },
     "execution_count": 7,
     "metadata": {},
     "output_type": "execute_result"
    }
   ],
   "source": [
    "df.columns"
   ]
  },
  {
   "cell_type": "code",
   "execution_count": 8,
   "id": "8664945a",
   "metadata": {},
   "outputs": [
    {
     "ename": "TypeError",
     "evalue": "XGBModel.fit() missing 2 required positional arguments: 'X' and 'y'",
     "output_type": "error",
     "traceback": [
      "\u001b[31m---------------------------------------------------------------------------\u001b[39m",
      "\u001b[31mTypeError\u001b[39m                                 Traceback (most recent call last)",
      "\u001b[36mCell\u001b[39m\u001b[36m \u001b[39m\u001b[32mIn[8]\u001b[39m\u001b[32m, line 2\u001b[39m\n\u001b[32m      1\u001b[39m reg = xgb.XGBRegressor(n_estimators=\u001b[32m1000\u001b[39m)\n\u001b[32m----> \u001b[39m\u001b[32m2\u001b[39m reg.fit()\n",
      "\u001b[36mFile \u001b[39m\u001b[32m~/anaconda3/envs/DWG-Crypto/lib/python3.11/site-packages/xgboost/core.py:729\u001b[39m, in \u001b[36mrequire_keyword_args.<locals>.throw_if.<locals>.inner_f\u001b[39m\u001b[34m(*args, **kwargs)\u001b[39m\n\u001b[32m    727\u001b[39m \u001b[38;5;28;01mfor\u001b[39;00m k, arg \u001b[38;5;129;01min\u001b[39;00m \u001b[38;5;28mzip\u001b[39m(sig.parameters, args):\n\u001b[32m    728\u001b[39m     kwargs[k] = arg\n\u001b[32m--> \u001b[39m\u001b[32m729\u001b[39m \u001b[38;5;28;01mreturn\u001b[39;00m func(**kwargs)\n",
      "\u001b[31mTypeError\u001b[39m: XGBModel.fit() missing 2 required positional arguments: 'X' and 'y'"
     ]
    }
   ],
   "source": [
    "reg = xgb.XGBRegressor(n_estimators=1000)\n",
    "reg.fit()"
   ]
  }
 ],
 "metadata": {
  "kernelspec": {
   "display_name": "DWG-Crypto",
   "language": "python",
   "name": "python3"
  },
  "language_info": {
   "codemirror_mode": {
    "name": "ipython",
    "version": 3
   },
   "file_extension": ".py",
   "mimetype": "text/x-python",
   "name": "python",
   "nbconvert_exporter": "python",
   "pygments_lexer": "ipython3",
   "version": "3.11.13"
  }
 },
 "nbformat": 4,
 "nbformat_minor": 5
}
